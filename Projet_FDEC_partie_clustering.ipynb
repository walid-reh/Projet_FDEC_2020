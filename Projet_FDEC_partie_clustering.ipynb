{
  "nbformat": 4,
  "nbformat_minor": 0,
  "metadata": {
    "kernelspec": {
      "display_name": "Python 3",
      "language": "python",
      "name": "python3"
    },
    "language_info": {
      "codemirror_mode": {
        "name": "ipython",
        "version": 3
      },
      "file_extension": ".py",
      "mimetype": "text/x-python",
      "name": "python",
      "nbconvert_exporter": "python",
      "pygments_lexer": "ipython3",
      "version": "3.8.5"
    },
    "colab": {
      "name": "FDEC-2021.txt",
      "provenance": [],
      "toc_visible": true
    }
  },
  "cells": [
    {
      "cell_type": "markdown",
      "metadata": {
        "id": "fiO6aSdOrlHv"
      },
      "source": [
        "**Fouille de données et Extraction de Connaissances - Projet final**\r\n",
        "\r\n",
        "Bastien LOM - Walid REHIOUI\r\n",
        "\r\n",
        "Reprise du défi de la conférence ECG 2018 :\r\n",
        "\r\n",
        "Un défi sous le soleil de l’Île de La Réunion\r\n"
      ]
    },
    {
      "cell_type": "markdown",
      "metadata": {
        "id": "FqdKol3arwZV"
      },
      "source": [
        "# Partie clustering et prédiction"
      ]
    },
    {
      "cell_type": "code",
      "metadata": {
        "id": "Y0e_Xhd0_jl6"
      },
      "source": [
        "import pandas as pd\n",
        "import numpy as np\n",
        "import seaborn as sns\n",
        "import matplotlib.pyplot as plt\n",
        "from scipy import stats\n",
        "plt.style.use(\"ggplot\")\n",
        "import warnings\n",
        "warnings.filterwarnings(\"ignore\")\n",
        "from scipy import stats\n",
        "\n",
        "import pandas as pd\n",
        "import matplotlib.pyplot as plt\n",
        "\n",
        "%matplotlib inline\n",
        "sns.set_style('whitegrid')"
      ],
      "execution_count": null,
      "outputs": []
    },
    {
      "cell_type": "code",
      "metadata": {
        "id": "B651vbS8_jmT"
      },
      "source": [
        "\n",
        "\n",
        "import plotly.express as px\n",
        "\n",
        "df = pd.read_csv(\"possession_2014_2015.csv\")\n",
        "df1 = pd.read_csv(\"moufia_2014_2015.csv\")\n",
        "df2 = pd.read_csv(\"saintandre_2014_2015.csv\")\n",
        "df3 = pd.read_csv(\"saintleu_2014_2015.csv\")\n",
        "df4 = pd.read_csv(\"saintpierre_2014_2015.csv\")\n",
        "\n",
        "#fig = px.line(df, x='Timestamp', y=\"FD_Avg\")\n",
        "#fig.show()\n"
      ],
      "execution_count": null,
      "outputs": []
    },
    {
      "cell_type": "code",
      "metadata": {
        "colab": {
          "base_uri": "https://localhost:8080/",
          "height": 178
        },
        "id": "c_0vfeUT_jmU",
        "outputId": "31ddaa2a-5700-4836-a0b0-608b2cbfc0c5"
      },
      "source": [
        "fig = px.line(df, x='Timestamp', y=\"FG_Avg\")\n",
        "fig.show()"
      ],
      "execution_count": 1,
      "outputs": [
        {
          "output_type": "error",
          "ename": "NameError",
          "evalue": "ignored",
          "traceback": [
            "\u001b[0;31m---------------------------------------------------------------------------\u001b[0m",
            "\u001b[0;31mNameError\u001b[0m                                 Traceback (most recent call last)",
            "\u001b[0;32m<ipython-input-1-1d52e29ddff8>\u001b[0m in \u001b[0;36m<module>\u001b[0;34m()\u001b[0m\n\u001b[0;32m----> 1\u001b[0;31m \u001b[0mfig\u001b[0m \u001b[0;34m=\u001b[0m \u001b[0mpx\u001b[0m\u001b[0;34m.\u001b[0m\u001b[0mline\u001b[0m\u001b[0;34m(\u001b[0m\u001b[0mdf\u001b[0m\u001b[0;34m,\u001b[0m \u001b[0mx\u001b[0m\u001b[0;34m=\u001b[0m\u001b[0;34m'Timestamp'\u001b[0m\u001b[0;34m,\u001b[0m \u001b[0my\u001b[0m\u001b[0;34m=\u001b[0m\u001b[0;34m\"FG_Avg\"\u001b[0m\u001b[0;34m)\u001b[0m\u001b[0;34m\u001b[0m\u001b[0;34m\u001b[0m\u001b[0m\n\u001b[0m\u001b[1;32m      2\u001b[0m \u001b[0mfig\u001b[0m\u001b[0;34m.\u001b[0m\u001b[0mshow\u001b[0m\u001b[0;34m(\u001b[0m\u001b[0;34m)\u001b[0m\u001b[0;34m\u001b[0m\u001b[0;34m\u001b[0m\u001b[0m\n",
            "\u001b[0;31mNameError\u001b[0m: name 'px' is not defined"
          ]
        }
      ]
    },
    {
      "cell_type": "code",
      "metadata": {
        "id": "2FqvA923_jm5"
      },
      "source": [
        "#d = datetime(2015, 1, 1, 0, 0,0)\n",
        "#d_stamp=df[df[\"Timestamp\"]<d ]\n",
        "\n",
        "#fig = px.line(d_stamp, x='Timestamp', y=\"FG_Avg\")\n",
        "#fig.show()"
      ],
      "execution_count": null,
      "outputs": []
    },
    {
      "cell_type": "markdown",
      "metadata": {
        "id": "9z2rALBO_jm6"
      },
      "source": [
        "# IMPORT DES AUTRES BASES"
      ]
    },
    {
      "cell_type": "code",
      "metadata": {
        "id": "gOVRJQiR_jm7"
      },
      "source": [
        "df = pd.read_csv(\"possession_2014_2015.csv\")\n",
        "df1 = pd.read_csv(\"moufia_2014_2015.csv\")\n",
        "df2 = pd.read_csv(\"saintandre_2014_2015.csv\")\n",
        "df3 = pd.read_csv(\"saintleu_2014_2015.csv\")\n",
        "df4 = pd.read_csv(\"saintpierre_2014_2015.csv\")"
      ],
      "execution_count": null,
      "outputs": []
    },
    {
      "cell_type": "markdown",
      "metadata": {
        "id": "0HTnve3B_jm7"
      },
      "source": [
        "# EXPLORATION DE LA BASE POSSESSION"
      ]
    },
    {
      "cell_type": "code",
      "metadata": {
        "id": "0AJ7ANB6_jm8",
        "outputId": "b1f5183d-c666-4a1c-acc5-87682ca781cf"
      },
      "source": [
        "df.head()"
      ],
      "execution_count": null,
      "outputs": [
        {
          "output_type": "execute_result",
          "data": {
            "text/html": [
              "<div>\n",
              "<style scoped>\n",
              "    .dataframe tbody tr th:only-of-type {\n",
              "        vertical-align: middle;\n",
              "    }\n",
              "\n",
              "    .dataframe tbody tr th {\n",
              "        vertical-align: top;\n",
              "    }\n",
              "\n",
              "    .dataframe thead th {\n",
              "        text-align: right;\n",
              "    }\n",
              "</style>\n",
              "<table border=\"1\" class=\"dataframe\">\n",
              "  <thead>\n",
              "    <tr style=\"text-align: right;\">\n",
              "      <th></th>\n",
              "      <th>Timestamp</th>\n",
              "      <th>FD_Avg</th>\n",
              "      <th>FG_Avg</th>\n",
              "      <th>Patm_Avg</th>\n",
              "      <th>RH_Avg</th>\n",
              "      <th>Text_Avg</th>\n",
              "      <th>WD_MeanUnitVector</th>\n",
              "      <th>WS_Mean</th>\n",
              "    </tr>\n",
              "  </thead>\n",
              "  <tbody>\n",
              "    <tr>\n",
              "      <th>0</th>\n",
              "      <td>2014-01-01 00:00:00</td>\n",
              "      <td>3.298</td>\n",
              "      <td>1.565</td>\n",
              "      <td>1009.600</td>\n",
              "      <td>62.36666</td>\n",
              "      <td>26.7</td>\n",
              "      <td>139.3986</td>\n",
              "      <td>1.316667</td>\n",
              "    </tr>\n",
              "    <tr>\n",
              "      <th>1</th>\n",
              "      <td>2014-01-01 00:01:00</td>\n",
              "      <td>3.466</td>\n",
              "      <td>3.913</td>\n",
              "      <td>1009.600</td>\n",
              "      <td>62.26666</td>\n",
              "      <td>26.7</td>\n",
              "      <td>132.1638</td>\n",
              "      <td>2.200000</td>\n",
              "    </tr>\n",
              "    <tr>\n",
              "      <th>2</th>\n",
              "      <td>2014-01-01 00:02:00</td>\n",
              "      <td>0.839</td>\n",
              "      <td>1.453</td>\n",
              "      <td>1009.600</td>\n",
              "      <td>62.03333</td>\n",
              "      <td>26.7</td>\n",
              "      <td>123.2599</td>\n",
              "      <td>1.866667</td>\n",
              "    </tr>\n",
              "    <tr>\n",
              "      <th>3</th>\n",
              "      <td>2014-01-01 00:03:00</td>\n",
              "      <td>3.354</td>\n",
              "      <td>1.621</td>\n",
              "      <td>1009.600</td>\n",
              "      <td>61.78333</td>\n",
              "      <td>26.7</td>\n",
              "      <td>122.6728</td>\n",
              "      <td>2.066667</td>\n",
              "    </tr>\n",
              "    <tr>\n",
              "      <th>4</th>\n",
              "      <td>2014-01-01 00:04:00</td>\n",
              "      <td>0.894</td>\n",
              "      <td>3.857</td>\n",
              "      <td>1009.533</td>\n",
              "      <td>61.56667</td>\n",
              "      <td>26.7</td>\n",
              "      <td>132.4675</td>\n",
              "      <td>2.116667</td>\n",
              "    </tr>\n",
              "  </tbody>\n",
              "</table>\n",
              "</div>"
            ],
            "text/plain": [
              "             Timestamp  FD_Avg  FG_Avg  Patm_Avg    RH_Avg  Text_Avg  \\\n",
              "0  2014-01-01 00:00:00   3.298   1.565  1009.600  62.36666      26.7   \n",
              "1  2014-01-01 00:01:00   3.466   3.913  1009.600  62.26666      26.7   \n",
              "2  2014-01-01 00:02:00   0.839   1.453  1009.600  62.03333      26.7   \n",
              "3  2014-01-01 00:03:00   3.354   1.621  1009.600  61.78333      26.7   \n",
              "4  2014-01-01 00:04:00   0.894   3.857  1009.533  61.56667      26.7   \n",
              "\n",
              "   WD_MeanUnitVector   WS_Mean  \n",
              "0           139.3986  1.316667  \n",
              "1           132.1638  2.200000  \n",
              "2           123.2599  1.866667  \n",
              "3           122.6728  2.066667  \n",
              "4           132.4675  2.116667  "
            ]
          },
          "metadata": {
            "tags": []
          },
          "execution_count": 88
        }
      ]
    },
    {
      "cell_type": "code",
      "metadata": {
        "id": "ZRqeiTgb_jm9",
        "outputId": "7b853578-93b7-440d-b90b-bd5904129312"
      },
      "source": [
        "min(df[\"Patm_Avg\"])  ##### y'a des valeurs nulls "
      ],
      "execution_count": null,
      "outputs": [
        {
          "output_type": "execute_result",
          "data": {
            "text/plain": [
              "992.4"
            ]
          },
          "metadata": {
            "tags": []
          },
          "execution_count": 89
        }
      ]
    },
    {
      "cell_type": "code",
      "metadata": {
        "id": "uFQbKUMn_jm-",
        "outputId": "01339561-cf05-48f6-ee0e-a3fa2e126f5d"
      },
      "source": [
        "max(df[\"FG_Avg\"])"
      ],
      "execution_count": null,
      "outputs": [
        {
          "output_type": "execute_result",
          "data": {
            "text/plain": [
              "1639.0"
            ]
          },
          "metadata": {
            "tags": []
          },
          "execution_count": 90
        }
      ]
    },
    {
      "cell_type": "code",
      "metadata": {
        "id": "-Hsk-HJw_jm-",
        "outputId": "8c58b15e-70d0-4ec1-e226-ba760e1c6203"
      },
      "source": [
        "max(df[\"FD_Avg\"])"
      ],
      "execution_count": null,
      "outputs": [
        {
          "output_type": "execute_result",
          "data": {
            "text/plain": [
              "726.6"
            ]
          },
          "metadata": {
            "tags": []
          },
          "execution_count": 91
        }
      ]
    },
    {
      "cell_type": "code",
      "metadata": {
        "id": "EWV4CApT_jm_",
        "outputId": "45505c92-ca4c-40a6-e2cb-2568e4349dd4"
      },
      "source": [
        "df.info()"
      ],
      "execution_count": null,
      "outputs": [
        {
          "output_type": "stream",
          "text": [
            "<class 'pandas.core.frame.DataFrame'>\n",
            "RangeIndex: 1049582 entries, 0 to 1049581\n",
            "Data columns (total 8 columns):\n",
            " #   Column             Non-Null Count    Dtype  \n",
            "---  ------             --------------    -----  \n",
            " 0   Timestamp          1049582 non-null  object \n",
            " 1   FD_Avg             1049582 non-null  float64\n",
            " 2   FG_Avg             1049582 non-null  float64\n",
            " 3   Patm_Avg           1049582 non-null  float64\n",
            " 4   RH_Avg             1049582 non-null  float64\n",
            " 5   Text_Avg           1049582 non-null  float64\n",
            " 6   WD_MeanUnitVector  1049582 non-null  float64\n",
            " 7   WS_Mean            1049582 non-null  float64\n",
            "dtypes: float64(7), object(1)\n",
            "memory usage: 64.1+ MB\n"
          ],
          "name": "stdout"
        }
      ]
    },
    {
      "cell_type": "markdown",
      "metadata": {
        "id": "dvkuEj5G_jnA"
      },
      "source": [
        "# HISTOGRAMMES"
      ]
    },
    {
      "cell_type": "code",
      "metadata": {
        "id": "d2muUlm0_jnA",
        "outputId": "ce7ca2b1-dd79-4a7d-9a40-27d56e52481f"
      },
      "source": [
        "import matplotlib.pyplot as plt\n",
        "plt.figure(1)\n",
        "plt.hist(x=df[\"FD_Avg\"])\n",
        "plt.figure(2)\n",
        "plt.hist(x=df[\"FG_Avg\"])\n",
        "plt.figure(3)\n",
        "plt.hist(x=df[\"Patm_Avg\"])\n",
        "plt.figure(4)\n",
        "plt.hist(x=df[\"RH_Avg\"])\n",
        "plt.figure(5)\n",
        "plt.hist(x=df[\"Text_Avg\"])\n",
        "plt.figure(6)\n",
        "plt.hist(x=df[\"WD_MeanUnitVector\"])\n",
        "plt.figure(7)\n",
        "plt.hist(x=df[\"WS_Mean\"])"
      ],
      "execution_count": null,
      "outputs": [
        {
          "output_type": "execute_result",
          "data": {
            "text/plain": [
              "(array([6.47079e+05, 3.43030e+05, 4.98430e+04, 8.01500e+03, 1.06600e+03,\n",
              "        3.61000e+02, 1.39000e+02, 3.50000e+01, 1.30000e+01, 1.00000e+00]),\n",
              " array([ 0.05    ,  1.848333,  3.646666,  5.444999,  7.243332,  9.041665,\n",
              "        10.839998, 12.638331, 14.436664, 16.234997, 18.03333 ]),\n",
              " <BarContainer object of 10 artists>)"
            ]
          },
          "metadata": {
            "tags": []
          },
          "execution_count": 93
        },
        {
          "output_type": "display_data",
          "data": {
            "image/png": "[encoded data removed]",
            "text/plain": [
              "<Figure size 432x288 with 1 Axes>"
            ]
          },
          "metadata": {
            "tags": []
          }
        },
        {
          "output_type": "display_data",
          "data": {
            "image/png": "[encoded data removed]",
            "text/plain": [
              "<Figure size 432x288 with 1 Axes>"
            ]
          },
          "metadata": {
            "tags": []
          }
        },
        {
          "output_type": "display_data",
          "data": {
            "image/png": "[encoded data removed]",
            "text/plain": [
              "<Figure size 432x288 with 1 Axes>"
            ]
          },
          "metadata": {
            "tags": []
          }
        },
        {
          "output_type": "display_data",
          "data": {
            "image/png": "[encoded data removed]",
            "text/plain": [
              "<Figure size 432x288 with 1 Axes>"
            ]
          },
          "metadata": {
            "tags": []
          }
        },
        {
          "output_type": "display_data",
          "data": {
            "image/png": "[encoded data removed]",
            "text/plain": [
              "<Figure size 432x288 with 1 Axes>"
            ]
          },
          "metadata": {
            "tags": []
          }
        },
        {
          "output_type": "display_data",
          "data": {
            "image/png": "[encoded data removed]",
            "text/plain": [
              "<Figure size 432x288 with 1 Axes>"
            ]
          },
          "metadata": {
            "tags": []
          }
        },
        {
          "output_type": "display_data",
          "data": {
            "image/png": "[encoded data removed]",
            "text/plain": [
              "<Figure size 432x288 with 1 Axes>"
            ]
          },
          "metadata": {
            "tags": []
          }
        }
      ]
    },
    {
      "cell_type": "markdown",
      "metadata": {
        "id": "3GkRSMhz_jnB"
      },
      "source": [
        "Preprocesing "
      ]
    },
    {
      "cell_type": "code",
      "metadata": {
        "id": "Noyrjc2n_jnC"
      },
      "source": [
        "df[\"Kb\"]=(df[\"FG_Avg\"]-df[\"FD_Avg\"])/df[\"FG_Avg\"]"
      ],
      "execution_count": null,
      "outputs": []
    },
    {
      "cell_type": "code",
      "metadata": {
        "id": "4a8pmdt0_jnC"
      },
      "source": [
        "df1[\"Kb\"]=(df1[\"FG_Avg\"]-df1[\"FD_Avg\"])/df1[\"FG_Avg\"]\n",
        "df2[\"Kb\"]=(df2[\"FG_Avg\"]-df2[\"FD_Avg\"])/df2[\"FG_Avg\"]\n",
        "df3[\"Kb\"]=(df3[\"FG_Avg\"]-df3[\"FD_Avg\"])/df3[\"FG_Avg\"]\n",
        "df4[\"Kb\"]=(df4[\"FG_Avg\"]-df4[\"FD_Avg\"])/df4[\"FG_Avg\"]"
      ],
      "execution_count": null,
      "outputs": []
    },
    {
      "cell_type": "code",
      "metadata": {
        "id": "Rk7h2CNw_jnD",
        "outputId": "aa93c7c2-62bc-4515-9ca3-e3cae700b051"
      },
      "source": [
        "min(df[\"Kb\"])###### des valeurs de Kb négative"
      ],
      "execution_count": null,
      "outputs": [
        {
          "output_type": "execute_result",
          "data": {
            "text/plain": [
              "-8.241773962804006"
            ]
          },
          "metadata": {
            "tags": []
          },
          "execution_count": 96
        }
      ]
    },
    {
      "cell_type": "code",
      "metadata": {
        "id": "7Xm4bOgb_jnD",
        "outputId": "905215ed-66d4-4581-bc83-854c1a97ae8d"
      },
      "source": [
        "df"
      ],
      "execution_count": null,
      "outputs": [
        {
          "output_type": "execute_result",
          "data": {
            "text/html": [
              "<div>\n",
              "<style scoped>\n",
              "    .dataframe tbody tr th:only-of-type {\n",
              "        vertical-align: middle;\n",
              "    }\n",
              "\n",
              "    .dataframe tbody tr th {\n",
              "        vertical-align: top;\n",
              "    }\n",
              "\n",
              "    .dataframe thead th {\n",
              "        text-align: right;\n",
              "    }\n",
              "</style>\n",
              "<table border=\"1\" class=\"dataframe\">\n",
              "  <thead>\n",
              "    <tr style=\"text-align: right;\">\n",
              "      <th></th>\n",
              "      <th>Timestamp</th>\n",
              "      <th>FD_Avg</th>\n",
              "      <th>FG_Avg</th>\n",
              "      <th>Patm_Avg</th>\n",
              "      <th>RH_Avg</th>\n",
              "      <th>Text_Avg</th>\n",
              "      <th>WD_MeanUnitVector</th>\n",
              "      <th>WS_Mean</th>\n",
              "      <th>Kb</th>\n",
              "    </tr>\n",
              "  </thead>\n",
              "  <tbody>\n",
              "    <tr>\n",
              "      <th>0</th>\n",
              "      <td>2014-01-01 00:00:00</td>\n",
              "      <td>3.298</td>\n",
              "      <td>1.565</td>\n",
              "      <td>1009.600</td>\n",
              "      <td>62.36666</td>\n",
              "      <td>26.70000</td>\n",
              "      <td>139.39860</td>\n",
              "      <td>1.316667</td>\n",
              "      <td>-1.107348</td>\n",
              "    </tr>\n",
              "    <tr>\n",
              "      <th>1</th>\n",
              "      <td>2014-01-01 00:01:00</td>\n",
              "      <td>3.466</td>\n",
              "      <td>3.913</td>\n",
              "      <td>1009.600</td>\n",
              "      <td>62.26666</td>\n",
              "      <td>26.70000</td>\n",
              "      <td>132.16380</td>\n",
              "      <td>2.200000</td>\n",
              "      <td>0.114235</td>\n",
              "    </tr>\n",
              "    <tr>\n",
              "      <th>2</th>\n",
              "      <td>2014-01-01 00:02:00</td>\n",
              "      <td>0.839</td>\n",
              "      <td>1.453</td>\n",
              "      <td>1009.600</td>\n",
              "      <td>62.03333</td>\n",
              "      <td>26.70000</td>\n",
              "      <td>123.25990</td>\n",
              "      <td>1.866667</td>\n",
              "      <td>0.422574</td>\n",
              "    </tr>\n",
              "    <tr>\n",
              "      <th>3</th>\n",
              "      <td>2014-01-01 00:03:00</td>\n",
              "      <td>3.354</td>\n",
              "      <td>1.621</td>\n",
              "      <td>1009.600</td>\n",
              "      <td>61.78333</td>\n",
              "      <td>26.70000</td>\n",
              "      <td>122.67280</td>\n",
              "      <td>2.066667</td>\n",
              "      <td>-1.069093</td>\n",
              "    </tr>\n",
              "    <tr>\n",
              "      <th>4</th>\n",
              "      <td>2014-01-01 00:04:00</td>\n",
              "      <td>0.894</td>\n",
              "      <td>3.857</td>\n",
              "      <td>1009.533</td>\n",
              "      <td>61.56667</td>\n",
              "      <td>26.70000</td>\n",
              "      <td>132.46750</td>\n",
              "      <td>2.116667</td>\n",
              "      <td>0.768214</td>\n",
              "    </tr>\n",
              "    <tr>\n",
              "      <th>...</th>\n",
              "      <td>...</td>\n",
              "      <td>...</td>\n",
              "      <td>...</td>\n",
              "      <td>...</td>\n",
              "      <td>...</td>\n",
              "      <td>...</td>\n",
              "      <td>...</td>\n",
              "      <td>...</td>\n",
              "      <td>...</td>\n",
              "    </tr>\n",
              "    <tr>\n",
              "      <th>1049577</th>\n",
              "      <td>2015-12-30 23:56:00</td>\n",
              "      <td>5.762</td>\n",
              "      <td>4.028</td>\n",
              "      <td>1010.000</td>\n",
              "      <td>85.05000</td>\n",
              "      <td>22.90000</td>\n",
              "      <td>118.23870</td>\n",
              "      <td>1.266667</td>\n",
              "      <td>-0.430487</td>\n",
              "    </tr>\n",
              "    <tr>\n",
              "      <th>1049578</th>\n",
              "      <td>2015-12-30 23:57:00</td>\n",
              "      <td>3.244</td>\n",
              "      <td>4.139</td>\n",
              "      <td>1010.000</td>\n",
              "      <td>85.16666</td>\n",
              "      <td>22.90000</td>\n",
              "      <td>102.99080</td>\n",
              "      <td>1.500000</td>\n",
              "      <td>0.216236</td>\n",
              "    </tr>\n",
              "    <tr>\n",
              "      <th>1049579</th>\n",
              "      <td>2015-12-30 23:58:00</td>\n",
              "      <td>3.300</td>\n",
              "      <td>1.566</td>\n",
              "      <td>1009.967</td>\n",
              "      <td>85.16666</td>\n",
              "      <td>22.91666</td>\n",
              "      <td>109.99880</td>\n",
              "      <td>1.500000</td>\n",
              "      <td>-1.107280</td>\n",
              "    </tr>\n",
              "    <tr>\n",
              "      <th>1049580</th>\n",
              "      <td>2015-12-30 23:59:00</td>\n",
              "      <td>3.244</td>\n",
              "      <td>3.860</td>\n",
              "      <td>1009.900</td>\n",
              "      <td>85.13333</td>\n",
              "      <td>22.90000</td>\n",
              "      <td>100.68010</td>\n",
              "      <td>1.283333</td>\n",
              "      <td>0.159585</td>\n",
              "    </tr>\n",
              "    <tr>\n",
              "      <th>1049581</th>\n",
              "      <td>2015-12-31 00:00:00</td>\n",
              "      <td>3.412</td>\n",
              "      <td>1.566</td>\n",
              "      <td>1009.900</td>\n",
              "      <td>85.14999</td>\n",
              "      <td>22.91666</td>\n",
              "      <td>98.99212</td>\n",
              "      <td>1.450000</td>\n",
              "      <td>-1.178799</td>\n",
              "    </tr>\n",
              "  </tbody>\n",
              "</table>\n",
              "<p>1049582 rows × 9 columns</p>\n",
              "</div>"
            ],
            "text/plain": [
              "                   Timestamp  FD_Avg  FG_Avg  Patm_Avg    RH_Avg  Text_Avg  \\\n",
              "0        2014-01-01 00:00:00   3.298   1.565  1009.600  62.36666  26.70000   \n",
              "1        2014-01-01 00:01:00   3.466   3.913  1009.600  62.26666  26.70000   \n",
              "2        2014-01-01 00:02:00   0.839   1.453  1009.600  62.03333  26.70000   \n",
              "3        2014-01-01 00:03:00   3.354   1.621  1009.600  61.78333  26.70000   \n",
              "4        2014-01-01 00:04:00   0.894   3.857  1009.533  61.56667  26.70000   \n",
              "...                      ...     ...     ...       ...       ...       ...   \n",
              "1049577  2015-12-30 23:56:00   5.762   4.028  1010.000  85.05000  22.90000   \n",
              "1049578  2015-12-30 23:57:00   3.244   4.139  1010.000  85.16666  22.90000   \n",
              "1049579  2015-12-30 23:58:00   3.300   1.566  1009.967  85.16666  22.91666   \n",
              "1049580  2015-12-30 23:59:00   3.244   3.860  1009.900  85.13333  22.90000   \n",
              "1049581  2015-12-31 00:00:00   3.412   1.566  1009.900  85.14999  22.91666   \n",
              "\n",
              "         WD_MeanUnitVector   WS_Mean        Kb  \n",
              "0                139.39860  1.316667 -1.107348  \n",
              "1                132.16380  2.200000  0.114235  \n",
              "2                123.25990  1.866667  0.422574  \n",
              "3                122.67280  2.066667 -1.069093  \n",
              "4                132.46750  2.116667  0.768214  \n",
              "...                    ...       ...       ...  \n",
              "1049577          118.23870  1.266667 -0.430487  \n",
              "1049578          102.99080  1.500000  0.216236  \n",
              "1049579          109.99880  1.500000 -1.107280  \n",
              "1049580          100.68010  1.283333  0.159585  \n",
              "1049581           98.99212  1.450000 -1.178799  \n",
              "\n",
              "[1049582 rows x 9 columns]"
            ]
          },
          "metadata": {
            "tags": []
          },
          "execution_count": 97
        }
      ]
    },
    {
      "cell_type": "code",
      "metadata": {
        "id": "UkGB3GlP_jnE",
        "outputId": "f25355ea-c786-4258-f7b6-3b580c7568cb"
      },
      "source": [
        "max(df[\"Kb\"])"
      ],
      "execution_count": null,
      "outputs": [
        {
          "output_type": "execute_result",
          "data": {
            "text/plain": [
              "0.9471653543307087"
            ]
          },
          "metadata": {
            "tags": []
          },
          "execution_count": 98
        }
      ]
    },
    {
      "cell_type": "code",
      "metadata": {
        "id": "y3oVM5ri_jnF",
        "outputId": "57784f85-fdeb-4155-8fb9-745127e01c9c"
      },
      "source": [
        "max(df1[\"Kb\"])"
      ],
      "execution_count": null,
      "outputs": [
        {
          "output_type": "execute_result",
          "data": {
            "text/plain": [
              "397.83098591549305"
            ]
          },
          "metadata": {
            "tags": []
          },
          "execution_count": 99
        }
      ]
    },
    {
      "cell_type": "code",
      "metadata": {
        "id": "_CMr5ir4_jnF"
      },
      "source": [
        "df=df[df[\"Kb\"]>=0]###### On enlève les valeurs aberrante"
      ],
      "execution_count": null,
      "outputs": []
    },
    {
      "cell_type": "code",
      "metadata": {
        "id": "F6zzbe4q_jnG"
      },
      "source": [
        "df1=df1[df1[\"Kb\"]>=0]\n",
        "df2=df2[df2[\"Kb\"]>=0]\n",
        "df3=df3[df3[\"Kb\"]>=0]\n",
        "df4=df4[df4[\"Kb\"]>=0]"
      ],
      "execution_count": null,
      "outputs": []
    },
    {
      "cell_type": "code",
      "metadata": {
        "id": "z5UUQpo2_jnG"
      },
      "source": [
        "df1=df1[df1[\"Kb\"]<=1]\n",
        "df2=df2[df2[\"Kb\"]<=1]\n",
        "df3=df3[df3[\"Kb\"]<=1]\n",
        "df4=df4[df4[\"Kb\"]<=1]"
      ],
      "execution_count": null,
      "outputs": []
    },
    {
      "cell_type": "code",
      "metadata": {
        "id": "ofV83Pdb_jnH",
        "outputId": "37d0c6d3-8419-4bb3-ec7a-3258674922ac"
      },
      "source": [
        "min(df[\"Kb\"])"
      ],
      "execution_count": null,
      "outputs": [
        {
          "output_type": "execute_result",
          "data": {
            "text/plain": [
              "0.0"
            ]
          },
          "metadata": {
            "tags": []
          },
          "execution_count": 103
        }
      ]
    },
    {
      "cell_type": "code",
      "metadata": {
        "id": "hW14SSDV_jnH",
        "outputId": "bdc5522a-4a7e-42e1-9621-9720fa979364"
      },
      "source": [
        "df.info()##### On vérifie"
      ],
      "execution_count": null,
      "outputs": [
        {
          "output_type": "stream",
          "text": [
            "<class 'pandas.core.frame.DataFrame'>\n",
            "Int64Index: 818071 entries, 1 to 1049580\n",
            "Data columns (total 9 columns):\n",
            " #   Column             Non-Null Count   Dtype  \n",
            "---  ------             --------------   -----  \n",
            " 0   Timestamp          818071 non-null  object \n",
            " 1   FD_Avg             818071 non-null  float64\n",
            " 2   FG_Avg             818071 non-null  float64\n",
            " 3   Patm_Avg           818071 non-null  float64\n",
            " 4   RH_Avg             818071 non-null  float64\n",
            " 5   Text_Avg           818071 non-null  float64\n",
            " 6   WD_MeanUnitVector  818071 non-null  float64\n",
            " 7   WS_Mean            818071 non-null  float64\n",
            " 8   Kb                 818071 non-null  float64\n",
            "dtypes: float64(8), object(1)\n",
            "memory usage: 62.4+ MB\n"
          ],
          "name": "stdout"
        }
      ]
    },
    {
      "cell_type": "markdown",
      "metadata": {
        "id": "n-kVr4h4_jnI"
      },
      "source": [
        "Les valeurs de Kb qui ne sont pas entre 0 et 1 ont été enlevé ce qui a représenté environ 22%"
      ]
    },
    {
      "cell_type": "code",
      "metadata": {
        "id": "Wn-Gnzg1_jnJ",
        "outputId": "d319da68-a3cc-4fa0-cc3d-31b35b2b9709"
      },
      "source": [
        "max(df[\"FG_Avg\"]) ### La valeur maximal de 1400 est dépassé on a encore des valeurs extrêmes!! On va les enlever"
      ],
      "execution_count": null,
      "outputs": [
        {
          "output_type": "execute_result",
          "data": {
            "text/plain": [
              "1639.0"
            ]
          },
          "metadata": {
            "tags": []
          },
          "execution_count": 105
        }
      ]
    },
    {
      "cell_type": "code",
      "metadata": {
        "id": "2W9A67_G_jnJ"
      },
      "source": [
        "df=df[df[\"FG_Avg\"]<=1400]\n",
        "df1=df1[df1[\"FG_Avg\"]<=1400]\n",
        "df2=df2[df2[\"FG_Avg\"]<=1400]\n",
        "df3=df3[df3[\"FG_Avg\"]<=1400]\n",
        "df4=df4[df4[\"FG_Avg\"]<=1400]"
      ],
      "execution_count": null,
      "outputs": []
    },
    {
      "cell_type": "code",
      "metadata": {
        "id": "egUE0fP6_jnK",
        "outputId": "8763e87d-8a77-48a0-9bb9-438137cc67a3"
      },
      "source": [
        "df.info()"
      ],
      "execution_count": null,
      "outputs": [
        {
          "output_type": "stream",
          "text": [
            "<class 'pandas.core.frame.DataFrame'>\n",
            "Int64Index: 817956 entries, 1 to 1049580\n",
            "Data columns (total 9 columns):\n",
            " #   Column             Non-Null Count   Dtype  \n",
            "---  ------             --------------   -----  \n",
            " 0   Timestamp          817956 non-null  object \n",
            " 1   FD_Avg             817956 non-null  float64\n",
            " 2   FG_Avg             817956 non-null  float64\n",
            " 3   Patm_Avg           817956 non-null  float64\n",
            " 4   RH_Avg             817956 non-null  float64\n",
            " 5   Text_Avg           817956 non-null  float64\n",
            " 6   WD_MeanUnitVector  817956 non-null  float64\n",
            " 7   WS_Mean            817956 non-null  float64\n",
            " 8   Kb                 817956 non-null  float64\n",
            "dtypes: float64(8), object(1)\n",
            "memory usage: 62.4+ MB\n"
          ],
          "name": "stdout"
        }
      ]
    },
    {
      "cell_type": "markdown",
      "metadata": {
        "id": "I3D4DBp6_jnK"
      },
      "source": [
        "On reste au alentours de 22% supprimés"
      ]
    },
    {
      "cell_type": "code",
      "metadata": {
        "id": "1Ty5wbxz_jnL",
        "outputId": "a8184e99-dd2a-49cc-dc25-21f39610fcee"
      },
      "source": [
        "max(df[\"FG_Avg\"])"
      ],
      "execution_count": null,
      "outputs": [
        {
          "output_type": "execute_result",
          "data": {
            "text/plain": [
              "1400.0"
            ]
          },
          "metadata": {
            "tags": []
          },
          "execution_count": 108
        }
      ]
    },
    {
      "cell_type": "markdown",
      "metadata": {
        "id": "TwhINUhS_jnL"
      },
      "source": [
        "### Box PLOT"
      ]
    },
    {
      "cell_type": "code",
      "metadata": {
        "id": "-2kJyTT9_jnM"
      },
      "source": [
        "#plt.boxplot(box_plot_data)\n",
        "\n",
        "import time\n",
        "from datetime import datetime\n",
        "\n",
        "\n",
        "d = datetime(2015, 1, 1, 0, 0,0)\n",
        "\n",
        "df['Timestamp'] = pd.to_datetime(df['Timestamp'], format='%Y%m%d %H:%M:%S')\n",
        "df1['Timestamp'] = pd.to_datetime(df1['Timestamp'], format='%Y%m%d %H:%M:%S')\n",
        "df2['Timestamp'] = pd.to_datetime(df2['Timestamp'], format='%Y%m%d %H:%M:%S')\n",
        "df3['Timestamp'] = pd.to_datetime(df3['Timestamp'], format='%Y%m%d %H:%M:%S')\n",
        "df4['Timestamp'] = pd.to_datetime(df4['Timestamp'], format='%Y%m%d %H:%M:%S')\n",
        "\n",
        "\n",
        "\n",
        "d = datetime(2015, 1, 1, 0,0)\n",
        "P_2014=df[df[\"Timestamp\"]<d ]\n",
        "P_2015=df[df[\"Timestamp\"]>=d]\n",
        "\n",
        "M_2014=df1[df1[\"Timestamp\"]<d ]\n",
        "M_2015=df1[df1[\"Timestamp\"]>=d]\n",
        "\n",
        "\n",
        "SA_2014=df2[df2[\"Timestamp\"]<d ]\n",
        "SA_2015=df2[df2[\"Timestamp\"]>=d]\n",
        "\n",
        "\n",
        "SL_2014=df3[df3[\"Timestamp\"]<d ]\n",
        "SL_2015=df3[df3[\"Timestamp\"]>=d]\n",
        "\n",
        "SP_2014=df4[df4[\"Timestamp\"]<d ]\n",
        "SP_2015=df4[df4[\"Timestamp\"]>=d]"
      ],
      "execution_count": null,
      "outputs": []
    },
    {
      "cell_type": "code",
      "metadata": {
        "id": "T_ZZqXJf_jnN"
      },
      "source": [
        "#### BOX PLOTS POUR KB"
      ],
      "execution_count": null,
      "outputs": []
    },
    {
      "cell_type": "code",
      "metadata": {
        "id": "b7uI001U_jnN",
        "outputId": "aa7af1ae-c950-47e3-dd35-d10ddb8aa20c"
      },
      "source": [
        "import matplotlib.pyplot as mp \n",
        "import seaborn as sb \n",
        "import numpy as np \n",
        "\n",
        "box_plot_data=[P_2014[\"Kb\"],P_2015[\"Kb\"],M_2014[\"Kb\"],M_2015[\"Kb\"],SA_2014[\"Kb\"],SA_2015[\"Kb\"],SL_2014[\"Kb\"],SL_2015[\"Kb\"],SP_2014[\"Kb\"],SP_2015[\"Kb\"]]\n",
        "fig, ax = mp.subplots(figsize=(8, 8))\n",
        "mp.boxplot(box_plot_data,labels=['P_14','P_15','M_14','M_15','SA_14','SA_15','SL_14','SL_15','SP_14','SP_15'])\n",
        "\n",
        "#mp.boxplot(P_2014[5])\n",
        "mp.show()"
      ],
      "execution_count": null,
      "outputs": [
        {
          "output_type": "display_data",
          "data": {
            "image/png": "[encoded data removed]",
            "text/plain": [
              "<Figure size 576x576 with 1 Axes>"
            ]
          },
          "metadata": {
            "tags": []
          }
        }
      ]
    },
    {
      "cell_type": "markdown",
      "metadata": {
        "id": "Df41WrqN_jnO"
      },
      "source": [
        "#### BOXPLOT PRESSION ATMOS"
      ]
    },
    {
      "cell_type": "code",
      "metadata": {
        "id": "Kxji8zUX_jnO",
        "outputId": "f4738883-3f7e-4022-b27f-84309a0aeeaf"
      },
      "source": [
        "box_plot_data=[P_2014[\"Patm_Avg\"],P_2015[\"Patm_Avg\"],M_2014[\"Patm_Avg\"],M_2015[\"Patm_Avg\"],SA_2014[\"Patm_Avg\"],SA_2015[\"Patm_Avg\"],SL_2014[\"Patm_Avg\"],SL_2015[\"Patm_Avg\"],SP_2014[\"Patm_Avg\"],SP_2015[\"Patm_Avg\"]]\n",
        "fig, ax = mp.subplots(figsize=(8, 8))\n",
        "mp.boxplot(box_plot_data,labels=['P_14','P_15','M_14','M_15','SA_14','SA_15','SL_14','SL_15','SP_14','SP_15'])\n",
        "\n",
        "#mp.boxplot(P_2014[5])\n",
        "mp.show()"
      ],
      "execution_count": null,
      "outputs": [
        {
          "output_type": "display_data",
          "data": {
            "image/png": "[encoded data removed]",
            "text/plain": [
              "<Figure size 576x576 with 1 Axes>"
            ]
          },
          "metadata": {
            "tags": []
          }
        }
      ]
    },
    {
      "cell_type": "markdown",
      "metadata": {
        "id": "lv15fFqa_jnP"
      },
      "source": [
        "On a des valeurs valeurs pour la pression atmorsphérique: elle ne peut pas être nulle\n"
      ]
    },
    {
      "cell_type": "code",
      "metadata": {
        "id": "zpmzNVFM_jnP"
      },
      "source": [
        "Q1 = P_2014['Patm_Avg'].quantile(0.25)\n",
        "Q3 = P_2014['Patm_Avg'].quantile(0.75)\n",
        "IQR = Q3 - Q1    \n",
        "\n",
        "filter1 = (P_2014['Patm_Avg'] >= Q1 - 1.5 * IQR) & (P_2014['Patm_Avg'] <= Q3 + 1.5 *IQR)\n",
        "\n",
        "#P_2014 = P_2014.loc[filter1]  \n",
        "\n",
        "\n",
        "Q1 = P_2015['Patm_Avg'].quantile(0.25)\n",
        "Q3 = P_2015['Patm_Avg'].quantile(0.75)\n",
        "IQR = Q3 - Q1    \n",
        "\n",
        "filter2 = (P_2015['Patm_Avg'] >= Q1 - 1.5 * IQR) & (P_2015['Patm_Avg'] <= Q3 + 1.5 *IQR)\n",
        "#P_2015 = P_2015.loc[filter2]\n",
        "\n",
        "\n",
        "###### MOUFIA SUPPRESSION DES OUTLIERS\n",
        "\n",
        "\n",
        "\n",
        "\n",
        "Q1 = M_2014['Patm_Avg'].quantile(0.25)\n",
        "Q3 = M_2014['Patm_Avg'].quantile(0.75)\n",
        "IQR = Q3 - Q1    \n",
        "\n",
        "filter1 = (M_2014['Patm_Avg'] >= Q1 - 1.5 * IQR) & (M_2014['Patm_Avg'] <= Q3 + 1.5 *IQR)\n",
        "\n",
        "#M_2014 = M_2014.loc[filter1]  \n",
        "\n",
        "\n",
        "Q1 = M_2015['Patm_Avg'].quantile(0.25)\n",
        "Q3 = M_2015['Patm_Avg'].quantile(0.75)\n",
        "IQR = Q3 - Q1    \n",
        "\n",
        "filter2 = (M_2015['Patm_Avg'] >= Q1 - 1.5 * IQR) & (M_2015['Patm_Avg'] <= Q3 + 1.5 *IQR)\n",
        "#M_2015 = M_2015.loc[filter2]\n",
        "\n",
        "\n",
        "\n",
        "\n",
        "###### SAINT ANDRE SUPPRESSION DES OUTLIERS\n",
        "\n",
        "\n",
        "\n",
        "\n",
        "\n",
        "\n",
        "Q1 = SA_2014['Patm_Avg'].quantile(0.25)\n",
        "Q3 = SA_2014['Patm_Avg'].quantile(0.75)\n",
        "IQR = Q3 - Q1    \n",
        "\n",
        "filter1 = (SA_2014['Patm_Avg'] >= Q1 - 1.5 * IQR) & (SA_2014['Patm_Avg'] <= Q3 + 1.5 *IQR)\n",
        "\n",
        "#SA_2014 = SA_2014.loc[filter1]  \n",
        "\n",
        "\n",
        "Q1 = SA_2015['Patm_Avg'].quantile(0.25)\n",
        "Q3 = SA_2015['Patm_Avg'].quantile(0.75)\n",
        "IQR = Q3 - Q1    \n",
        "\n",
        "filter2 = (SA_2015['Patm_Avg'] >= Q1 - 1.5 * IQR) & (SA_2015['Patm_Avg'] <= Q3 + 1.5 *IQR)\n",
        "#SA_2015 = SA_2015.loc[filter2]\n",
        "\n",
        "\n",
        "\n",
        "\n",
        "###### SAINT LE SUPPRESSION DES OUTLIERS\n",
        "\n",
        "\n",
        "Q1 = SL_2014['Patm_Avg'].quantile(0.25)\n",
        "Q3 = SL_2014['Patm_Avg'].quantile(0.75)\n",
        "IQR = Q3 - Q1    \n",
        "\n",
        "filter1 = (SL_2014['Patm_Avg'] >= Q1 - 1.5 * IQR) & (SL_2014['Patm_Avg'] <= Q3 + 1.5 *IQR)\n",
        "\n",
        "#SL_2014 = SL_2014.loc[filter1]  \n",
        "\n",
        "\n",
        "Q1 = SL_2015['Patm_Avg'].quantile(0.25)\n",
        "Q3 = SL_2015['Patm_Avg'].quantile(0.75)\n",
        "IQR = Q3 - Q1    \n",
        "\n",
        "filter2 = (SL_2015['Patm_Avg'] >= Q1 - 1.5 * IQR) & (SL_2015['Patm_Avg'] <= Q3 + 1.5 *IQR)\n",
        "SL_2015 = SL_2015.loc[filter2]\n",
        "\n",
        "\n",
        "\n",
        "###### SAINT PIERRE SUPPRESSION DES OUTLIERS\n",
        "\n",
        "\n",
        "\n",
        "\n",
        "Q1 = SP_2014['Patm_Avg'].quantile(0.25)\n",
        "Q3 = SP_2014['Patm_Avg'].quantile(0.75)\n",
        "IQR = Q3 - Q1    \n",
        "\n",
        "filter1 = (SP_2014['Patm_Avg'] >= Q1 - 1.5 * IQR) & (SP_2014['Patm_Avg'] <= Q3 + 1.5 *IQR)\n",
        "\n",
        "#SP_2014 = SP_2014.loc[filter1]  \n",
        "\n",
        "\n",
        "Q1 = SP_2015['Patm_Avg'].quantile(0.25)\n",
        "Q3 = SP_2015['Patm_Avg'].quantile(0.75)\n",
        "IQR = Q3 - Q1    \n",
        "\n",
        "filter2 = (SP_2015['Patm_Avg'] >= Q1 - 1.5 * IQR) & (SP_2015['Patm_Avg'] <= Q3 + 1.5 *IQR)\n",
        "#SP_2015 = SP_2015.loc[filter2]\n",
        "\n"
      ],
      "execution_count": null,
      "outputs": []
    },
    {
      "cell_type": "code",
      "metadata": {
        "id": "sBDL2V15_jnQ",
        "outputId": "a01452f0-e64f-4bef-d9bf-3b0df476f916"
      },
      "source": [
        "box_plot_data=[P_2014[\"Patm_Avg\"],P_2015[\"Patm_Avg\"],M_2014[\"Patm_Avg\"],M_2015[\"Patm_Avg\"],SA_2014[\"Patm_Avg\"],SA_2015[\"Patm_Avg\"],SL_2014[\"Patm_Avg\"],SL_2015[\"Patm_Avg\"],SP_2014[\"Patm_Avg\"],SP_2015[\"Patm_Avg\"]]\n",
        "fig, ax = mp.subplots(figsize=(13, 13))\n",
        "mp.boxplot(box_plot_data,labels=['P_14','P_15','M_14','M_15','SA_14','SA_15','SL_14','SL_15','SP_14','SP_15'])\n",
        "\n",
        "#mp.boxplot(P_2014[5])\n",
        "mp.show()"
      ],
      "execution_count": null,
      "outputs": [
        {
          "output_type": "display_data",
          "data": {
            "image/png": "[encoded data removed]",
            "text/plain": [
              "<Figure size 936x936 with 1 Axes>"
            ]
          },
          "metadata": {
            "tags": []
          }
        }
      ]
    },
    {
      "cell_type": "code",
      "metadata": {
        "id": "nrNOn-YT_jnS"
      },
      "source": [
        ""
      ],
      "execution_count": null,
      "outputs": []
    },
    {
      "cell_type": "code",
      "metadata": {
        "id": "rL5goMNK_jnS"
      },
      "source": [
        ""
      ],
      "execution_count": null,
      "outputs": []
    },
    {
      "cell_type": "markdown",
      "metadata": {
        "id": "jkHSYGj0_jnT"
      },
      "source": [
        "#### BOXPLOT PRESSION WS"
      ]
    },
    {
      "cell_type": "code",
      "metadata": {
        "scrolled": true,
        "id": "70a8cD-B_jnT",
        "outputId": "c8f8c61f-60b9-4e3f-d100-e0777b493b67"
      },
      "source": [
        "box_plot_data=[P_2014[\"FD_Avg\"],P_2015[\"FD_Avg\"],M_2014[\"FD_Avg\"],M_2015[\"FD_Avg\"],SA_2014[\"FD_Avg\"],SA_2015[\"FD_Avg\"],SL_2014[\"FD_Avg\"],SL_2015[\"FD_Avg\"],SP_2014[\"FD_Avg\"],SP_2015[\"FD_Avg\"]]\n",
        "fig, ax = mp.subplots(figsize=(8, 8))\n",
        "mp.boxplot(box_plot_data,labels=['P_14','P_15','M_14','M_15','SA_14','SA_15','SL_14','SL_15','SP_14','SP_15'])\n",
        "\n",
        "#mp.boxplot(P_2014[5])\n",
        "mp.show()"
      ],
      "execution_count": null,
      "outputs": [
        {
          "output_type": "display_data",
          "data": {
            "image/png": "[encoded data removed]",
            "text/plain": [
              "<Figure size 576x576 with 1 Axes>"
            ]
          },
          "metadata": {
            "tags": []
          }
        }
      ]
    },
    {
      "cell_type": "code",
      "metadata": {
        "id": "EDGGfQMq_jnU"
      },
      "source": [
        "Q1 = P_2014['FD_Avg'].quantile(0.25)\n",
        "Q3 = P_2014['FD_Avg'].quantile(0.75)\n",
        "IQR = Q3 - Q1    \n",
        "\n",
        "filter1 = (P_2014['FD_Avg'] >= Q1 - 1.5 * IQR) & (P_2014['FD_Avg'] <= Q3 + 1.5 *IQR)\n",
        "\n",
        "#P_2014 = P_2014.loc[filter1]  \n",
        "\n",
        "\n",
        "Q1 = P_2015['FD_Avg'].quantile(0.25)\n",
        "Q3 = P_2015['FD_Avg'].quantile(0.75)\n",
        "IQR = Q3 - Q1    \n",
        "\n",
        "filter2 = (P_2015['FD_Avg'] >= Q1 - 1.5 * IQR) & (P_2015['FD_Avg'] <= Q3 + 1.5 *IQR)\n",
        "#P_2015 = P_2015.loc[filter2]\n",
        "\n",
        "\n",
        "###### MOUFIA SUPPRESSION DES OUTLIERS\n",
        "\n",
        "\n",
        "\n",
        "\n",
        "Q1 = M_2014['FD_Avg'].quantile(0.25)\n",
        "Q3 = M_2014['FD_Avg'].quantile(0.75)\n",
        "IQR = Q3 - Q1    \n",
        "\n",
        "filter1 = (M_2014['FD_Avg'] >= Q1 - 1.5 * IQR) & (M_2014['FD_Avg'] <= Q3 + 1.5 *IQR)\n",
        "\n",
        "#M_2014 = M_2014.loc[filter1]  \n",
        "\n",
        "\n",
        "Q1 = M_2015['FD_Avg'].quantile(0.25)\n",
        "Q3 = M_2015['FD_Avg'].quantile(0.75)\n",
        "IQR = Q3 - Q1    \n",
        "\n",
        "filter2 = (M_2015['FD_Avg'] >= Q1 - 1.5 * IQR) & (M_2015['FD_Avg'] <= Q3 + 1.5 *IQR)\n",
        "#M_2015 = M_2015.loc[filter2]\n",
        "\n",
        "\n",
        "\n",
        "\n",
        "###### SAINT ANDRE SUPPRESSION DES OUTLIERS\n",
        "\n",
        "\n",
        "\n",
        "\n",
        "\n",
        "\n",
        "Q1 = SA_2014['FD_Avg'].quantile(0.25)\n",
        "Q3 = SA_2014['FD_Avg'].quantile(0.75)\n",
        "IQR = Q3 - Q1    \n",
        "\n",
        "filter1 = (SA_2014['FD_Avg'] >= Q1 - 1.5 * IQR) & (SA_2014['FD_Avg'] <= Q3 + 1.5 *IQR)\n",
        "\n",
        "#SA_2014 = SA_2014.loc[filter1]  \n",
        "\n",
        "\n",
        "Q1 = SA_2015['FD_Avg'].quantile(0.25)\n",
        "Q3 = SA_2015['FD_Avg'].quantile(0.75)\n",
        "IQR = Q3 - Q1    \n",
        "\n",
        "filter2 = (SA_2015['FD_Avg'] >= Q1 - 1.5 * IQR) & (SA_2015['FD_Avg'] <= Q3 + 1.5 *IQR)\n",
        "#SA_2015 = SA_2015.loc[filter2]\n",
        "\n",
        "\n",
        "\n",
        "\n",
        "###### SAINT LE SUPPRESSION DES OUTLIERS\n",
        "\n",
        "\n",
        "Q1 = SL_2014['FD_Avg'].quantile(0.25)\n",
        "Q3 = SL_2014['FD_Avg'].quantile(0.75)\n",
        "IQR = Q3 - Q1    \n",
        "\n",
        "filter1 = (SL_2014['FD_Avg'] >= Q1 - 1.5 * IQR) & (SL_2014['FD_Avg'] <= Q3 + 1.5 *IQR)\n",
        "\n",
        "SL_2014 = SL_2014.loc[filter1]  \n",
        "\n",
        "\n",
        "Q1 = SL_2015['FD_Avg'].quantile(0.25)\n",
        "Q3 = SL_2015['FD_Avg'].quantile(0.75)\n",
        "IQR = Q3 - Q1    \n",
        "\n",
        "filter2 = (SL_2015['FD_Avg'] >= Q1 - 1.5 * IQR) & (SL_2015['FD_Avg'] <= Q3 + 1.5 *IQR)\n",
        "SL_2015 = SL_2015.loc[filter2]\n",
        "\n",
        "\n",
        "\n",
        "###### SAINT PIERRE SUPPRESSION DES OUTLIERS\n",
        "\n",
        "\n",
        "\n",
        "\n",
        "Q1 = SP_2014['FD_Avg'].quantile(0.25)\n",
        "Q3 = SP_2014['FD_Avg'].quantile(0.75)\n",
        "IQR = Q3 - Q1    \n",
        "\n",
        "filter1 = (SP_2014['FD_Avg'] >= Q1 - 1.5 * IQR) & (SP_2014['FD_Avg'] <= Q3 + 1.5 *IQR)\n",
        "\n",
        "#SP_2014 = SP_2014.loc[filter1]  \n",
        "\n",
        "\n",
        "Q1 = SP_2015['FD_Avg'].quantile(0.25)\n",
        "Q3 = SP_2015['FD_Avg'].quantile(0.75)\n",
        "IQR = Q3 - Q1    \n",
        "\n",
        "filter2 = (SP_2015['FD_Avg'] >= Q1 - 1.5 * IQR) & (SP_2015['FD_Avg'] <= Q3 + 1.5 *IQR)\n",
        "#SP_2015 = SP_2015.loc[filter2]"
      ],
      "execution_count": null,
      "outputs": []
    },
    {
      "cell_type": "code",
      "metadata": {
        "id": "WBeRV49O_jnU",
        "outputId": "ccbe8fdb-c3f3-463d-8c2e-5722255160df"
      },
      "source": [
        "box_plot_data=[P_2014[\"FD_Avg\"],P_2015[\"FD_Avg\"],M_2014[\"FD_Avg\"],M_2015[\"FD_Avg\"],SA_2014[\"FD_Avg\"],SA_2015[\"FD_Avg\"],SL_2014[\"FD_Avg\"],SL_2015[\"FD_Avg\"],SP_2014[\"FD_Avg\"],SP_2015[\"FD_Avg\"]]\n",
        "fig, ax = mp.subplots(figsize=(6, 6))\n",
        "mp.boxplot(box_plot_data,labels=['P_14','P_15','M_14','M_15','SA_14','SA_15','SL_14','SL_15','SP_14','SP_15'])\n",
        "\n",
        "#mp.boxplot(P_2014[5])\n",
        "mp.show()"
      ],
      "execution_count": null,
      "outputs": [
        {
          "output_type": "display_data",
          "data": {
            "image/png": "[encoded data removed]",
            "text/plain": [
              "<Figure size 432x432 with 1 Axes>"
            ]
          },
          "metadata": {
            "tags": []
          }
        }
      ]
    },
    {
      "cell_type": "code",
      "metadata": {
        "id": "RLn4SEE1_jnV",
        "outputId": "035e3d89-9312-4a06-ff97-42b3e929be44"
      },
      "source": [
        "df.info()"
      ],
      "execution_count": null,
      "outputs": [
        {
          "output_type": "stream",
          "text": [
            "<class 'pandas.core.frame.DataFrame'>\n",
            "Int64Index: 817956 entries, 1 to 1049580\n",
            "Data columns (total 9 columns):\n",
            " #   Column             Non-Null Count   Dtype         \n",
            "---  ------             --------------   -----         \n",
            " 0   Timestamp          817956 non-null  datetime64[ns]\n",
            " 1   FD_Avg             817956 non-null  float64       \n",
            " 2   FG_Avg             817956 non-null  float64       \n",
            " 3   Patm_Avg           817956 non-null  float64       \n",
            " 4   RH_Avg             817956 non-null  float64       \n",
            " 5   Text_Avg           817956 non-null  float64       \n",
            " 6   WD_MeanUnitVector  817956 non-null  float64       \n",
            " 7   WS_Mean            817956 non-null  float64       \n",
            " 8   Kb                 817956 non-null  float64       \n",
            "dtypes: datetime64[ns](1), float64(8)\n",
            "memory usage: 62.4 MB\n"
          ],
          "name": "stdout"
        }
      ]
    },
    {
      "cell_type": "code",
      "metadata": {
        "id": "UFeKLAEV_jnW"
      },
      "source": [
        ""
      ],
      "execution_count": null,
      "outputs": []
    },
    {
      "cell_type": "code",
      "metadata": {
        "id": "8LjGqJQ1_jnW"
      },
      "source": [
        ""
      ],
      "execution_count": null,
      "outputs": []
    },
    {
      "cell_type": "code",
      "metadata": {
        "id": "pdnQt7Kx_jnX"
      },
      "source": [
        ""
      ],
      "execution_count": null,
      "outputs": []
    },
    {
      "cell_type": "code",
      "metadata": {
        "id": "uRxFmM4e_jnX",
        "outputId": "3ac75e7a-a37e-492c-9778-52988d472fd3"
      },
      "source": [
        "df.corr()"
      ],
      "execution_count": null,
      "outputs": [
        {
          "output_type": "execute_result",
          "data": {
            "text/html": [
              "<div>\n",
              "<style scoped>\n",
              "    .dataframe tbody tr th:only-of-type {\n",
              "        vertical-align: middle;\n",
              "    }\n",
              "\n",
              "    .dataframe tbody tr th {\n",
              "        vertical-align: top;\n",
              "    }\n",
              "\n",
              "    .dataframe thead th {\n",
              "        text-align: right;\n",
              "    }\n",
              "</style>\n",
              "<table border=\"1\" class=\"dataframe\">\n",
              "  <thead>\n",
              "    <tr style=\"text-align: right;\">\n",
              "      <th></th>\n",
              "      <th>FD_Avg</th>\n",
              "      <th>FG_Avg</th>\n",
              "      <th>Patm_Avg</th>\n",
              "      <th>RH_Avg</th>\n",
              "      <th>Text_Avg</th>\n",
              "      <th>WD_MeanUnitVector</th>\n",
              "      <th>WS_Mean</th>\n",
              "      <th>Kb</th>\n",
              "    </tr>\n",
              "  </thead>\n",
              "  <tbody>\n",
              "    <tr>\n",
              "      <th>FD_Avg</th>\n",
              "      <td>1.000000</td>\n",
              "      <td>0.665849</td>\n",
              "      <td>-0.065834</td>\n",
              "      <td>-0.263602</td>\n",
              "      <td>0.503175</td>\n",
              "      <td>0.168593</td>\n",
              "      <td>0.356540</td>\n",
              "      <td>-0.164625</td>\n",
              "    </tr>\n",
              "    <tr>\n",
              "      <th>FG_Avg</th>\n",
              "      <td>0.665849</td>\n",
              "      <td>1.000000</td>\n",
              "      <td>-0.006609</td>\n",
              "      <td>-0.408678</td>\n",
              "      <td>0.517321</td>\n",
              "      <td>0.193735</td>\n",
              "      <td>0.432671</td>\n",
              "      <td>0.430714</td>\n",
              "    </tr>\n",
              "    <tr>\n",
              "      <th>Patm_Avg</th>\n",
              "      <td>-0.065834</td>\n",
              "      <td>-0.006609</td>\n",
              "      <td>1.000000</td>\n",
              "      <td>-0.408160</td>\n",
              "      <td>-0.569739</td>\n",
              "      <td>0.170396</td>\n",
              "      <td>-0.139141</td>\n",
              "      <td>0.067141</td>\n",
              "    </tr>\n",
              "    <tr>\n",
              "      <th>RH_Avg</th>\n",
              "      <td>-0.263602</td>\n",
              "      <td>-0.408678</td>\n",
              "      <td>-0.408160</td>\n",
              "      <td>1.000000</td>\n",
              "      <td>-0.051437</td>\n",
              "      <td>-0.297828</td>\n",
              "      <td>-0.133448</td>\n",
              "      <td>-0.217456</td>\n",
              "    </tr>\n",
              "    <tr>\n",
              "      <th>Text_Avg</th>\n",
              "      <td>0.503175</td>\n",
              "      <td>0.517321</td>\n",
              "      <td>-0.569739</td>\n",
              "      <td>-0.051437</td>\n",
              "      <td>1.000000</td>\n",
              "      <td>0.056751</td>\n",
              "      <td>0.297286</td>\n",
              "      <td>0.071763</td>\n",
              "    </tr>\n",
              "    <tr>\n",
              "      <th>WD_MeanUnitVector</th>\n",
              "      <td>0.168593</td>\n",
              "      <td>0.193735</td>\n",
              "      <td>0.170396</td>\n",
              "      <td>-0.297828</td>\n",
              "      <td>0.056751</td>\n",
              "      <td>1.000000</td>\n",
              "      <td>-0.023909</td>\n",
              "      <td>0.045008</td>\n",
              "    </tr>\n",
              "    <tr>\n",
              "      <th>WS_Mean</th>\n",
              "      <td>0.356540</td>\n",
              "      <td>0.432671</td>\n",
              "      <td>-0.139141</td>\n",
              "      <td>-0.133448</td>\n",
              "      <td>0.297286</td>\n",
              "      <td>-0.023909</td>\n",
              "      <td>1.000000</td>\n",
              "      <td>0.088447</td>\n",
              "    </tr>\n",
              "    <tr>\n",
              "      <th>Kb</th>\n",
              "      <td>-0.164625</td>\n",
              "      <td>0.430714</td>\n",
              "      <td>0.067141</td>\n",
              "      <td>-0.217456</td>\n",
              "      <td>0.071763</td>\n",
              "      <td>0.045008</td>\n",
              "      <td>0.088447</td>\n",
              "      <td>1.000000</td>\n",
              "    </tr>\n",
              "  </tbody>\n",
              "</table>\n",
              "</div>"
            ],
            "text/plain": [
              "                     FD_Avg    FG_Avg  Patm_Avg    RH_Avg  Text_Avg  \\\n",
              "FD_Avg             1.000000  0.665849 -0.065834 -0.263602  0.503175   \n",
              "FG_Avg             0.665849  1.000000 -0.006609 -0.408678  0.517321   \n",
              "Patm_Avg          -0.065834 -0.006609  1.000000 -0.408160 -0.569739   \n",
              "RH_Avg            -0.263602 -0.408678 -0.408160  1.000000 -0.051437   \n",
              "Text_Avg           0.503175  0.517321 -0.569739 -0.051437  1.000000   \n",
              "WD_MeanUnitVector  0.168593  0.193735  0.170396 -0.297828  0.056751   \n",
              "WS_Mean            0.356540  0.432671 -0.139141 -0.133448  0.297286   \n",
              "Kb                -0.164625  0.430714  0.067141 -0.217456  0.071763   \n",
              "\n",
              "                   WD_MeanUnitVector   WS_Mean        Kb  \n",
              "FD_Avg                      0.168593  0.356540 -0.164625  \n",
              "FG_Avg                      0.193735  0.432671  0.430714  \n",
              "Patm_Avg                    0.170396 -0.139141  0.067141  \n",
              "RH_Avg                     -0.297828 -0.133448 -0.217456  \n",
              "Text_Avg                    0.056751  0.297286  0.071763  \n",
              "WD_MeanUnitVector           1.000000 -0.023909  0.045008  \n",
              "WS_Mean                    -0.023909  1.000000  0.088447  \n",
              "Kb                          0.045008  0.088447  1.000000  "
            ]
          },
          "metadata": {
            "tags": []
          },
          "execution_count": 119
        }
      ]
    },
    {
      "cell_type": "code",
      "metadata": {
        "id": "y1PRcSVU_jnX",
        "outputId": "4912611c-e1b4-4182-a7f4-440312f43264"
      },
      "source": [
        "import matplotlib.pyplot as mp \n",
        "import seaborn as sb \n",
        "import numpy as np \n",
        "\n",
        "\n",
        "fig, ax = mp.subplots(figsize=(8, 8))\n",
        "#mask = np.triu(np.ones_like(df.corr())) \n",
        "mask = np.zeros_like(df.corr())\n",
        "mask[np.triu_indices_from(mask)] = 1\n",
        "  \n",
        "# plotting a triangle correlation heatmap \n",
        "dataplot = sb.heatmap(df.corr(), mask=mask, ax=ax) \n",
        "  \n",
        "# displaying heatmap \n",
        "#mp.show()\n",
        "\n"
      ],
      "execution_count": null,
      "outputs": [
        {
          "output_type": "display_data",
          "data": {
            "image/png": "[encoded data removed]",
            "text/plain": [
              "<Figure size 576x576 with 2 Axes>"
            ]
          },
          "metadata": {
            "tags": []
          }
        }
      ]
    },
    {
      "cell_type": "code",
      "metadata": {
        "id": "jw7N2JuC_jnY"
      },
      "source": [
        "\n"
      ],
      "execution_count": null,
      "outputs": []
    },
    {
      "cell_type": "code",
      "metadata": {
        "id": "nAByWn7u_jnY"
      },
      "source": [
        ""
      ],
      "execution_count": null,
      "outputs": []
    },
    {
      "cell_type": "code",
      "metadata": {
        "id": "W5C9-ERi_jnZ"
      },
      "source": [
        ""
      ],
      "execution_count": null,
      "outputs": []
    },
    {
      "cell_type": "code",
      "metadata": {
        "id": "OtLvQn7o_jnZ"
      },
      "source": [
        "\n"
      ],
      "execution_count": null,
      "outputs": []
    },
    {
      "cell_type": "code",
      "metadata": {
        "id": "PH6CQuCH_jnZ"
      },
      "source": [
        ""
      ],
      "execution_count": null,
      "outputs": []
    },
    {
      "cell_type": "code",
      "metadata": {
        "id": "2kBCBir4_jnZ"
      },
      "source": [
        ""
      ],
      "execution_count": null,
      "outputs": []
    },
    {
      "cell_type": "code",
      "metadata": {
        "id": "cdapWaxW_jna"
      },
      "source": [
        ""
      ],
      "execution_count": null,
      "outputs": []
    },
    {
      "cell_type": "code",
      "metadata": {
        "id": "g5xUzFDm_jna"
      },
      "source": [
        ""
      ],
      "execution_count": null,
      "outputs": []
    },
    {
      "cell_type": "code",
      "metadata": {
        "id": "C-Qlu512_jna"
      },
      "source": [
        ""
      ],
      "execution_count": null,
      "outputs": []
    },
    {
      "cell_type": "code",
      "metadata": {
        "id": "st9jWbJG_jna"
      },
      "source": [
        "from sklearn.preprocessing import MinMaxScaler\n",
        "### on normalise les données dabord\n",
        "d = datetime(2015, 1, 1, 0, 0,0)\n",
        "d_stamp=df[df[\"Timestamp\"]<d ]\n",
        "d_stamp=d_stamp.drop([\"Timestamp\"],axis=1)\n",
        "d_stamp = MinMaxScaler().fit_transform(d_stamp)\n",
        "\n",
        "d_stamp2=df[df[\"Timestamp\"]>=d ]\n",
        "d_stamp2=d_stamp2.drop([\"Timestamp\"],axis=1)\n",
        "d_stamp2 = MinMaxScaler().fit_transform(d_stamp2)\n",
        "\n",
        "Myseries=[d_stamp,d_stamp2]"
      ],
      "execution_count": null,
      "outputs": []
    },
    {
      "cell_type": "code",
      "metadata": {
        "id": "VozCLe2k_jnb",
        "outputId": "d3939a2c-fee9-40ea-aa3a-c9b3ecbcc182"
      },
      "source": [
        "len(d_stamp)"
      ],
      "execution_count": null,
      "outputs": [
        {
          "output_type": "execute_result",
          "data": {
            "text/plain": [
              "410613"
            ]
          },
          "metadata": {
            "tags": []
          },
          "execution_count": 122
        }
      ]
    },
    {
      "cell_type": "code",
      "metadata": {
        "id": "TeTjjCee_jnb",
        "outputId": "bdd88857-137c-42b6-d35a-3175d88fc3e0"
      },
      "source": [
        "from sklearn.preprocessing import StandardScaler\n",
        "d = datetime(2015, 1, 1, 0, 0,0)\n",
        "d_stamp=df[df[\"Timestamp\"]<d ]\n",
        "d_stamp=d_stamp.drop([\"Timestamp\"],axis=1)\n",
        "d_stamp = StandardScaler().fit_transform(d_stamp)\n",
        "d_stamp"
      ],
      "execution_count": null,
      "outputs": [
        {
          "output_type": "execute_result",
          "data": {
            "text/plain": [
              "array([[-0.80325464, -0.82872886, -1.00891568, ..., -0.20211754,\n",
              "         0.14128697, -1.12471751],\n",
              "       [-0.82449514, -0.83637408, -1.00891568, ..., -0.28858489,\n",
              "        -0.14215757, -0.11777481],\n",
              "       [-0.82405044, -0.8289029 , -1.02358453, ..., -0.19916825,\n",
              "         0.07042605,  1.01097924],\n",
              "       ...,\n",
              "       [-0.80416829, -0.82716873, -1.14027853, ..., -0.89814721,\n",
              "        -0.08546917, -0.71223071],\n",
              "       [-0.82178651, -0.82786489, -1.14750349, ..., -0.88220253,\n",
              "        -0.39725792,  0.85312296],\n",
              "       [-0.82178651, -0.82803892, -1.16217234, ..., -0.9541941 ,\n",
              "         0.12711444,  0.84073389]])"
            ]
          },
          "metadata": {
            "tags": []
          },
          "execution_count": 123
        }
      ]
    },
    {
      "cell_type": "code",
      "metadata": {
        "id": "i37OsW0S_jnb",
        "outputId": "29e4f0ca-ce19-4bfd-87b9-4eaefdacd5ca"
      },
      "source": [
        "d_stamp"
      ],
      "execution_count": null,
      "outputs": [
        {
          "output_type": "execute_result",
          "data": {
            "text/plain": [
              "array([[-0.80325464, -0.82872886, -1.00891568, ..., -0.20211754,\n",
              "         0.14128697, -1.12471751],\n",
              "       [-0.82449514, -0.83637408, -1.00891568, ..., -0.28858489,\n",
              "        -0.14215757, -0.11777481],\n",
              "       [-0.82405044, -0.8289029 , -1.02358453, ..., -0.19916825,\n",
              "         0.07042605,  1.01097924],\n",
              "       ...,\n",
              "       [-0.80416829, -0.82716873, -1.14027853, ..., -0.89814721,\n",
              "        -0.08546917, -0.71223071],\n",
              "       [-0.82178651, -0.82786489, -1.14750349, ..., -0.88220253,\n",
              "        -0.39725792,  0.85312296],\n",
              "       [-0.82178651, -0.82803892, -1.16217234, ..., -0.9541941 ,\n",
              "         0.12711444,  0.84073389]])"
            ]
          },
          "metadata": {
            "tags": []
          },
          "execution_count": 124
        }
      ]
    },
    {
      "cell_type": "code",
      "metadata": {
        "id": "O2llJNkF_jnc"
      },
      "source": [
        "possession = pd.read_csv(\"possession_2014_2015.csv\")\n",
        "moufia = pd.read_csv(\"moufia_2014_2015.csv\")\n"
      ],
      "execution_count": null,
      "outputs": []
    },
    {
      "cell_type": "code",
      "metadata": {
        "id": "DGei6VIg_jnc"
      },
      "source": [
        "possession[\"Kb\"]=(possession[\"FG_Avg\"]-possession[\"FD_Avg\"])/possession[\"FG_Avg\"]"
      ],
      "execution_count": null,
      "outputs": []
    },
    {
      "cell_type": "code",
      "metadata": {
        "id": "nAGO_vl2_jnc"
      },
      "source": [
        "possession['Timestamp'] = pd.to_datetime(possession['Timestamp'], format='%Y%m%d %H:%M:%S')"
      ],
      "execution_count": null,
      "outputs": []
    },
    {
      "cell_type": "code",
      "metadata": {
        "id": "gfPdePc__jnd"
      },
      "source": [
        "possession=possession.drop([\"FG_Avg\",\"FD_Avg\"],axis=1)"
      ],
      "execution_count": null,
      "outputs": []
    },
    {
      "cell_type": "code",
      "metadata": {
        "id": "lTvJBA_X_jnd"
      },
      "source": [
        "possession=possession.set_index('Timestamp')"
      ],
      "execution_count": null,
      "outputs": []
    },
    {
      "cell_type": "code",
      "metadata": {
        "id": "pViDIFGB_jnd"
      },
      "source": [
        "possession=possession.resample('60T', label='right').sum()"
      ],
      "execution_count": null,
      "outputs": []
    },
    {
      "cell_type": "code",
      "metadata": {
        "id": "sUs-M-rW_jnd",
        "outputId": "ab6b25b3-dfad-4545-f13e-b2c4531bf1e1"
      },
      "source": [
        "possession"
      ],
      "execution_count": null,
      "outputs": [
        {
          "output_type": "execute_result",
          "data": {
            "text/html": [
              "<div>\n",
              "<style scoped>\n",
              "    .dataframe tbody tr th:only-of-type {\n",
              "        vertical-align: middle;\n",
              "    }\n",
              "\n",
              "    .dataframe tbody tr th {\n",
              "        vertical-align: top;\n",
              "    }\n",
              "\n",
              "    .dataframe thead th {\n",
              "        text-align: right;\n",
              "    }\n",
              "</style>\n",
              "<table border=\"1\" class=\"dataframe\">\n",
              "  <thead>\n",
              "    <tr style=\"text-align: right;\">\n",
              "      <th></th>\n",
              "      <th>Patm_Avg</th>\n",
              "      <th>RH_Avg</th>\n",
              "      <th>Text_Avg</th>\n",
              "      <th>WD_MeanUnitVector</th>\n",
              "      <th>WS_Mean</th>\n",
              "      <th>Kb</th>\n",
              "    </tr>\n",
              "    <tr>\n",
              "      <th>Timestamp</th>\n",
              "      <th></th>\n",
              "      <th></th>\n",
              "      <th></th>\n",
              "      <th></th>\n",
              "      <th></th>\n",
              "      <th></th>\n",
              "    </tr>\n",
              "  </thead>\n",
              "  <tbody>\n",
              "    <tr>\n",
              "      <th>2014-01-01 01:00:00</th>\n",
              "      <td>60557.800</td>\n",
              "      <td>3715.19987</td>\n",
              "      <td>1606.00001</td>\n",
              "      <td>6595.04774</td>\n",
              "      <td>84.966668</td>\n",
              "      <td>1.424989</td>\n",
              "    </tr>\n",
              "    <tr>\n",
              "      <th>2014-01-01 02:00:00</th>\n",
              "      <td>60515.818</td>\n",
              "      <td>4048.03326</td>\n",
              "      <td>1603.63331</td>\n",
              "      <td>7367.82558</td>\n",
              "      <td>59.466668</td>\n",
              "      <td>4.038652</td>\n",
              "    </tr>\n",
              "    <tr>\n",
              "      <th>2014-01-01 03:00:00</th>\n",
              "      <td>60484.334</td>\n",
              "      <td>4061.16660</td>\n",
              "      <td>1588.18333</td>\n",
              "      <td>7280.81388</td>\n",
              "      <td>58.266665</td>\n",
              "      <td>3.473149</td>\n",
              "    </tr>\n",
              "    <tr>\n",
              "      <th>2014-01-01 04:00:00</th>\n",
              "      <td>60492.167</td>\n",
              "      <td>3872.96660</td>\n",
              "      <td>1603.68333</td>\n",
              "      <td>6273.77452</td>\n",
              "      <td>89.383337</td>\n",
              "      <td>10.098330</td>\n",
              "    </tr>\n",
              "    <tr>\n",
              "      <th>2014-01-01 05:00:00</th>\n",
              "      <td>60495.334</td>\n",
              "      <td>3582.98315</td>\n",
              "      <td>1641.49997</td>\n",
              "      <td>6810.75280</td>\n",
              "      <td>90.183333</td>\n",
              "      <td>16.636588</td>\n",
              "    </tr>\n",
              "    <tr>\n",
              "      <th>...</th>\n",
              "      <td>...</td>\n",
              "      <td>...</td>\n",
              "      <td>...</td>\n",
              "      <td>...</td>\n",
              "      <td>...</td>\n",
              "      <td>...</td>\n",
              "    </tr>\n",
              "    <tr>\n",
              "      <th>2015-12-30 21:00:00</th>\n",
              "      <td>60596.384</td>\n",
              "      <td>5136.71656</td>\n",
              "      <td>1423.49999</td>\n",
              "      <td>8768.41300</td>\n",
              "      <td>65.233334</td>\n",
              "      <td>-18.202763</td>\n",
              "    </tr>\n",
              "    <tr>\n",
              "      <th>2015-12-30 22:00:00</th>\n",
              "      <td>60625.282</td>\n",
              "      <td>5019.79985</td>\n",
              "      <td>1410.48333</td>\n",
              "      <td>8328.05170</td>\n",
              "      <td>68.983333</td>\n",
              "      <td>-6.495903</td>\n",
              "    </tr>\n",
              "    <tr>\n",
              "      <th>2015-12-30 23:00:00</th>\n",
              "      <td>60648.199</td>\n",
              "      <td>5050.38329</td>\n",
              "      <td>1400.73333</td>\n",
              "      <td>8852.91530</td>\n",
              "      <td>55.549998</td>\n",
              "      <td>-14.508907</td>\n",
              "    </tr>\n",
              "    <tr>\n",
              "      <th>2015-12-31 00:00:00</th>\n",
              "      <td>60628.767</td>\n",
              "      <td>5084.63325</td>\n",
              "      <td>1385.10000</td>\n",
              "      <td>7216.92958</td>\n",
              "      <td>90.049997</td>\n",
              "      <td>-24.300163</td>\n",
              "    </tr>\n",
              "    <tr>\n",
              "      <th>2015-12-31 01:00:00</th>\n",
              "      <td>1009.900</td>\n",
              "      <td>85.14999</td>\n",
              "      <td>22.91666</td>\n",
              "      <td>98.99212</td>\n",
              "      <td>1.450000</td>\n",
              "      <td>-1.178799</td>\n",
              "    </tr>\n",
              "  </tbody>\n",
              "</table>\n",
              "<p>17497 rows × 6 columns</p>\n",
              "</div>"
            ],
            "text/plain": [
              "                      Patm_Avg      RH_Avg    Text_Avg  WD_MeanUnitVector  \\\n",
              "Timestamp                                                                   \n",
              "2014-01-01 01:00:00  60557.800  3715.19987  1606.00001         6595.04774   \n",
              "2014-01-01 02:00:00  60515.818  4048.03326  1603.63331         7367.82558   \n",
              "2014-01-01 03:00:00  60484.334  4061.16660  1588.18333         7280.81388   \n",
              "2014-01-01 04:00:00  60492.167  3872.96660  1603.68333         6273.77452   \n",
              "2014-01-01 05:00:00  60495.334  3582.98315  1641.49997         6810.75280   \n",
              "...                        ...         ...         ...                ...   \n",
              "2015-12-30 21:00:00  60596.384  5136.71656  1423.49999         8768.41300   \n",
              "2015-12-30 22:00:00  60625.282  5019.79985  1410.48333         8328.05170   \n",
              "2015-12-30 23:00:00  60648.199  5050.38329  1400.73333         8852.91530   \n",
              "2015-12-31 00:00:00  60628.767  5084.63325  1385.10000         7216.92958   \n",
              "2015-12-31 01:00:00   1009.900    85.14999    22.91666           98.99212   \n",
              "\n",
              "                       WS_Mean         Kb  \n",
              "Timestamp                                  \n",
              "2014-01-01 01:00:00  84.966668   1.424989  \n",
              "2014-01-01 02:00:00  59.466668   4.038652  \n",
              "2014-01-01 03:00:00  58.266665   3.473149  \n",
              "2014-01-01 04:00:00  89.383337  10.098330  \n",
              "2014-01-01 05:00:00  90.183333  16.636588  \n",
              "...                        ...        ...  \n",
              "2015-12-30 21:00:00  65.233334 -18.202763  \n",
              "2015-12-30 22:00:00  68.983333  -6.495903  \n",
              "2015-12-30 23:00:00  55.549998 -14.508907  \n",
              "2015-12-31 00:00:00  90.049997 -24.300163  \n",
              "2015-12-31 01:00:00   1.450000  -1.178799  \n",
              "\n",
              "[17497 rows x 6 columns]"
            ]
          },
          "metadata": {
            "tags": []
          },
          "execution_count": 131
        }
      ]
    },
    {
      "cell_type": "code",
      "metadata": {
        "id": "mj-74L1V_jne"
      },
      "source": [
        "possession['Timestamp']=pd.to_datetime(possession['Timestamp'])\n",
        "data_hourly_possession = possession.resample('H',on='Timestamp').mean()"
      ],
      "execution_count": null,
      "outputs": []
    },
    {
      "cell_type": "code",
      "metadata": {
        "id": "sUKqUtnF_jne"
      },
      "source": [
        "data_hourly_possession=data_hourly_possession[data_hourly_possession[\"Kb\"]>=0]"
      ],
      "execution_count": null,
      "outputs": []
    },
    {
      "cell_type": "code",
      "metadata": {
        "id": "tLHQs8aC_jne"
      },
      "source": [
        "data_hourly_possession=data_hourly_possession[data_hourly_possession[\"Kb\"]<=1]"
      ],
      "execution_count": null,
      "outputs": []
    },
    {
      "cell_type": "code",
      "metadata": {
        "id": "SzPpjFM2_jne"
      },
      "source": [
        "data_hourly_possession[\"Kb_H-1\"]=data_hourly_possession[\"Kb\"]\n",
        "data_hourly_possession[\"Kb_H-2\"]=data_hourly_possession[\"Kb\"]\n",
        "data_hourly_possession[\"Kb_H-3\"]=data_hourly_possession[\"Kb\"]"
      ],
      "execution_count": null,
      "outputs": []
    },
    {
      "cell_type": "code",
      "metadata": {
        "id": "O3bnT9D9_jne"
      },
      "source": [
        "data_hourly_possession[\"FD_H-1\"]=data_hourly_possession[\"FD_Avg\"]\n",
        "data_hourly_possession[\"FD_H-2\"]=data_hourly_possession[\"FD_Avg\"]\n",
        "data_hourly_possession[\"FD_H-3\"]=data_hourly_possession[\"FD_Avg\"]"
      ],
      "execution_count": null,
      "outputs": []
    },
    {
      "cell_type": "code",
      "metadata": {
        "id": "1RFqc9p1_jnf"
      },
      "source": [
        "data_hourly_possession[\"FG_H-1\"]=data_hourly_possession[\"FG_Avg\"]\n",
        "data_hourly_possession[\"FG_H-2\"]=data_hourly_possession[\"FG_Avg\"]\n",
        "data_hourly_possession[\"FG_H-3\"]=data_hourly_possession[\"FG_Avg\"]"
      ],
      "execution_count": null,
      "outputs": []
    },
    {
      "cell_type": "code",
      "metadata": {
        "id": "SuftFPBq_jnf"
      },
      "source": [
        "data_hourly_possession[\"Patm_H-1\"]=data_hourly_possession[\"Patm_Avg\"]\n",
        "data_hourly_possession[\"Patm_H-2\"]=data_hourly_possession[\"Patm_Avg\"]\n",
        "data_hourly_possession[\"Patm_H-3\"]=data_hourly_possession[\"Patm_Avg\"]"
      ],
      "execution_count": null,
      "outputs": []
    },
    {
      "cell_type": "code",
      "metadata": {
        "id": "l4AnklUK_jnf"
      },
      "source": [
        "data_hourly_possession[\"RH_H-1\"]=data_hourly_possession[\"RH_Avg\"]\n",
        "data_hourly_possession[\"RH_H-2\"]=data_hourly_possession[\"RH_Avg\"]\n",
        "data_hourly_possession[\"RH_H-3\"]=data_hourly_possession[\"RH_Avg\"]"
      ],
      "execution_count": null,
      "outputs": []
    },
    {
      "cell_type": "code",
      "metadata": {
        "id": "PswvO1_P_jnf"
      },
      "source": [
        "data_hourly_possession[\"Text_H-1\"]=data_hourly_possession[\"Text_Avg\"]\n",
        "data_hourly_possession[\"Text_H-2\"]=data_hourly_possession[\"Text_Avg\"]\n",
        "data_hourly_possession[\"Text_H-3\"]=data_hourly_possession[\"Text_Avg\"]"
      ],
      "execution_count": null,
      "outputs": []
    },
    {
      "cell_type": "code",
      "metadata": {
        "id": "MwOkQOL5_jng"
      },
      "source": [
        "data_hourly_possession[\"WD_MeanUnitVector_H-1\"]=data_hourly_possession[\"WD_MeanUnitVector\"]\n",
        "data_hourly_possession[\"WD_MeanUnitVector_H-2\"]=data_hourly_possession[\"WD_MeanUnitVector\"]\n",
        "data_hourly_possession[\"WD_MeanUnitVector_H-3\"]=data_hourly_possession[\"WD_MeanUnitVector\"]"
      ],
      "execution_count": null,
      "outputs": []
    },
    {
      "cell_type": "code",
      "metadata": {
        "id": "90O4a6aO_jng"
      },
      "source": [
        "data_hourly_possession[\"WS_Mean_H-1\"]=data_hourly_possession[\"WS_Mean\"]\n",
        "data_hourly_possession[\"WS_Mean_H-2\"]=data_hourly_possession[\"WS_Mean\"]\n",
        "data_hourly_possession[\"WS_Mean_H-3\"]=data_hourly_possession[\"WS_Mean\"]"
      ],
      "execution_count": null,
      "outputs": []
    },
    {
      "cell_type": "code",
      "metadata": {
        "id": "ScR3X4v7_jng",
        "outputId": "18a76b4a-5d31-45b0-d93d-15147f204578"
      },
      "source": [
        "data_hourly_possession.head()"
      ],
      "execution_count": null,
      "outputs": [
        {
          "output_type": "execute_result",
          "data": {
            "text/html": [
              "<div>\n",
              "<style scoped>\n",
              "    .dataframe tbody tr th:only-of-type {\n",
              "        vertical-align: middle;\n",
              "    }\n",
              "\n",
              "    .dataframe tbody tr th {\n",
              "        vertical-align: top;\n",
              "    }\n",
              "\n",
              "    .dataframe thead th {\n",
              "        text-align: right;\n",
              "    }\n",
              "</style>\n",
              "<table border=\"1\" class=\"dataframe\">\n",
              "  <thead>\n",
              "    <tr style=\"text-align: right;\">\n",
              "      <th></th>\n",
              "      <th>FD_Avg</th>\n",
              "      <th>FG_Avg</th>\n",
              "      <th>Patm_Avg</th>\n",
              "      <th>RH_Avg</th>\n",
              "      <th>Text_Avg</th>\n",
              "      <th>WD_MeanUnitVector</th>\n",
              "      <th>WS_Mean</th>\n",
              "      <th>Kb</th>\n",
              "      <th>Kb_H-1</th>\n",
              "      <th>Kb_H-2</th>\n",
              "      <th>...</th>\n",
              "      <th>RH_H-3</th>\n",
              "      <th>Text_H-1</th>\n",
              "      <th>Text_H-2</th>\n",
              "      <th>Text_H-3</th>\n",
              "      <th>WD_MeanUnitVector_H-1</th>\n",
              "      <th>WD_MeanUnitVector_H-2</th>\n",
              "      <th>WD_MeanUnitVector_H-3</th>\n",
              "      <th>WS_Mean_H-1</th>\n",
              "      <th>WS_Mean_H-2</th>\n",
              "      <th>WS_Mean_H-3</th>\n",
              "    </tr>\n",
              "    <tr>\n",
              "      <th>Timestamp</th>\n",
              "      <th></th>\n",
              "      <th></th>\n",
              "      <th></th>\n",
              "      <th></th>\n",
              "      <th></th>\n",
              "      <th></th>\n",
              "      <th></th>\n",
              "      <th></th>\n",
              "      <th></th>\n",
              "      <th></th>\n",
              "      <th></th>\n",
              "      <th></th>\n",
              "      <th></th>\n",
              "      <th></th>\n",
              "      <th></th>\n",
              "      <th></th>\n",
              "      <th></th>\n",
              "      <th></th>\n",
              "      <th></th>\n",
              "      <th></th>\n",
              "      <th></th>\n",
              "    </tr>\n",
              "  </thead>\n",
              "  <tbody>\n",
              "    <tr>\n",
              "      <th>2014-01-01 00:00:00</th>\n",
              "      <td>2.222033</td>\n",
              "      <td>2.935683</td>\n",
              "      <td>1009.296667</td>\n",
              "      <td>61.919998</td>\n",
              "      <td>26.766667</td>\n",
              "      <td>109.917462</td>\n",
              "      <td>1.416111</td>\n",
              "      <td>0.023750</td>\n",
              "      <td>0.023750</td>\n",
              "      <td>0.023750</td>\n",
              "      <td>...</td>\n",
              "      <td>61.919998</td>\n",
              "      <td>26.766667</td>\n",
              "      <td>26.766667</td>\n",
              "      <td>26.766667</td>\n",
              "      <td>109.917462</td>\n",
              "      <td>109.917462</td>\n",
              "      <td>109.917462</td>\n",
              "      <td>1.416111</td>\n",
              "      <td>1.416111</td>\n",
              "      <td>1.416111</td>\n",
              "    </tr>\n",
              "    <tr>\n",
              "      <th>2014-01-01 01:00:00</th>\n",
              "      <td>2.246267</td>\n",
              "      <td>3.341867</td>\n",
              "      <td>1008.596967</td>\n",
              "      <td>67.467221</td>\n",
              "      <td>26.727222</td>\n",
              "      <td>122.797093</td>\n",
              "      <td>0.991111</td>\n",
              "      <td>0.067311</td>\n",
              "      <td>0.067311</td>\n",
              "      <td>0.067311</td>\n",
              "      <td>...</td>\n",
              "      <td>67.467221</td>\n",
              "      <td>26.727222</td>\n",
              "      <td>26.727222</td>\n",
              "      <td>26.727222</td>\n",
              "      <td>122.797093</td>\n",
              "      <td>122.797093</td>\n",
              "      <td>122.797093</td>\n",
              "      <td>0.991111</td>\n",
              "      <td>0.991111</td>\n",
              "      <td>0.991111</td>\n",
              "    </tr>\n",
              "    <tr>\n",
              "      <th>2014-01-01 02:00:00</th>\n",
              "      <td>2.241650</td>\n",
              "      <td>3.145383</td>\n",
              "      <td>1008.072233</td>\n",
              "      <td>67.686110</td>\n",
              "      <td>26.469722</td>\n",
              "      <td>121.346898</td>\n",
              "      <td>0.971111</td>\n",
              "      <td>0.057886</td>\n",
              "      <td>0.057886</td>\n",
              "      <td>0.057886</td>\n",
              "      <td>...</td>\n",
              "      <td>67.686110</td>\n",
              "      <td>26.469722</td>\n",
              "      <td>26.469722</td>\n",
              "      <td>26.469722</td>\n",
              "      <td>121.346898</td>\n",
              "      <td>121.346898</td>\n",
              "      <td>121.346898</td>\n",
              "      <td>0.971111</td>\n",
              "      <td>0.971111</td>\n",
              "      <td>0.971111</td>\n",
              "    </tr>\n",
              "    <tr>\n",
              "      <th>2014-01-01 03:00:00</th>\n",
              "      <td>2.317033</td>\n",
              "      <td>3.431500</td>\n",
              "      <td>1008.202783</td>\n",
              "      <td>64.549443</td>\n",
              "      <td>26.728055</td>\n",
              "      <td>104.562909</td>\n",
              "      <td>1.489722</td>\n",
              "      <td>0.168305</td>\n",
              "      <td>0.168305</td>\n",
              "      <td>0.168305</td>\n",
              "      <td>...</td>\n",
              "      <td>64.549443</td>\n",
              "      <td>26.728055</td>\n",
              "      <td>26.728055</td>\n",
              "      <td>26.728055</td>\n",
              "      <td>104.562909</td>\n",
              "      <td>104.562909</td>\n",
              "      <td>104.562909</td>\n",
              "      <td>1.489722</td>\n",
              "      <td>1.489722</td>\n",
              "      <td>1.489722</td>\n",
              "    </tr>\n",
              "    <tr>\n",
              "      <th>2014-01-01 04:00:00</th>\n",
              "      <td>2.668283</td>\n",
              "      <td>4.268900</td>\n",
              "      <td>1008.255567</td>\n",
              "      <td>59.716386</td>\n",
              "      <td>27.358333</td>\n",
              "      <td>113.512547</td>\n",
              "      <td>1.503056</td>\n",
              "      <td>0.277276</td>\n",
              "      <td>0.277276</td>\n",
              "      <td>0.277276</td>\n",
              "      <td>...</td>\n",
              "      <td>59.716386</td>\n",
              "      <td>27.358333</td>\n",
              "      <td>27.358333</td>\n",
              "      <td>27.358333</td>\n",
              "      <td>113.512547</td>\n",
              "      <td>113.512547</td>\n",
              "      <td>113.512547</td>\n",
              "      <td>1.503056</td>\n",
              "      <td>1.503056</td>\n",
              "      <td>1.503056</td>\n",
              "    </tr>\n",
              "  </tbody>\n",
              "</table>\n",
              "<p>5 rows × 32 columns</p>\n",
              "</div>"
            ],
            "text/plain": [
              "                       FD_Avg    FG_Avg     Patm_Avg     RH_Avg   Text_Avg  \\\n",
              "Timestamp                                                                    \n",
              "2014-01-01 00:00:00  2.222033  2.935683  1009.296667  61.919998  26.766667   \n",
              "2014-01-01 01:00:00  2.246267  3.341867  1008.596967  67.467221  26.727222   \n",
              "2014-01-01 02:00:00  2.241650  3.145383  1008.072233  67.686110  26.469722   \n",
              "2014-01-01 03:00:00  2.317033  3.431500  1008.202783  64.549443  26.728055   \n",
              "2014-01-01 04:00:00  2.668283  4.268900  1008.255567  59.716386  27.358333   \n",
              "\n",
              "                     WD_MeanUnitVector   WS_Mean        Kb    Kb_H-1  \\\n",
              "Timestamp                                                              \n",
              "2014-01-01 00:00:00         109.917462  1.416111  0.023750  0.023750   \n",
              "2014-01-01 01:00:00         122.797093  0.991111  0.067311  0.067311   \n",
              "2014-01-01 02:00:00         121.346898  0.971111  0.057886  0.057886   \n",
              "2014-01-01 03:00:00         104.562909  1.489722  0.168305  0.168305   \n",
              "2014-01-01 04:00:00         113.512547  1.503056  0.277276  0.277276   \n",
              "\n",
              "                       Kb_H-2  ...     RH_H-3   Text_H-1   Text_H-2  \\\n",
              "Timestamp                      ...                                    \n",
              "2014-01-01 00:00:00  0.023750  ...  61.919998  26.766667  26.766667   \n",
              "2014-01-01 01:00:00  0.067311  ...  67.467221  26.727222  26.727222   \n",
              "2014-01-01 02:00:00  0.057886  ...  67.686110  26.469722  26.469722   \n",
              "2014-01-01 03:00:00  0.168305  ...  64.549443  26.728055  26.728055   \n",
              "2014-01-01 04:00:00  0.277276  ...  59.716386  27.358333  27.358333   \n",
              "\n",
              "                      Text_H-3  WD_MeanUnitVector_H-1  WD_MeanUnitVector_H-2  \\\n",
              "Timestamp                                                                      \n",
              "2014-01-01 00:00:00  26.766667             109.917462             109.917462   \n",
              "2014-01-01 01:00:00  26.727222             122.797093             122.797093   \n",
              "2014-01-01 02:00:00  26.469722             121.346898             121.346898   \n",
              "2014-01-01 03:00:00  26.728055             104.562909             104.562909   \n",
              "2014-01-01 04:00:00  27.358333             113.512547             113.512547   \n",
              "\n",
              "                     WD_MeanUnitVector_H-3  WS_Mean_H-1  WS_Mean_H-2  \\\n",
              "Timestamp                                                              \n",
              "2014-01-01 00:00:00             109.917462     1.416111     1.416111   \n",
              "2014-01-01 01:00:00             122.797093     0.991111     0.991111   \n",
              "2014-01-01 02:00:00             121.346898     0.971111     0.971111   \n",
              "2014-01-01 03:00:00             104.562909     1.489722     1.489722   \n",
              "2014-01-01 04:00:00             113.512547     1.503056     1.503056   \n",
              "\n",
              "                     WS_Mean_H-3  \n",
              "Timestamp                         \n",
              "2014-01-01 00:00:00     1.416111  \n",
              "2014-01-01 01:00:00     0.991111  \n",
              "2014-01-01 02:00:00     0.971111  \n",
              "2014-01-01 03:00:00     1.489722  \n",
              "2014-01-01 04:00:00     1.503056  \n",
              "\n",
              "[5 rows x 32 columns]"
            ]
          },
          "metadata": {
            "tags": []
          },
          "execution_count": 151
        }
      ]
    },
    {
      "cell_type": "code",
      "metadata": {
        "id": "sXm7Kapg_jng"
      },
      "source": [
        "data_hourly_possession.reset_index(inplace=True)"
      ],
      "execution_count": null,
      "outputs": []
    },
    {
      "cell_type": "code",
      "metadata": {
        "id": "xNarg0SR_jnh",
        "outputId": "38f0273d-42ef-480e-9582-fdd4f29a5f40"
      },
      "source": [
        "data_hourly_possession"
      ],
      "execution_count": null,
      "outputs": [
        {
          "output_type": "execute_result",
          "data": {
            "text/html": [
              "<div>\n",
              "<style scoped>\n",
              "    .dataframe tbody tr th:only-of-type {\n",
              "        vertical-align: middle;\n",
              "    }\n",
              "\n",
              "    .dataframe tbody tr th {\n",
              "        vertical-align: top;\n",
              "    }\n",
              "\n",
              "    .dataframe thead th {\n",
              "        text-align: right;\n",
              "    }\n",
              "</style>\n",
              "<table border=\"1\" class=\"dataframe\">\n",
              "  <thead>\n",
              "    <tr style=\"text-align: right;\">\n",
              "      <th></th>\n",
              "      <th>Timestamp</th>\n",
              "      <th>FD_Avg</th>\n",
              "      <th>FG_Avg</th>\n",
              "      <th>Patm_Avg</th>\n",
              "      <th>RH_Avg</th>\n",
              "      <th>Text_Avg</th>\n",
              "      <th>WD_MeanUnitVector</th>\n",
              "      <th>WS_Mean</th>\n",
              "      <th>Kb</th>\n",
              "      <th>Kb_H-1</th>\n",
              "      <th>...</th>\n",
              "      <th>RH_H-3</th>\n",
              "      <th>Text_H-1</th>\n",
              "      <th>Text_H-2</th>\n",
              "      <th>Text_H-3</th>\n",
              "      <th>WD_MeanUnitVector_H-1</th>\n",
              "      <th>WD_MeanUnitVector_H-2</th>\n",
              "      <th>WD_MeanUnitVector_H-3</th>\n",
              "      <th>WS_Mean_H-1</th>\n",
              "      <th>WS_Mean_H-2</th>\n",
              "      <th>WS_Mean_H-3</th>\n",
              "    </tr>\n",
              "  </thead>\n",
              "  <tbody>\n",
              "    <tr>\n",
              "      <th>0</th>\n",
              "      <td>2014-01-01 00:00:00</td>\n",
              "      <td>2.222033</td>\n",
              "      <td>2.935683</td>\n",
              "      <td>1009.296667</td>\n",
              "      <td>61.919998</td>\n",
              "      <td>26.766667</td>\n",
              "      <td>109.917462</td>\n",
              "      <td>1.416111</td>\n",
              "      <td>0.023750</td>\n",
              "      <td>0.023750</td>\n",
              "      <td>...</td>\n",
              "      <td>61.919998</td>\n",
              "      <td>26.766667</td>\n",
              "      <td>26.766667</td>\n",
              "      <td>26.766667</td>\n",
              "      <td>109.917462</td>\n",
              "      <td>109.917462</td>\n",
              "      <td>109.917462</td>\n",
              "      <td>1.416111</td>\n",
              "      <td>1.416111</td>\n",
              "      <td>1.416111</td>\n",
              "    </tr>\n",
              "    <tr>\n",
              "      <th>1</th>\n",
              "      <td>2014-01-01 01:00:00</td>\n",
              "      <td>2.246267</td>\n",
              "      <td>3.341867</td>\n",
              "      <td>1008.596967</td>\n",
              "      <td>67.467221</td>\n",
              "      <td>26.727222</td>\n",
              "      <td>122.797093</td>\n",
              "      <td>0.991111</td>\n",
              "      <td>0.067311</td>\n",
              "      <td>0.067311</td>\n",
              "      <td>...</td>\n",
              "      <td>67.467221</td>\n",
              "      <td>26.727222</td>\n",
              "      <td>26.727222</td>\n",
              "      <td>26.727222</td>\n",
              "      <td>122.797093</td>\n",
              "      <td>122.797093</td>\n",
              "      <td>122.797093</td>\n",
              "      <td>0.991111</td>\n",
              "      <td>0.991111</td>\n",
              "      <td>0.991111</td>\n",
              "    </tr>\n",
              "    <tr>\n",
              "      <th>2</th>\n",
              "      <td>2014-01-01 02:00:00</td>\n",
              "      <td>2.241650</td>\n",
              "      <td>3.145383</td>\n",
              "      <td>1008.072233</td>\n",
              "      <td>67.686110</td>\n",
              "      <td>26.469722</td>\n",
              "      <td>121.346898</td>\n",
              "      <td>0.971111</td>\n",
              "      <td>0.057886</td>\n",
              "      <td>0.057886</td>\n",
              "      <td>...</td>\n",
              "      <td>67.686110</td>\n",
              "      <td>26.469722</td>\n",
              "      <td>26.469722</td>\n",
              "      <td>26.469722</td>\n",
              "      <td>121.346898</td>\n",
              "      <td>121.346898</td>\n",
              "      <td>121.346898</td>\n",
              "      <td>0.971111</td>\n",
              "      <td>0.971111</td>\n",
              "      <td>0.971111</td>\n",
              "    </tr>\n",
              "    <tr>\n",
              "      <th>3</th>\n",
              "      <td>2014-01-01 03:00:00</td>\n",
              "      <td>2.317033</td>\n",
              "      <td>3.431500</td>\n",
              "      <td>1008.202783</td>\n",
              "      <td>64.549443</td>\n",
              "      <td>26.728055</td>\n",
              "      <td>104.562909</td>\n",
              "      <td>1.489722</td>\n",
              "      <td>0.168305</td>\n",
              "      <td>0.168305</td>\n",
              "      <td>...</td>\n",
              "      <td>64.549443</td>\n",
              "      <td>26.728055</td>\n",
              "      <td>26.728055</td>\n",
              "      <td>26.728055</td>\n",
              "      <td>104.562909</td>\n",
              "      <td>104.562909</td>\n",
              "      <td>104.562909</td>\n",
              "      <td>1.489722</td>\n",
              "      <td>1.489722</td>\n",
              "      <td>1.489722</td>\n",
              "    </tr>\n",
              "    <tr>\n",
              "      <th>4</th>\n",
              "      <td>2014-01-01 04:00:00</td>\n",
              "      <td>2.668283</td>\n",
              "      <td>4.268900</td>\n",
              "      <td>1008.255567</td>\n",
              "      <td>59.716386</td>\n",
              "      <td>27.358333</td>\n",
              "      <td>113.512547</td>\n",
              "      <td>1.503056</td>\n",
              "      <td>0.277276</td>\n",
              "      <td>0.277276</td>\n",
              "      <td>...</td>\n",
              "      <td>59.716386</td>\n",
              "      <td>27.358333</td>\n",
              "      <td>27.358333</td>\n",
              "      <td>27.358333</td>\n",
              "      <td>113.512547</td>\n",
              "      <td>113.512547</td>\n",
              "      <td>113.512547</td>\n",
              "      <td>1.503056</td>\n",
              "      <td>1.503056</td>\n",
              "      <td>1.503056</td>\n",
              "    </tr>\n",
              "    <tr>\n",
              "      <th>...</th>\n",
              "      <td>...</td>\n",
              "      <td>...</td>\n",
              "      <td>...</td>\n",
              "      <td>...</td>\n",
              "      <td>...</td>\n",
              "      <td>...</td>\n",
              "      <td>...</td>\n",
              "      <td>...</td>\n",
              "      <td>...</td>\n",
              "      <td>...</td>\n",
              "      <td>...</td>\n",
              "      <td>...</td>\n",
              "      <td>...</td>\n",
              "      <td>...</td>\n",
              "      <td>...</td>\n",
              "      <td>...</td>\n",
              "      <td>...</td>\n",
              "      <td>...</td>\n",
              "      <td>...</td>\n",
              "      <td>...</td>\n",
              "      <td>...</td>\n",
              "    </tr>\n",
              "    <tr>\n",
              "      <th>10330</th>\n",
              "      <td>2015-12-30 14:00:00</td>\n",
              "      <td>90.059000</td>\n",
              "      <td>91.506833</td>\n",
              "      <td>1009.799983</td>\n",
              "      <td>71.137777</td>\n",
              "      <td>27.129722</td>\n",
              "      <td>175.359822</td>\n",
              "      <td>1.439167</td>\n",
              "      <td>0.016568</td>\n",
              "      <td>0.016568</td>\n",
              "      <td>...</td>\n",
              "      <td>71.137777</td>\n",
              "      <td>27.129722</td>\n",
              "      <td>27.129722</td>\n",
              "      <td>27.129722</td>\n",
              "      <td>175.359822</td>\n",
              "      <td>175.359822</td>\n",
              "      <td>175.359822</td>\n",
              "      <td>1.439167</td>\n",
              "      <td>1.439167</td>\n",
              "      <td>1.439167</td>\n",
              "    </tr>\n",
              "    <tr>\n",
              "      <th>10331</th>\n",
              "      <td>2015-12-30 15:00:00</td>\n",
              "      <td>68.788667</td>\n",
              "      <td>69.491333</td>\n",
              "      <td>1009.356683</td>\n",
              "      <td>74.377220</td>\n",
              "      <td>26.141111</td>\n",
              "      <td>173.841727</td>\n",
              "      <td>1.295556</td>\n",
              "      <td>0.009418</td>\n",
              "      <td>0.009418</td>\n",
              "      <td>...</td>\n",
              "      <td>74.377220</td>\n",
              "      <td>26.141111</td>\n",
              "      <td>26.141111</td>\n",
              "      <td>26.141111</td>\n",
              "      <td>173.841727</td>\n",
              "      <td>173.841727</td>\n",
              "      <td>173.841727</td>\n",
              "      <td>1.295556</td>\n",
              "      <td>1.295556</td>\n",
              "      <td>1.295556</td>\n",
              "    </tr>\n",
              "    <tr>\n",
              "      <th>10332</th>\n",
              "      <td>2015-12-30 16:00:00</td>\n",
              "      <td>37.971500</td>\n",
              "      <td>39.594667</td>\n",
              "      <td>1009.150283</td>\n",
              "      <td>80.799165</td>\n",
              "      <td>24.839166</td>\n",
              "      <td>138.633123</td>\n",
              "      <td>1.070833</td>\n",
              "      <td>0.038894</td>\n",
              "      <td>0.038894</td>\n",
              "      <td>...</td>\n",
              "      <td>80.799165</td>\n",
              "      <td>24.839166</td>\n",
              "      <td>24.839166</td>\n",
              "      <td>24.839166</td>\n",
              "      <td>138.633123</td>\n",
              "      <td>138.633123</td>\n",
              "      <td>138.633123</td>\n",
              "      <td>1.070833</td>\n",
              "      <td>1.070833</td>\n",
              "      <td>1.070833</td>\n",
              "    </tr>\n",
              "    <tr>\n",
              "      <th>10333</th>\n",
              "      <td>2015-12-30 17:00:00</td>\n",
              "      <td>27.226000</td>\n",
              "      <td>28.889500</td>\n",
              "      <td>1009.131967</td>\n",
              "      <td>83.684720</td>\n",
              "      <td>24.431944</td>\n",
              "      <td>142.072356</td>\n",
              "      <td>0.841111</td>\n",
              "      <td>0.057609</td>\n",
              "      <td>0.057609</td>\n",
              "      <td>...</td>\n",
              "      <td>83.684720</td>\n",
              "      <td>24.431944</td>\n",
              "      <td>24.431944</td>\n",
              "      <td>24.431944</td>\n",
              "      <td>142.072356</td>\n",
              "      <td>142.072356</td>\n",
              "      <td>142.072356</td>\n",
              "      <td>0.841111</td>\n",
              "      <td>0.841111</td>\n",
              "      <td>0.841111</td>\n",
              "    </tr>\n",
              "    <tr>\n",
              "      <th>10334</th>\n",
              "      <td>2015-12-30 18:00:00</td>\n",
              "      <td>8.573650</td>\n",
              "      <td>9.631467</td>\n",
              "      <td>1009.575817</td>\n",
              "      <td>85.040554</td>\n",
              "      <td>24.285555</td>\n",
              "      <td>152.015350</td>\n",
              "      <td>1.146389</td>\n",
              "      <td>0.092600</td>\n",
              "      <td>0.092600</td>\n",
              "      <td>...</td>\n",
              "      <td>85.040554</td>\n",
              "      <td>24.285555</td>\n",
              "      <td>24.285555</td>\n",
              "      <td>24.285555</td>\n",
              "      <td>152.015350</td>\n",
              "      <td>152.015350</td>\n",
              "      <td>152.015350</td>\n",
              "      <td>1.146389</td>\n",
              "      <td>1.146389</td>\n",
              "      <td>1.146389</td>\n",
              "    </tr>\n",
              "  </tbody>\n",
              "</table>\n",
              "<p>10335 rows × 33 columns</p>\n",
              "</div>"
            ],
            "text/plain": [
              "                Timestamp     FD_Avg     FG_Avg     Patm_Avg     RH_Avg  \\\n",
              "0     2014-01-01 00:00:00   2.222033   2.935683  1009.296667  61.919998   \n",
              "1     2014-01-01 01:00:00   2.246267   3.341867  1008.596967  67.467221   \n",
              "2     2014-01-01 02:00:00   2.241650   3.145383  1008.072233  67.686110   \n",
              "3     2014-01-01 03:00:00   2.317033   3.431500  1008.202783  64.549443   \n",
              "4     2014-01-01 04:00:00   2.668283   4.268900  1008.255567  59.716386   \n",
              "...                   ...        ...        ...          ...        ...   \n",
              "10330 2015-12-30 14:00:00  90.059000  91.506833  1009.799983  71.137777   \n",
              "10331 2015-12-30 15:00:00  68.788667  69.491333  1009.356683  74.377220   \n",
              "10332 2015-12-30 16:00:00  37.971500  39.594667  1009.150283  80.799165   \n",
              "10333 2015-12-30 17:00:00  27.226000  28.889500  1009.131967  83.684720   \n",
              "10334 2015-12-30 18:00:00   8.573650   9.631467  1009.575817  85.040554   \n",
              "\n",
              "        Text_Avg  WD_MeanUnitVector   WS_Mean        Kb    Kb_H-1  ...  \\\n",
              "0      26.766667         109.917462  1.416111  0.023750  0.023750  ...   \n",
              "1      26.727222         122.797093  0.991111  0.067311  0.067311  ...   \n",
              "2      26.469722         121.346898  0.971111  0.057886  0.057886  ...   \n",
              "3      26.728055         104.562909  1.489722  0.168305  0.168305  ...   \n",
              "4      27.358333         113.512547  1.503056  0.277276  0.277276  ...   \n",
              "...          ...                ...       ...       ...       ...  ...   \n",
              "10330  27.129722         175.359822  1.439167  0.016568  0.016568  ...   \n",
              "10331  26.141111         173.841727  1.295556  0.009418  0.009418  ...   \n",
              "10332  24.839166         138.633123  1.070833  0.038894  0.038894  ...   \n",
              "10333  24.431944         142.072356  0.841111  0.057609  0.057609  ...   \n",
              "10334  24.285555         152.015350  1.146389  0.092600  0.092600  ...   \n",
              "\n",
              "          RH_H-3   Text_H-1   Text_H-2   Text_H-3  WD_MeanUnitVector_H-1  \\\n",
              "0      61.919998  26.766667  26.766667  26.766667             109.917462   \n",
              "1      67.467221  26.727222  26.727222  26.727222             122.797093   \n",
              "2      67.686110  26.469722  26.469722  26.469722             121.346898   \n",
              "3      64.549443  26.728055  26.728055  26.728055             104.562909   \n",
              "4      59.716386  27.358333  27.358333  27.358333             113.512547   \n",
              "...          ...        ...        ...        ...                    ...   \n",
              "10330  71.137777  27.129722  27.129722  27.129722             175.359822   \n",
              "10331  74.377220  26.141111  26.141111  26.141111             173.841727   \n",
              "10332  80.799165  24.839166  24.839166  24.839166             138.633123   \n",
              "10333  83.684720  24.431944  24.431944  24.431944             142.072356   \n",
              "10334  85.040554  24.285555  24.285555  24.285555             152.015350   \n",
              "\n",
              "       WD_MeanUnitVector_H-2  WD_MeanUnitVector_H-3  WS_Mean_H-1  WS_Mean_H-2  \\\n",
              "0                 109.917462             109.917462     1.416111     1.416111   \n",
              "1                 122.797093             122.797093     0.991111     0.991111   \n",
              "2                 121.346898             121.346898     0.971111     0.971111   \n",
              "3                 104.562909             104.562909     1.489722     1.489722   \n",
              "4                 113.512547             113.512547     1.503056     1.503056   \n",
              "...                      ...                    ...          ...          ...   \n",
              "10330             175.359822             175.359822     1.439167     1.439167   \n",
              "10331             173.841727             173.841727     1.295556     1.295556   \n",
              "10332             138.633123             138.633123     1.070833     1.070833   \n",
              "10333             142.072356             142.072356     0.841111     0.841111   \n",
              "10334             152.015350             152.015350     1.146389     1.146389   \n",
              "\n",
              "       WS_Mean_H-3  \n",
              "0         1.416111  \n",
              "1         0.991111  \n",
              "2         0.971111  \n",
              "3         1.489722  \n",
              "4         1.503056  \n",
              "...            ...  \n",
              "10330     1.439167  \n",
              "10331     1.295556  \n",
              "10332     1.070833  \n",
              "10333     0.841111  \n",
              "10334     1.146389  \n",
              "\n",
              "[10335 rows x 33 columns]"
            ]
          },
          "metadata": {
            "tags": []
          },
          "execution_count": 153
        }
      ]
    },
    {
      "cell_type": "code",
      "metadata": {
        "id": "P0J2Dj0M_jnh"
      },
      "source": [
        ""
      ],
      "execution_count": null,
      "outputs": []
    },
    {
      "cell_type": "code",
      "metadata": {
        "id": "BpWcV5J3_jnh",
        "outputId": "618657f9-9451-4b4a-d45d-6161f912bd78"
      },
      "source": [
        "data_hourly_possession.loc[1,\"Kb\"]"
      ],
      "execution_count": null,
      "outputs": [
        {
          "output_type": "execute_result",
          "data": {
            "text/plain": [
              "0.06731087079292197"
            ]
          },
          "metadata": {
            "tags": []
          },
          "execution_count": 154
        }
      ]
    },
    {
      "cell_type": "code",
      "metadata": {
        "id": "UnLPrqWI_jnh"
      },
      "source": [
        "for i in range(3,10335):\n",
        "    data_hourly_possession.loc[i,\"Kb_H-1\"]=data_hourly_possession.loc[i-1,\"Kb\"]\n",
        "    data_hourly_possession.loc[i,\"Kb_H-2\"]=data_hourly_possession.loc[i-2,\"Kb\"]\n",
        "    data_hourly_possession.loc[i,\"Kb_H-3\"]=data_hourly_possession.loc[i-3,\"Kb\"]"
      ],
      "execution_count": null,
      "outputs": []
    },
    {
      "cell_type": "code",
      "metadata": {
        "id": "3r7t8oqW_jni"
      },
      "source": [
        "for i in range(3,10335):\n",
        "    data_hourly_possession.loc[i,\"FD_H-1\"]=data_hourly_possession.loc[i-1,\"FD_Avg\"]\n",
        "    data_hourly_possession.loc[i,\"FD_H-2\"]=data_hourly_possession.loc[i-2,\"FD_Avg\"]\n",
        "    data_hourly_possession.loc[i,\"FD_H-3\"]=data_hourly_possession.loc[i-3,\"FD_Avg\"]"
      ],
      "execution_count": null,
      "outputs": []
    },
    {
      "cell_type": "code",
      "metadata": {
        "id": "zXSH3kAK_jni"
      },
      "source": [
        "for i in range(3,10335):\n",
        "    data_hourly_possession.loc[i,\"FG_H-1\"]=data_hourly_possession.loc[i-1,\"FG_Avg\"]\n",
        "    data_hourly_possession.loc[i,\"FG_H-2\"]=data_hourly_possession.loc[i-2,\"FG_Avg\"]\n",
        "    data_hourly_possession.loc[i,\"FG_H-3\"]=data_hourly_possession.loc[i-3,\"FG_Avg\"]"
      ],
      "execution_count": null,
      "outputs": []
    },
    {
      "cell_type": "code",
      "metadata": {
        "id": "A4H4ylZW_jni"
      },
      "source": [
        "for i in range(3,10335):\n",
        "    data_hourly_possession.loc[i,\"Patm_H-1\"]=data_hourly_possession.loc[i-1,\"Patm_Avg\"]\n",
        "    data_hourly_possession.loc[i,\"Patm_H-2\"]=data_hourly_possession.loc[i-2,\"Patm_Avg\"]\n",
        "    data_hourly_possession.loc[i,\"Patm_H-3\"]=data_hourly_possession.loc[i-3,\"Patm_Avg\"]"
      ],
      "execution_count": null,
      "outputs": []
    },
    {
      "cell_type": "code",
      "metadata": {
        "id": "jdEkrFlj_jni"
      },
      "source": [
        "for i in range(3,10335):\n",
        "    data_hourly_possession.loc[i,\"RH_H-1\"]=data_hourly_possession.loc[i-1,\"RH_Avg\"]\n",
        "    data_hourly_possession.loc[i,\"RH_H-2\"]=data_hourly_possession.loc[i-2,\"RH_Avg\"]\n",
        "    data_hourly_possession.loc[i,\"RH_H-3\"]=data_hourly_possession.loc[i-3,\"RH_Avg\"]"
      ],
      "execution_count": null,
      "outputs": []
    },
    {
      "cell_type": "code",
      "metadata": {
        "id": "yFt9bgzv_jnj"
      },
      "source": [
        "for i in range(3,10335):\n",
        "    data_hourly_possession.loc[i,\"Text_H-1\"]=data_hourly_possession.loc[i-1,\"Text_Avg\"]\n",
        "    data_hourly_possession.loc[i,\"Text_H-2\"]=data_hourly_possession.loc[i-2,\"Text_Avg\"]\n",
        "    data_hourly_possession.loc[i,\"Text_H-3\"]=data_hourly_possession.loc[i-3,\"Text_Avg\"]"
      ],
      "execution_count": null,
      "outputs": []
    },
    {
      "cell_type": "code",
      "metadata": {
        "id": "WYAxm3hA_jnj"
      },
      "source": [
        "for i in range(3,10335):\n",
        "    data_hourly_possession.loc[i,\"WD_MeanUnitVector_H-1\"]=data_hourly_possession.loc[i-1,\"WD_MeanUnitVector\"]\n",
        "    data_hourly_possession.loc[i,\"WD_MeanUnitVector_H-2\"]=data_hourly_possession.loc[i-2,\"WD_MeanUnitVector\"]\n",
        "    data_hourly_possession.loc[i,\"WD_MeanUnitVector_H-3\"]=data_hourly_possession.loc[i-3,\"WD_MeanUnitVector\"]"
      ],
      "execution_count": null,
      "outputs": []
    },
    {
      "cell_type": "code",
      "metadata": {
        "id": "6O-YT-ca_jnj"
      },
      "source": [
        "for i in range(3,10335):\n",
        "    data_hourly_possession.loc[i,\"WS_Mean_H-1\"]=data_hourly_possession.loc[i-1,\"WS_Mean\"]\n",
        "    data_hourly_possession.loc[i,\"WS_Mean_H-2\"]=data_hourly_possession.loc[i-2,\"WS_Mean\"]\n",
        "    data_hourly_possession.loc[i,\"WS_Mean_H-3\"]=data_hourly_possession.loc[i-3,\"WS_Mean\"]"
      ],
      "execution_count": null,
      "outputs": []
    },
    {
      "cell_type": "code",
      "metadata": {
        "id": "lSsNYaQw_jnj"
      },
      "source": [
        ""
      ],
      "execution_count": null,
      "outputs": []
    },
    {
      "cell_type": "code",
      "metadata": {
        "id": "CNEDw6_o_jnk"
      },
      "source": [
        "scalar=data_hourly_possession"
      ],
      "execution_count": null,
      "outputs": []
    },
    {
      "cell_type": "code",
      "metadata": {
        "id": "kTyOl-Ki_jnk"
      },
      "source": [
        "scalar=scalar.drop([\"FG_Avg\",\"FD_Avg\",\"WS_Mean\",\"WD_MeanUnitVector\",\"Text_Avg\",\"RH_Avg\",\"FG_Avg\",\"FD_Avg\",\"Patm_Avg\"],axis=1)"
      ],
      "execution_count": null,
      "outputs": []
    },
    {
      "cell_type": "code",
      "metadata": {
        "id": "e54_OakO_jnk",
        "outputId": "73e34cee-ad1f-4ebe-9feb-d25836bc2802"
      },
      "source": [
        "scalar"
      ],
      "execution_count": null,
      "outputs": [
        {
          "output_type": "execute_result",
          "data": {
            "text/html": [
              "<div>\n",
              "<style scoped>\n",
              "    .dataframe tbody tr th:only-of-type {\n",
              "        vertical-align: middle;\n",
              "    }\n",
              "\n",
              "    .dataframe tbody tr th {\n",
              "        vertical-align: top;\n",
              "    }\n",
              "\n",
              "    .dataframe thead th {\n",
              "        text-align: right;\n",
              "    }\n",
              "</style>\n",
              "<table border=\"1\" class=\"dataframe\">\n",
              "  <thead>\n",
              "    <tr style=\"text-align: right;\">\n",
              "      <th></th>\n",
              "      <th>Timestamp</th>\n",
              "      <th>Kb</th>\n",
              "      <th>Kb_H-1</th>\n",
              "      <th>Kb_H-2</th>\n",
              "      <th>Kb_H-3</th>\n",
              "      <th>FD_H-1</th>\n",
              "      <th>FD_H-2</th>\n",
              "      <th>FD_H-3</th>\n",
              "      <th>FG_H-1</th>\n",
              "      <th>FG_H-2</th>\n",
              "      <th>...</th>\n",
              "      <th>RH_H-3</th>\n",
              "      <th>Text_H-1</th>\n",
              "      <th>Text_H-2</th>\n",
              "      <th>Text_H-3</th>\n",
              "      <th>WD_MeanUnitVector_H-1</th>\n",
              "      <th>WD_MeanUnitVector_H-2</th>\n",
              "      <th>WD_MeanUnitVector_H-3</th>\n",
              "      <th>WS_Mean_H-1</th>\n",
              "      <th>WS_Mean_H-2</th>\n",
              "      <th>WS_Mean_H-3</th>\n",
              "    </tr>\n",
              "  </thead>\n",
              "  <tbody>\n",
              "    <tr>\n",
              "      <th>0</th>\n",
              "      <td>2014-01-01 00:00:00</td>\n",
              "      <td>0.023750</td>\n",
              "      <td>0.023750</td>\n",
              "      <td>0.023750</td>\n",
              "      <td>0.023750</td>\n",
              "      <td>2.222033</td>\n",
              "      <td>2.222033</td>\n",
              "      <td>2.222033</td>\n",
              "      <td>2.935683</td>\n",
              "      <td>2.935683</td>\n",
              "      <td>...</td>\n",
              "      <td>61.919998</td>\n",
              "      <td>26.766667</td>\n",
              "      <td>26.766667</td>\n",
              "      <td>26.766667</td>\n",
              "      <td>109.917462</td>\n",
              "      <td>109.917462</td>\n",
              "      <td>109.917462</td>\n",
              "      <td>1.416111</td>\n",
              "      <td>1.416111</td>\n",
              "      <td>1.416111</td>\n",
              "    </tr>\n",
              "    <tr>\n",
              "      <th>1</th>\n",
              "      <td>2014-01-01 01:00:00</td>\n",
              "      <td>0.067311</td>\n",
              "      <td>0.067311</td>\n",
              "      <td>0.067311</td>\n",
              "      <td>0.067311</td>\n",
              "      <td>2.246267</td>\n",
              "      <td>2.246267</td>\n",
              "      <td>2.246267</td>\n",
              "      <td>3.341867</td>\n",
              "      <td>3.341867</td>\n",
              "      <td>...</td>\n",
              "      <td>67.467221</td>\n",
              "      <td>26.727222</td>\n",
              "      <td>26.727222</td>\n",
              "      <td>26.727222</td>\n",
              "      <td>122.797093</td>\n",
              "      <td>122.797093</td>\n",
              "      <td>122.797093</td>\n",
              "      <td>0.991111</td>\n",
              "      <td>0.991111</td>\n",
              "      <td>0.991111</td>\n",
              "    </tr>\n",
              "    <tr>\n",
              "      <th>2</th>\n",
              "      <td>2014-01-01 02:00:00</td>\n",
              "      <td>0.057886</td>\n",
              "      <td>0.057886</td>\n",
              "      <td>0.057886</td>\n",
              "      <td>0.057886</td>\n",
              "      <td>2.241650</td>\n",
              "      <td>2.241650</td>\n",
              "      <td>2.241650</td>\n",
              "      <td>3.145383</td>\n",
              "      <td>3.145383</td>\n",
              "      <td>...</td>\n",
              "      <td>67.686110</td>\n",
              "      <td>26.469722</td>\n",
              "      <td>26.469722</td>\n",
              "      <td>26.469722</td>\n",
              "      <td>121.346898</td>\n",
              "      <td>121.346898</td>\n",
              "      <td>121.346898</td>\n",
              "      <td>0.971111</td>\n",
              "      <td>0.971111</td>\n",
              "      <td>0.971111</td>\n",
              "    </tr>\n",
              "    <tr>\n",
              "      <th>3</th>\n",
              "      <td>2014-01-01 03:00:00</td>\n",
              "      <td>0.168305</td>\n",
              "      <td>0.057886</td>\n",
              "      <td>0.067311</td>\n",
              "      <td>0.023750</td>\n",
              "      <td>2.241650</td>\n",
              "      <td>2.246267</td>\n",
              "      <td>2.222033</td>\n",
              "      <td>3.145383</td>\n",
              "      <td>3.341867</td>\n",
              "      <td>...</td>\n",
              "      <td>61.919998</td>\n",
              "      <td>26.469722</td>\n",
              "      <td>26.727222</td>\n",
              "      <td>26.766667</td>\n",
              "      <td>121.346898</td>\n",
              "      <td>122.797093</td>\n",
              "      <td>109.917462</td>\n",
              "      <td>0.971111</td>\n",
              "      <td>0.991111</td>\n",
              "      <td>1.416111</td>\n",
              "    </tr>\n",
              "    <tr>\n",
              "      <th>4</th>\n",
              "      <td>2014-01-01 04:00:00</td>\n",
              "      <td>0.277276</td>\n",
              "      <td>0.168305</td>\n",
              "      <td>0.057886</td>\n",
              "      <td>0.067311</td>\n",
              "      <td>2.317033</td>\n",
              "      <td>2.241650</td>\n",
              "      <td>2.246267</td>\n",
              "      <td>3.431500</td>\n",
              "      <td>3.145383</td>\n",
              "      <td>...</td>\n",
              "      <td>67.467221</td>\n",
              "      <td>26.728055</td>\n",
              "      <td>26.469722</td>\n",
              "      <td>26.727222</td>\n",
              "      <td>104.562909</td>\n",
              "      <td>121.346898</td>\n",
              "      <td>122.797093</td>\n",
              "      <td>1.489722</td>\n",
              "      <td>0.971111</td>\n",
              "      <td>0.991111</td>\n",
              "    </tr>\n",
              "    <tr>\n",
              "      <th>...</th>\n",
              "      <td>...</td>\n",
              "      <td>...</td>\n",
              "      <td>...</td>\n",
              "      <td>...</td>\n",
              "      <td>...</td>\n",
              "      <td>...</td>\n",
              "      <td>...</td>\n",
              "      <td>...</td>\n",
              "      <td>...</td>\n",
              "      <td>...</td>\n",
              "      <td>...</td>\n",
              "      <td>...</td>\n",
              "      <td>...</td>\n",
              "      <td>...</td>\n",
              "      <td>...</td>\n",
              "      <td>...</td>\n",
              "      <td>...</td>\n",
              "      <td>...</td>\n",
              "      <td>...</td>\n",
              "      <td>...</td>\n",
              "      <td>...</td>\n",
              "    </tr>\n",
              "    <tr>\n",
              "      <th>10330</th>\n",
              "      <td>2015-12-30 14:00:00</td>\n",
              "      <td>0.016568</td>\n",
              "      <td>0.006368</td>\n",
              "      <td>0.021134</td>\n",
              "      <td>0.021968</td>\n",
              "      <td>119.536667</td>\n",
              "      <td>116.435000</td>\n",
              "      <td>176.926667</td>\n",
              "      <td>120.318333</td>\n",
              "      <td>118.915000</td>\n",
              "      <td>...</td>\n",
              "      <td>54.430554</td>\n",
              "      <td>27.642777</td>\n",
              "      <td>28.343333</td>\n",
              "      <td>29.238611</td>\n",
              "      <td>134.023886</td>\n",
              "      <td>81.965569</td>\n",
              "      <td>64.173795</td>\n",
              "      <td>1.412500</td>\n",
              "      <td>2.021389</td>\n",
              "      <td>2.522222</td>\n",
              "    </tr>\n",
              "    <tr>\n",
              "      <th>10331</th>\n",
              "      <td>2015-12-30 15:00:00</td>\n",
              "      <td>0.009418</td>\n",
              "      <td>0.016568</td>\n",
              "      <td>0.006368</td>\n",
              "      <td>0.021134</td>\n",
              "      <td>90.059000</td>\n",
              "      <td>119.536667</td>\n",
              "      <td>116.435000</td>\n",
              "      <td>91.506833</td>\n",
              "      <td>120.318333</td>\n",
              "      <td>...</td>\n",
              "      <td>58.044997</td>\n",
              "      <td>27.129722</td>\n",
              "      <td>27.642777</td>\n",
              "      <td>28.343333</td>\n",
              "      <td>175.359822</td>\n",
              "      <td>134.023886</td>\n",
              "      <td>81.965569</td>\n",
              "      <td>1.439167</td>\n",
              "      <td>1.412500</td>\n",
              "      <td>2.021389</td>\n",
              "    </tr>\n",
              "    <tr>\n",
              "      <th>10332</th>\n",
              "      <td>2015-12-30 16:00:00</td>\n",
              "      <td>0.038894</td>\n",
              "      <td>0.009418</td>\n",
              "      <td>0.016568</td>\n",
              "      <td>0.006368</td>\n",
              "      <td>68.788667</td>\n",
              "      <td>90.059000</td>\n",
              "      <td>119.536667</td>\n",
              "      <td>69.491333</td>\n",
              "      <td>91.506833</td>\n",
              "      <td>...</td>\n",
              "      <td>65.018609</td>\n",
              "      <td>26.141111</td>\n",
              "      <td>27.129722</td>\n",
              "      <td>27.642777</td>\n",
              "      <td>173.841727</td>\n",
              "      <td>175.359822</td>\n",
              "      <td>134.023886</td>\n",
              "      <td>1.295556</td>\n",
              "      <td>1.439167</td>\n",
              "      <td>1.412500</td>\n",
              "    </tr>\n",
              "    <tr>\n",
              "      <th>10333</th>\n",
              "      <td>2015-12-30 17:00:00</td>\n",
              "      <td>0.057609</td>\n",
              "      <td>0.038894</td>\n",
              "      <td>0.009418</td>\n",
              "      <td>0.016568</td>\n",
              "      <td>37.971500</td>\n",
              "      <td>68.788667</td>\n",
              "      <td>90.059000</td>\n",
              "      <td>39.594667</td>\n",
              "      <td>69.491333</td>\n",
              "      <td>...</td>\n",
              "      <td>71.137777</td>\n",
              "      <td>24.839166</td>\n",
              "      <td>26.141111</td>\n",
              "      <td>27.129722</td>\n",
              "      <td>138.633123</td>\n",
              "      <td>173.841727</td>\n",
              "      <td>175.359822</td>\n",
              "      <td>1.070833</td>\n",
              "      <td>1.295556</td>\n",
              "      <td>1.439167</td>\n",
              "    </tr>\n",
              "    <tr>\n",
              "      <th>10334</th>\n",
              "      <td>2015-12-30 18:00:00</td>\n",
              "      <td>0.092600</td>\n",
              "      <td>0.057609</td>\n",
              "      <td>0.038894</td>\n",
              "      <td>0.009418</td>\n",
              "      <td>27.226000</td>\n",
              "      <td>37.971500</td>\n",
              "      <td>68.788667</td>\n",
              "      <td>28.889500</td>\n",
              "      <td>39.594667</td>\n",
              "      <td>...</td>\n",
              "      <td>74.377220</td>\n",
              "      <td>24.431944</td>\n",
              "      <td>24.839166</td>\n",
              "      <td>26.141111</td>\n",
              "      <td>142.072356</td>\n",
              "      <td>138.633123</td>\n",
              "      <td>173.841727</td>\n",
              "      <td>0.841111</td>\n",
              "      <td>1.070833</td>\n",
              "      <td>1.295556</td>\n",
              "    </tr>\n",
              "  </tbody>\n",
              "</table>\n",
              "<p>10335 rows × 26 columns</p>\n",
              "</div>"
            ],
            "text/plain": [
              "                Timestamp        Kb    Kb_H-1    Kb_H-2    Kb_H-3      FD_H-1  \\\n",
              "0     2014-01-01 00:00:00  0.023750  0.023750  0.023750  0.023750    2.222033   \n",
              "1     2014-01-01 01:00:00  0.067311  0.067311  0.067311  0.067311    2.246267   \n",
              "2     2014-01-01 02:00:00  0.057886  0.057886  0.057886  0.057886    2.241650   \n",
              "3     2014-01-01 03:00:00  0.168305  0.057886  0.067311  0.023750    2.241650   \n",
              "4     2014-01-01 04:00:00  0.277276  0.168305  0.057886  0.067311    2.317033   \n",
              "...                   ...       ...       ...       ...       ...         ...   \n",
              "10330 2015-12-30 14:00:00  0.016568  0.006368  0.021134  0.021968  119.536667   \n",
              "10331 2015-12-30 15:00:00  0.009418  0.016568  0.006368  0.021134   90.059000   \n",
              "10332 2015-12-30 16:00:00  0.038894  0.009418  0.016568  0.006368   68.788667   \n",
              "10333 2015-12-30 17:00:00  0.057609  0.038894  0.009418  0.016568   37.971500   \n",
              "10334 2015-12-30 18:00:00  0.092600  0.057609  0.038894  0.009418   27.226000   \n",
              "\n",
              "           FD_H-2      FD_H-3      FG_H-1      FG_H-2  ...     RH_H-3  \\\n",
              "0        2.222033    2.222033    2.935683    2.935683  ...  61.919998   \n",
              "1        2.246267    2.246267    3.341867    3.341867  ...  67.467221   \n",
              "2        2.241650    2.241650    3.145383    3.145383  ...  67.686110   \n",
              "3        2.246267    2.222033    3.145383    3.341867  ...  61.919998   \n",
              "4        2.241650    2.246267    3.431500    3.145383  ...  67.467221   \n",
              "...           ...         ...         ...         ...  ...        ...   \n",
              "10330  116.435000  176.926667  120.318333  118.915000  ...  54.430554   \n",
              "10331  119.536667  116.435000   91.506833  120.318333  ...  58.044997   \n",
              "10332   90.059000  119.536667   69.491333   91.506833  ...  65.018609   \n",
              "10333   68.788667   90.059000   39.594667   69.491333  ...  71.137777   \n",
              "10334   37.971500   68.788667   28.889500   39.594667  ...  74.377220   \n",
              "\n",
              "        Text_H-1   Text_H-2   Text_H-3  WD_MeanUnitVector_H-1  \\\n",
              "0      26.766667  26.766667  26.766667             109.917462   \n",
              "1      26.727222  26.727222  26.727222             122.797093   \n",
              "2      26.469722  26.469722  26.469722             121.346898   \n",
              "3      26.469722  26.727222  26.766667             121.346898   \n",
              "4      26.728055  26.469722  26.727222             104.562909   \n",
              "...          ...        ...        ...                    ...   \n",
              "10330  27.642777  28.343333  29.238611             134.023886   \n",
              "10331  27.129722  27.642777  28.343333             175.359822   \n",
              "10332  26.141111  27.129722  27.642777             173.841727   \n",
              "10333  24.839166  26.141111  27.129722             138.633123   \n",
              "10334  24.431944  24.839166  26.141111             142.072356   \n",
              "\n",
              "       WD_MeanUnitVector_H-2  WD_MeanUnitVector_H-3  WS_Mean_H-1  WS_Mean_H-2  \\\n",
              "0                 109.917462             109.917462     1.416111     1.416111   \n",
              "1                 122.797093             122.797093     0.991111     0.991111   \n",
              "2                 121.346898             121.346898     0.971111     0.971111   \n",
              "3                 122.797093             109.917462     0.971111     0.991111   \n",
              "4                 121.346898             122.797093     1.489722     0.971111   \n",
              "...                      ...                    ...          ...          ...   \n",
              "10330              81.965569              64.173795     1.412500     2.021389   \n",
              "10331             134.023886              81.965569     1.439167     1.412500   \n",
              "10332             175.359822             134.023886     1.295556     1.439167   \n",
              "10333             173.841727             175.359822     1.070833     1.295556   \n",
              "10334             138.633123             173.841727     0.841111     1.070833   \n",
              "\n",
              "       WS_Mean_H-3  \n",
              "0         1.416111  \n",
              "1         0.991111  \n",
              "2         0.971111  \n",
              "3         1.416111  \n",
              "4         0.991111  \n",
              "...            ...  \n",
              "10330     2.522222  \n",
              "10331     2.021389  \n",
              "10332     1.412500  \n",
              "10333     1.439167  \n",
              "10334     1.295556  \n",
              "\n",
              "[10335 rows x 26 columns]"
            ]
          },
          "metadata": {
            "tags": []
          },
          "execution_count": 165
        }
      ]
    },
    {
      "cell_type": "code",
      "metadata": {
        "id": "qE7_GLWp_jnk"
      },
      "source": [
        "scalar = scalar.drop(index=[0,1,2])"
      ],
      "execution_count": null,
      "outputs": []
    },
    {
      "cell_type": "code",
      "metadata": {
        "id": "jjXx3eI5_jnl"
      },
      "source": [
        "X=scalar.iloc[:,2:]\n",
        "y=scalar.iloc[:,1]"
      ],
      "execution_count": null,
      "outputs": []
    },
    {
      "cell_type": "code",
      "metadata": {
        "id": "-Xdieni7_jnl"
      },
      "source": [
        ""
      ],
      "execution_count": null,
      "outputs": []
    },
    {
      "cell_type": "code",
      "metadata": {
        "id": "kNi5ytyk_jnl"
      },
      "source": [
        "from sklearn.model_selection import train_test_split\n",
        "\n",
        "X_train, X_test, y_train, y_test = train_test_split(X, y, test_size=0.2, random_state=1)"
      ],
      "execution_count": null,
      "outputs": []
    },
    {
      "cell_type": "code",
      "metadata": {
        "id": "x-Y4gB9a_jnl"
      },
      "source": [
        "from sklearn.linear_model import LinearRegression"
      ],
      "execution_count": null,
      "outputs": []
    },
    {
      "cell_type": "code",
      "metadata": {
        "id": "HO4u2aoA_jnm"
      },
      "source": [
        "reg = LinearRegression().fit(X_train, y_train)"
      ],
      "execution_count": null,
      "outputs": []
    },
    {
      "cell_type": "code",
      "metadata": {
        "id": "XA2Oj3VO_jnm",
        "outputId": "b0416019-10d1-49fd-a112-63ed0daf2d78"
      },
      "source": [
        "reg.score(X_test, y_test)"
      ],
      "execution_count": null,
      "outputs": [
        {
          "output_type": "execute_result",
          "data": {
            "text/plain": [
              "0.6397644527740285"
            ]
          },
          "metadata": {
            "tags": []
          },
          "execution_count": 171
        }
      ]
    },
    {
      "cell_type": "markdown",
      "metadata": {
        "id": "tvR376b5_jnn"
      },
      "source": [
        "# arbre de decision"
      ]
    },
    {
      "cell_type": "code",
      "metadata": {
        "id": "0jskq2AP_jnn"
      },
      "source": [
        "from sklearn.tree import DecisionTreeRegressor\n",
        "\n",
        "reg = DecisionTreeRegressor().fit(X_train, y_train)"
      ],
      "execution_count": null,
      "outputs": []
    },
    {
      "cell_type": "code",
      "metadata": {
        "id": "Uv1TOou0_jnn",
        "outputId": "945b8dd9-c83c-4077-d8e7-0294fda6023d"
      },
      "source": [
        "reg.score(X_train, y_train)"
      ],
      "execution_count": null,
      "outputs": [
        {
          "output_type": "execute_result",
          "data": {
            "text/plain": [
              "1.0"
            ]
          },
          "metadata": {
            "tags": []
          },
          "execution_count": 173
        }
      ]
    },
    {
      "cell_type": "code",
      "metadata": {
        "id": "7cTQQlax_jnn",
        "outputId": "4a468902-3883-4793-f5bf-b4f67a423bfa"
      },
      "source": [
        "reg.score(X_test, y_test)"
      ],
      "execution_count": null,
      "outputs": [
        {
          "output_type": "execute_result",
          "data": {
            "text/plain": [
              "0.4225608011812484"
            ]
          },
          "metadata": {
            "tags": []
          },
          "execution_count": 174
        }
      ]
    },
    {
      "cell_type": "markdown",
      "metadata": {
        "id": "YxkrzLQY_jno"
      },
      "source": [
        "Random Forest"
      ]
    },
    {
      "cell_type": "code",
      "metadata": {
        "id": "pkDsrOaL_jno",
        "outputId": "9c2a3740-abc5-47c9-be52-e3f6d4734a47"
      },
      "source": [
        "from sklearn.ensemble import RandomForestRegressor\n",
        "\n",
        "reg = RandomForestRegressor().fit(X_train, y_train)\n",
        "\n",
        "reg.score(X_test, y_test)"
      ],
      "execution_count": null,
      "outputs": [
        {
          "output_type": "execute_result",
          "data": {
            "text/plain": [
              "0.7146152766269662"
            ]
          },
          "metadata": {
            "tags": []
          },
          "execution_count": 175
        }
      ]
    },
    {
      "cell_type": "code",
      "metadata": {
        "id": "aD54Kqfx_jno"
      },
      "source": [
        ""
      ],
      "execution_count": null,
      "outputs": []
    },
    {
      "cell_type": "markdown",
      "metadata": {
        "id": "9BEJaH4B_jnp"
      },
      "source": [
        "# SI ON SUPPRIME DABOR LES VALEURS ABERRANTES"
      ]
    },
    {
      "cell_type": "code",
      "metadata": {
        "id": "_SlS--J1_jnp"
      },
      "source": [
        "possession = pd.read_csv(\"possession_2014_2015.csv\")\n",
        "\n",
        "\n",
        "possession[\"Kb\"]=(possession[\"FG_Avg\"]-possession[\"FD_Avg\"])/possession[\"FG_Avg\"]\n",
        "\n",
        "\n",
        "possession['Timestamp'] = pd.to_datetime(possession['Timestamp'], format='%Y%m%d %H:%M:%S')\n",
        "\n",
        "possession=possession[possession[\"Kb\"]>=0]\n",
        "\n",
        "possession=possession[possession[\"Kb\"]<=1]\n",
        "\n",
        "data_hourly_possession = possession.resample('H',on='Timestamp').mean()"
      ],
      "execution_count": null,
      "outputs": []
    },
    {
      "cell_type": "code",
      "metadata": {
        "id": "I38mC3Es_jnq",
        "outputId": "0c646b8f-24e7-4d03-b900-1a0cd82d4404"
      },
      "source": [
        "data_hourly_possession"
      ],
      "execution_count": null,
      "outputs": [
        {
          "output_type": "execute_result",
          "data": {
            "text/html": [
              "<div>\n",
              "<style scoped>\n",
              "    .dataframe tbody tr th:only-of-type {\n",
              "        vertical-align: middle;\n",
              "    }\n",
              "\n",
              "    .dataframe tbody tr th {\n",
              "        vertical-align: top;\n",
              "    }\n",
              "\n",
              "    .dataframe thead th {\n",
              "        text-align: right;\n",
              "    }\n",
              "</style>\n",
              "<table border=\"1\" class=\"dataframe\">\n",
              "  <thead>\n",
              "    <tr style=\"text-align: right;\">\n",
              "      <th></th>\n",
              "      <th>FD_Avg</th>\n",
              "      <th>FG_Avg</th>\n",
              "      <th>Patm_Avg</th>\n",
              "      <th>RH_Avg</th>\n",
              "      <th>Text_Avg</th>\n",
              "      <th>WD_MeanUnitVector</th>\n",
              "      <th>WS_Mean</th>\n",
              "      <th>Kb</th>\n",
              "    </tr>\n",
              "    <tr>\n",
              "      <th>Timestamp</th>\n",
              "      <th></th>\n",
              "      <th></th>\n",
              "      <th></th>\n",
              "      <th></th>\n",
              "      <th></th>\n",
              "      <th></th>\n",
              "      <th></th>\n",
              "      <th></th>\n",
              "    </tr>\n",
              "  </thead>\n",
              "  <tbody>\n",
              "    <tr>\n",
              "      <th>2014-01-01 00:00:00</th>\n",
              "      <td>1.386857</td>\n",
              "      <td>3.247548</td>\n",
              "      <td>1009.303571</td>\n",
              "      <td>61.773807</td>\n",
              "      <td>26.765080</td>\n",
              "      <td>110.761730</td>\n",
              "      <td>1.483333</td>\n",
              "      <td>0.514160</td>\n",
              "    </tr>\n",
              "    <tr>\n",
              "      <th>2014-01-01 01:00:00</th>\n",
              "      <td>1.630000</td>\n",
              "      <td>3.890114</td>\n",
              "      <td>1008.577295</td>\n",
              "      <td>67.603787</td>\n",
              "      <td>26.731439</td>\n",
              "      <td>124.160171</td>\n",
              "      <td>1.010985</td>\n",
              "      <td>0.554001</td>\n",
              "    </tr>\n",
              "    <tr>\n",
              "      <th>2014-01-01 02:00:00</th>\n",
              "      <td>1.693977</td>\n",
              "      <td>3.684302</td>\n",
              "      <td>1008.070535</td>\n",
              "      <td>67.656588</td>\n",
              "      <td>26.485659</td>\n",
              "      <td>123.007079</td>\n",
              "      <td>0.972868</td>\n",
              "      <td>0.523351</td>\n",
              "    </tr>\n",
              "    <tr>\n",
              "      <th>2014-01-01 03:00:00</th>\n",
              "      <td>1.868633</td>\n",
              "      <td>3.698735</td>\n",
              "      <td>1008.212571</td>\n",
              "      <td>64.755781</td>\n",
              "      <td>26.704082</td>\n",
              "      <td>105.846443</td>\n",
              "      <td>1.473469</td>\n",
              "      <td>0.472016</td>\n",
              "    </tr>\n",
              "    <tr>\n",
              "      <th>2014-01-01 04:00:00</th>\n",
              "      <td>2.297480</td>\n",
              "      <td>4.522300</td>\n",
              "      <td>1008.239000</td>\n",
              "      <td>59.488997</td>\n",
              "      <td>27.396999</td>\n",
              "      <td>109.499254</td>\n",
              "      <td>1.505333</td>\n",
              "      <td>0.458753</td>\n",
              "    </tr>\n",
              "    <tr>\n",
              "      <th>...</th>\n",
              "      <td>...</td>\n",
              "      <td>...</td>\n",
              "      <td>...</td>\n",
              "      <td>...</td>\n",
              "      <td>...</td>\n",
              "      <td>...</td>\n",
              "      <td>...</td>\n",
              "      <td>...</td>\n",
              "    </tr>\n",
              "    <tr>\n",
              "      <th>2015-12-30 19:00:00</th>\n",
              "      <td>2.168639</td>\n",
              "      <td>4.250333</td>\n",
              "      <td>1009.735667</td>\n",
              "      <td>86.338886</td>\n",
              "      <td>24.047685</td>\n",
              "      <td>161.545603</td>\n",
              "      <td>1.205555</td>\n",
              "      <td>0.454577</td>\n",
              "    </tr>\n",
              "    <tr>\n",
              "      <th>2015-12-30 20:00:00</th>\n",
              "      <td>2.417000</td>\n",
              "      <td>4.576121</td>\n",
              "      <td>1009.933848</td>\n",
              "      <td>85.619695</td>\n",
              "      <td>23.747475</td>\n",
              "      <td>147.995273</td>\n",
              "      <td>1.130808</td>\n",
              "      <td>0.450012</td>\n",
              "    </tr>\n",
              "    <tr>\n",
              "      <th>2015-12-30 21:00:00</th>\n",
              "      <td>2.621023</td>\n",
              "      <td>4.758488</td>\n",
              "      <td>1010.377116</td>\n",
              "      <td>83.577517</td>\n",
              "      <td>23.522480</td>\n",
              "      <td>142.844384</td>\n",
              "      <td>1.137209</td>\n",
              "      <td>0.441002</td>\n",
              "    </tr>\n",
              "    <tr>\n",
              "      <th>2015-12-30 22:00:00</th>\n",
              "      <td>2.406595</td>\n",
              "      <td>4.635351</td>\n",
              "      <td>1010.793676</td>\n",
              "      <td>84.190089</td>\n",
              "      <td>23.337838</td>\n",
              "      <td>144.904441</td>\n",
              "      <td>0.945495</td>\n",
              "      <td>0.467539</td>\n",
              "    </tr>\n",
              "    <tr>\n",
              "      <th>2015-12-30 23:00:00</th>\n",
              "      <td>2.459200</td>\n",
              "      <td>4.157967</td>\n",
              "      <td>1010.437233</td>\n",
              "      <td>84.757221</td>\n",
              "      <td>23.055556</td>\n",
              "      <td>118.839246</td>\n",
              "      <td>1.551111</td>\n",
              "      <td>0.410745</td>\n",
              "    </tr>\n",
              "  </tbody>\n",
              "</table>\n",
              "<p>17496 rows × 8 columns</p>\n",
              "</div>"
            ],
            "text/plain": [
              "                       FD_Avg    FG_Avg     Patm_Avg     RH_Avg   Text_Avg  \\\n",
              "Timestamp                                                                    \n",
              "2014-01-01 00:00:00  1.386857  3.247548  1009.303571  61.773807  26.765080   \n",
              "2014-01-01 01:00:00  1.630000  3.890114  1008.577295  67.603787  26.731439   \n",
              "2014-01-01 02:00:00  1.693977  3.684302  1008.070535  67.656588  26.485659   \n",
              "2014-01-01 03:00:00  1.868633  3.698735  1008.212571  64.755781  26.704082   \n",
              "2014-01-01 04:00:00  2.297480  4.522300  1008.239000  59.488997  27.396999   \n",
              "...                       ...       ...          ...        ...        ...   \n",
              "2015-12-30 19:00:00  2.168639  4.250333  1009.735667  86.338886  24.047685   \n",
              "2015-12-30 20:00:00  2.417000  4.576121  1009.933848  85.619695  23.747475   \n",
              "2015-12-30 21:00:00  2.621023  4.758488  1010.377116  83.577517  23.522480   \n",
              "2015-12-30 22:00:00  2.406595  4.635351  1010.793676  84.190089  23.337838   \n",
              "2015-12-30 23:00:00  2.459200  4.157967  1010.437233  84.757221  23.055556   \n",
              "\n",
              "                     WD_MeanUnitVector   WS_Mean        Kb  \n",
              "Timestamp                                                   \n",
              "2014-01-01 00:00:00         110.761730  1.483333  0.514160  \n",
              "2014-01-01 01:00:00         124.160171  1.010985  0.554001  \n",
              "2014-01-01 02:00:00         123.007079  0.972868  0.523351  \n",
              "2014-01-01 03:00:00         105.846443  1.473469  0.472016  \n",
              "2014-01-01 04:00:00         109.499254  1.505333  0.458753  \n",
              "...                                ...       ...       ...  \n",
              "2015-12-30 19:00:00         161.545603  1.205555  0.454577  \n",
              "2015-12-30 20:00:00         147.995273  1.130808  0.450012  \n",
              "2015-12-30 21:00:00         142.844384  1.137209  0.441002  \n",
              "2015-12-30 22:00:00         144.904441  0.945495  0.467539  \n",
              "2015-12-30 23:00:00         118.839246  1.551111  0.410745  \n",
              "\n",
              "[17496 rows x 8 columns]"
            ]
          },
          "metadata": {
            "tags": []
          },
          "execution_count": 177
        }
      ]
    },
    {
      "cell_type": "code",
      "metadata": {
        "id": "jSmgJ_8l_jnq"
      },
      "source": [
        ""
      ],
      "execution_count": null,
      "outputs": []
    },
    {
      "cell_type": "code",
      "metadata": {
        "id": "n4N9AiMg_jnq"
      },
      "source": [
        "data_hourly_possession[\"Kb_H-1\"]=data_hourly_possession[\"Kb\"]\n",
        "data_hourly_possession[\"Kb_H-2\"]=data_hourly_possession[\"Kb\"]\n",
        "data_hourly_possession[\"Kb_H-3\"]=data_hourly_possession[\"Kb\"]"
      ],
      "execution_count": null,
      "outputs": []
    },
    {
      "cell_type": "code",
      "metadata": {
        "id": "a2nrMFHB_jnq"
      },
      "source": [
        "data_hourly_possession[\"FD_H-1\"]=data_hourly_possession[\"FD_Avg\"]\n",
        "data_hourly_possession[\"FD_H-2\"]=data_hourly_possession[\"FD_Avg\"]\n",
        "data_hourly_possession[\"FD_H-3\"]=data_hourly_possession[\"FD_Avg\"]"
      ],
      "execution_count": null,
      "outputs": []
    },
    {
      "cell_type": "code",
      "metadata": {
        "id": "kOdySXwM_jnr",
        "outputId": "82a2cc36-096c-4785-ab1d-25a18fee7acf"
      },
      "source": [
        "data_hourly_possession1[\"FG_H-1\"]=data_hourly_possession1[\"FG_Avg\"]\n",
        "data_hourly_possession1[\"FG_H-2\"]=data_hourly_possession1[\"FG_Avg\"]\n",
        "data_hourly_possession1[\"FG_H-3\"]=data_hourly_possession1[\"FG_Avg\"]"
      ],
      "execution_count": null,
      "outputs": [
        {
          "output_type": "error",
          "ename": "NameError",
          "evalue": "name 'data_hourly_possession1' is not defined",
          "traceback": [
            "\u001b[1;31m---------------------------------------------------------------------------\u001b[0m",
            "\u001b[1;31mNameError\u001b[0m                                 Traceback (most recent call last)",
            "\u001b[1;32m<ipython-input-184-7126a48c1c67>\u001b[0m in \u001b[0;36m<module>\u001b[1;34m\u001b[0m\n\u001b[1;32m----> 1\u001b[1;33m \u001b[0mdata_hourly_possession1\u001b[0m\u001b[1;33m[\u001b[0m\u001b[1;34m\"FG_H-1\"\u001b[0m\u001b[1;33m]\u001b[0m\u001b[1;33m=\u001b[0m\u001b[0mdata_hourly_possession1\u001b[0m\u001b[1;33m[\u001b[0m\u001b[1;34m\"FG_Avg\"\u001b[0m\u001b[1;33m]\u001b[0m\u001b[1;33m\u001b[0m\u001b[1;33m\u001b[0m\u001b[0m\n\u001b[0m\u001b[0;32m      2\u001b[0m \u001b[0mdata_hourly_possession1\u001b[0m\u001b[1;33m[\u001b[0m\u001b[1;34m\"FG_H-2\"\u001b[0m\u001b[1;33m]\u001b[0m\u001b[1;33m=\u001b[0m\u001b[0mdata_hourly_possession1\u001b[0m\u001b[1;33m[\u001b[0m\u001b[1;34m\"FG_Avg\"\u001b[0m\u001b[1;33m]\u001b[0m\u001b[1;33m\u001b[0m\u001b[1;33m\u001b[0m\u001b[0m\n\u001b[0;32m      3\u001b[0m \u001b[0mdata_hourly_possession1\u001b[0m\u001b[1;33m[\u001b[0m\u001b[1;34m\"FG_H-3\"\u001b[0m\u001b[1;33m]\u001b[0m\u001b[1;33m=\u001b[0m\u001b[0mdata_hourly_possession1\u001b[0m\u001b[1;33m[\u001b[0m\u001b[1;34m\"FG_Avg\"\u001b[0m\u001b[1;33m]\u001b[0m\u001b[1;33m\u001b[0m\u001b[1;33m\u001b[0m\u001b[0m\n",
            "\u001b[1;31mNameError\u001b[0m: name 'data_hourly_possession1' is not defined"
          ]
        }
      ]
    },
    {
      "cell_type": "code",
      "metadata": {
        "id": "flhHVa1V_jnr"
      },
      "source": [
        "data_hourly_possession1[\"Patm_H-1\"]=data_hourly_possession1[\"Patm_Avg\"]\n",
        "data_hourly_possession1[\"Patm_H-2\"]=data_hourly_possession1[\"Patm_Avg\"]\n",
        "data_hourly_possession1[\"Patm_H-3\"]=data_hourly_possession1[\"Patm_Avg\"]"
      ],
      "execution_count": null,
      "outputs": []
    },
    {
      "cell_type": "code",
      "metadata": {
        "id": "Pb59dkPj_jnr"
      },
      "source": [
        "data_hourly_possession[\"RH_H-1\"]=data_hourly_possession[\"RH_Avg\"]\n",
        "data_hourly_possession[\"RH_H-2\"]=data_hourly_possession[\"RH_Avg\"]\n",
        "data_hourly_possession[\"RH_H-3\"]=data_hourly_possession[\"RH_Avg\"]"
      ],
      "execution_count": null,
      "outputs": []
    },
    {
      "cell_type": "code",
      "metadata": {
        "id": "WJCK7slm_jns"
      },
      "source": [
        "data_hourly_possession[\"Text_H-1\"]=data_hourly_possession[\"Text_Avg\"]\n",
        "data_hourly_possession[\"Text_H-2\"]=data_hourly_possession[\"Text_Avg\"]\n",
        "data_hourly_possession[\"Text_H-3\"]=data_hourly_possession[\"Text_Avg\"]"
      ],
      "execution_count": null,
      "outputs": []
    },
    {
      "cell_type": "code",
      "metadata": {
        "id": "0MZKFl38_jns"
      },
      "source": [
        "data_hourly_possession[\"WD_MeanUnitVector_H-1\"]=data_hourly_possession[\"WD_MeanUnitVector\"]\n",
        "data_hourly_possession[\"WD_MeanUnitVector_H-2\"]=data_hourly_possession[\"WD_MeanUnitVector\"]\n",
        "data_hourly_possession[\"WD_MeanUnitVector_H-3\"]=data_hourly_possession[\"WD_MeanUnitVector\"]"
      ],
      "execution_count": null,
      "outputs": []
    },
    {
      "cell_type": "code",
      "metadata": {
        "id": "AINH83QU_jns"
      },
      "source": [
        "data_hourly_possession[\"WS_Mean_H-1\"]=data_hourly_possession[\"WS_Mean\"]\n",
        "data_hourly_possession[\"WS_Mean_H-2\"]=data_hourly_possession[\"WS_Mean\"]\n",
        "data_hourly_possession[\"WS_Mean_H-3\"]=data_hourly_possession[\"WS_Mean\"]"
      ],
      "execution_count": null,
      "outputs": []
    },
    {
      "cell_type": "code",
      "metadata": {
        "id": "YRuXdB-V_jnt"
      },
      "source": [
        "data_hourly_possession.reset_index(inplace=True)"
      ],
      "execution_count": null,
      "outputs": []
    },
    {
      "cell_type": "code",
      "metadata": {
        "id": "QIJTE5fR_jnt"
      },
      "source": [
        "for i in range(3,17496):\n",
        "    data_hourly_possession.loc[i,\"Kb_H-1\"]=data_hourly_possession.loc[i-1,\"Kb\"]\n",
        "    data_hourly_possession.loc[i,\"Kb_H-2\"]=data_hourly_possession.loc[i-2,\"Kb\"]\n",
        "    data_hourly_possession.loc[i,\"Kb_H-3\"]=data_hourly_possession.loc[i-3,\"Kb\"]"
      ],
      "execution_count": null,
      "outputs": []
    },
    {
      "cell_type": "code",
      "metadata": {
        "id": "OkpP4-Wp_jnt"
      },
      "source": [
        "for i in range(3,17496):\n",
        "    data_hourly_possession.loc[i,\"FD_H-1\"]=data_hourly_possession.loc[i-1,\"FD_Avg\"]\n",
        "    data_hourly_possession.loc[i,\"FD_H-2\"]=data_hourly_possession.loc[i-2,\"FD_Avg\"]\n",
        "    data_hourly_possession.loc[i,\"FD_H-3\"]=data_hourly_possession.loc[i-3,\"FD_Avg\"]"
      ],
      "execution_count": null,
      "outputs": []
    },
    {
      "cell_type": "code",
      "metadata": {
        "id": "bbq-OODG_jnt"
      },
      "source": [
        "for i in range(3,17496):\n",
        "    data_hourly_possession.loc[i,\"FG_H-1\"]=data_hourly_possession.loc[i-1,\"FG_Avg\"]\n",
        "    data_hourly_possession.loc[i,\"FG_H-2\"]=data_hourly_possession.loc[i-2,\"FG_Avg\"]\n",
        "    data_hourly_possession.loc[i,\"FG_H-3\"]=data_hourly_possession.loc[i-3,\"FG_Avg\"]"
      ],
      "execution_count": null,
      "outputs": []
    },
    {
      "cell_type": "code",
      "metadata": {
        "id": "2jiaJhjU_jnu"
      },
      "source": [
        "for i in range(3,17496):\n",
        "    data_hourly_possession.loc[i,\"Patm_H-1\"]=data_hourly_possession.loc[i-1,\"Patm_Avg\"]\n",
        "    data_hourly_possession.loc[i,\"Patm_H-2\"]=data_hourly_possession.loc[i-2,\"Patm_Avg\"]\n",
        "    data_hourly_possession.loc[i,\"Patm_H-3\"]=data_hourly_possession.loc[i-3,\"Patm_Avg\"]"
      ],
      "execution_count": null,
      "outputs": []
    },
    {
      "cell_type": "code",
      "metadata": {
        "id": "n87FpXea_jnu"
      },
      "source": [
        "for i in range(3,17496):\n",
        "    data_hourly_possession.loc[i,\"RH_H-1\"]=data_hourly_possession.loc[i-1,\"RH_Avg\"]\n",
        "    data_hourly_possession.loc[i,\"RH_H-2\"]=data_hourly_possession.loc[i-2,\"RH_Avg\"]\n",
        "    data_hourly_possession.loc[i,\"RH_H-3\"]=data_hourly_possession.loc[i-3,\"RH_Avg\"]"
      ],
      "execution_count": null,
      "outputs": []
    },
    {
      "cell_type": "code",
      "metadata": {
        "id": "YRcUZ_Wv_jnu"
      },
      "source": [
        "for i in range(3,17496):\n",
        "    data_hourly_possession.loc[i,\"Text_H-1\"]=data_hourly_possession.loc[i-1,\"Text_Avg\"]\n",
        "    data_hourly_possession.loc[i,\"Text_H-2\"]=data_hourly_possession.loc[i-2,\"Text_Avg\"]\n",
        "    data_hourly_possession.loc[i,\"Text_H-3\"]=data_hourly_possession.loc[i-3,\"Text_Avg\"]"
      ],
      "execution_count": null,
      "outputs": []
    },
    {
      "cell_type": "code",
      "metadata": {
        "id": "2prg3JYb_jnv"
      },
      "source": [
        "for i in range(3,17496):\n",
        "    data_hourly_possession.loc[i,\"WD_MeanUnitVector_H-1\"]=data_hourly_possession.loc[i-1,\"WD_MeanUnitVector\"]\n",
        "    data_hourly_possession.loc[i,\"WD_MeanUnitVector_H-2\"]=data_hourly_possession.loc[i-2,\"WD_MeanUnitVector\"]\n",
        "    data_hourly_possession.loc[i,\"WD_MeanUnitVector_H-3\"]=data_hourly_possession.loc[i-3,\"WD_MeanUnitVector\"]"
      ],
      "execution_count": null,
      "outputs": []
    },
    {
      "cell_type": "code",
      "metadata": {
        "id": "iSSPR9Hs_jnv"
      },
      "source": [
        "for i in range(3,17496):\n",
        "    data_hourly_possession.loc[i,\"WS_Mean_H-1\"]=data_hourly_possession.loc[i-1,\"WS_Mean\"]\n",
        "    data_hourly_possession.loc[i,\"WS_Mean_H-2\"]=data_hourly_possession.loc[i-2,\"WS_Mean\"]\n",
        "    data_hourly_possession.loc[i,\"WS_Mean_H-3\"]=data_hourly_possession.loc[i-3,\"WS_Mean\"]"
      ],
      "execution_count": null,
      "outputs": []
    },
    {
      "cell_type": "code",
      "metadata": {
        "id": "azS4_M6Z_jnv"
      },
      "source": [
        ""
      ],
      "execution_count": null,
      "outputs": []
    },
    {
      "cell_type": "code",
      "metadata": {
        "id": "Qz_dVdRU_jnw"
      },
      "source": [
        "scalar2=data_hourly_possession"
      ],
      "execution_count": null,
      "outputs": []
    },
    {
      "cell_type": "code",
      "metadata": {
        "id": "T9YNO-Yb_jnw"
      },
      "source": [
        "scalar2=scalar2.drop([\"FG_Avg\",\"FD_Avg\",\"WS_Mean\",\"WD_MeanUnitVector\",\"Text_Avg\",\"RH_Avg\",\"FG_Avg\",\"FD_Avg\",\"Patm_Avg\"],axis=1)"
      ],
      "execution_count": null,
      "outputs": []
    },
    {
      "cell_type": "code",
      "metadata": {
        "id": "jEAkzCCi_jnw"
      },
      "source": [
        "scalar2 = scalar2.drop(index=[0,1,2])"
      ],
      "execution_count": null,
      "outputs": []
    },
    {
      "cell_type": "code",
      "metadata": {
        "id": "QVhetbyD_jnw"
      },
      "source": [
        ""
      ],
      "execution_count": null,
      "outputs": []
    },
    {
      "cell_type": "code",
      "metadata": {
        "id": "g9RMTRaG_jnx"
      },
      "source": [
        "X=scalar2.iloc[:,2:]\n",
        "y=scalar2.iloc[:,1]"
      ],
      "execution_count": null,
      "outputs": []
    },
    {
      "cell_type": "code",
      "metadata": {
        "id": "W5xvf7iN_jnx"
      },
      "source": [
        "X_train, X_test, y_train, y_test = train_test_split(X, y, test_size=0.2, random_state=1)"
      ],
      "execution_count": null,
      "outputs": []
    },
    {
      "cell_type": "code",
      "metadata": {
        "id": "hHVSTe-d_jnx",
        "outputId": "7c23bbd4-c403-4a21-a789-58385198f174"
      },
      "source": [
        "reg = LinearRegression().fit(X_train, y_train)\n",
        "\n",
        "reg.score(X_test, y_test)"
      ],
      "execution_count": null,
      "outputs": [
        {
          "output_type": "execute_result",
          "data": {
            "text/plain": [
              "0.5845385382791575"
            ]
          },
          "metadata": {
            "tags": []
          },
          "execution_count": 261
        }
      ]
    },
    {
      "cell_type": "code",
      "metadata": {
        "id": "jML613_h_jny",
        "outputId": "feba2a41-b196-40f8-8944-95526ae6a626"
      },
      "source": [
        "reg.score(X_train, y_train)"
      ],
      "execution_count": null,
      "outputs": [
        {
          "output_type": "execute_result",
          "data": {
            "text/plain": [
              "0.5826167536522546"
            ]
          },
          "metadata": {
            "tags": []
          },
          "execution_count": 262
        }
      ]
    },
    {
      "cell_type": "code",
      "metadata": {
        "id": "VeJKMFBV_jny",
        "outputId": "91588413-0df4-4667-c86a-a18a9b1b9702"
      },
      "source": [
        "from sklearn.ensemble import RandomForestRegressor\n",
        "\n",
        "reg = RandomForestRegressor().fit(X_train, y_train)\n",
        "\n",
        "reg.score(X_test, y_test)"
      ],
      "execution_count": null,
      "outputs": [
        {
          "output_type": "execute_result",
          "data": {
            "text/plain": [
              "0.6786458538681575"
            ]
          },
          "metadata": {
            "tags": []
          },
          "execution_count": 263
        }
      ]
    },
    {
      "cell_type": "code",
      "metadata": {
        "id": "F9kTnpda_jnz",
        "outputId": "45669f01-6c09-4d6f-dc97-2cacdb6330c5"
      },
      "source": [
        "reg.score(X_train, y_train)"
      ],
      "execution_count": null,
      "outputs": [
        {
          "output_type": "execute_result",
          "data": {
            "text/plain": [
              "0.955025326311397"
            ]
          },
          "metadata": {
            "tags": []
          },
          "execution_count": 265
        }
      ]
    },
    {
      "cell_type": "code",
      "metadata": {
        "id": "d1N-zmLh_jnz"
      },
      "source": [
        "from xgboost import XGBRegressor\n",
        "from sklearn.tree import DecisionTreeRegressor\n",
        "from sklearn.linear_model import BayesianRidge, Ridge, ElasticNet\n",
        "from sklearn.neighbors import KNeighborsRegressor\n",
        "from sklearn.ensemble import RandomForestRegressor, ExtraTreesRegressor, GradientBoostingRegressor\n",
        "from sklearn.neural_network import MLPRegressor\n",
        "\n",
        "from sklearn.metrics import r2_score\n",
        "from sklearn.model_selection import cross_val_score"
      ],
      "execution_count": null,
      "outputs": []
    },
    {
      "cell_type": "code",
      "metadata": {
        "id": "Xk7CwDwW_jn0",
        "outputId": "4a8bd7c1-e718-4309-ee79-ef16d43d3f71"
      },
      "source": [
        "model_factory = [\n",
        "    RandomForestRegressor(),\n",
        "    XGBRegressor(nthread=1),\n",
        "    MLPRegressor(),\n",
        "    Ridge(),\n",
        "    DecisionTreeRegressor(),\n",
        "    BayesianRidge(),\n",
        "    ExtraTreesRegressor(),\n",
        "    ElasticNet(),\n",
        "    KNeighborsRegressor(),\n",
        "    GradientBoostingRegressor()\n",
        "]\n",
        "\n",
        "for model in model_factory:\n",
        "    model.seed = 42\n",
        "    num_folds = 3\n",
        "\n",
        "    scores = cross_val_score(model, X_train, y_train, cv=num_folds, scoring='r2', n_jobs=8)\n",
        "    score_description = \" %0.2f (+/- %0.2f)\" % (scores.mean(), scores.std() * 2)\n",
        "\n",
        "    print('{model:25} CV-5 R2: {score}'.format(\n",
        "        model=model.__class__.__name__,\n",
        "        score=score_description\n",
        "    ))"
      ],
      "execution_count": null,
      "outputs": [
        {
          "output_type": "stream",
          "text": [
            "RandomForestRegressor     CV-5 R2:  0.67 (+/- 0.01)\n",
            "XGBRegressor              CV-5 R2:  0.64 (+/- 0.02)\n",
            "MLPRegressor              CV-5 R2:  -34.43 (+/- 31.57)\n",
            "Ridge                     CV-5 R2:  0.58 (+/- 0.01)\n",
            "DecisionTreeRegressor     CV-5 R2:  0.36 (+/- 0.04)\n",
            "BayesianRidge             CV-5 R2:  0.58 (+/- 0.01)\n",
            "ExtraTreesRegressor       CV-5 R2:  0.67 (+/- 0.02)\n",
            "ElasticNet                CV-5 R2:  0.47 (+/- 0.03)\n",
            "KNeighborsRegressor       CV-5 R2:  0.55 (+/- 0.01)\n",
            "GradientBoostingRegressor CV-5 R2:  0.66 (+/- 0.02)\n"
          ],
          "name": "stdout"
        }
      ]
    },
    {
      "cell_type": "code",
      "metadata": {
        "id": "BfKw6J9n_jn0"
      },
      "source": [
        ""
      ],
      "execution_count": null,
      "outputs": []
    },
    {
      "cell_type": "code",
      "metadata": {
        "id": "MYZ6L3Ja_jn0",
        "outputId": "8d15b65c-dde0-4c63-b57f-754a15c9eca9"
      },
      "source": [
        "import pandas as pd\n",
        "from fbprophet import Prophet\n",
        "X_train = data_hourly_possession[:-5000]\n",
        "X_test = data_hourly_possession[-5000:]\n",
        "X_train[\"y\"]= X_train[\"Kb\"]\n",
        "X_train[\"ds\"]=X_train[\"Timestamp\"]\n",
        "#X_train = X_train.drop('FG_Avg', 1)\n",
        "X_train = X_train.drop('Timestamp',1)\n",
        "m = Prophet()\n",
        "m.add_regressor(\"FD_Avg\")\n",
        "m.add_regressor(\"FG_Avg\")\n",
        "m.add_regressor(\"Patm_Avg\")\n",
        "m.add_regressor(\"RH_Avg\")\n",
        "m.add_regressor(\"Text_Avg\")\n",
        "m.add_regressor(\"WD_MeanUnitVector\")\n",
        "m.add_regressor(\"WS_Mean\")\n",
        "\n",
        "m.fit(X_train)"
      ],
      "execution_count": null,
      "outputs": [
        {
          "output_type": "error",
          "ename": "KeyError",
          "evalue": "'Timestamp'",
          "traceback": [
            "\u001b[1;31m---------------------------------------------------------------------------\u001b[0m",
            "\u001b[1;31mKeyError\u001b[0m                                  Traceback (most recent call last)",
            "\u001b[1;32m~\\anaconda3\\lib\\site-packages\\pandas\\core\\indexes\\base.py\u001b[0m in \u001b[0;36mget_loc\u001b[1;34m(self, key, method, tolerance)\u001b[0m\n\u001b[0;32m   2894\u001b[0m             \u001b[1;32mtry\u001b[0m\u001b[1;33m:\u001b[0m\u001b[1;33m\u001b[0m\u001b[1;33m\u001b[0m\u001b[0m\n\u001b[1;32m-> 2895\u001b[1;33m                 \u001b[1;32mreturn\u001b[0m \u001b[0mself\u001b[0m\u001b[1;33m.\u001b[0m\u001b[0m_engine\u001b[0m\u001b[1;33m.\u001b[0m\u001b[0mget_loc\u001b[0m\u001b[1;33m(\u001b[0m\u001b[0mcasted_key\u001b[0m\u001b[1;33m)\u001b[0m\u001b[1;33m\u001b[0m\u001b[1;33m\u001b[0m\u001b[0m\n\u001b[0m\u001b[0;32m   2896\u001b[0m             \u001b[1;32mexcept\u001b[0m \u001b[0mKeyError\u001b[0m \u001b[1;32mas\u001b[0m \u001b[0merr\u001b[0m\u001b[1;33m:\u001b[0m\u001b[1;33m\u001b[0m\u001b[1;33m\u001b[0m\u001b[0m\n",
            "\u001b[1;32mpandas\\_libs\\index.pyx\u001b[0m in \u001b[0;36mpandas._libs.index.IndexEngine.get_loc\u001b[1;34m()\u001b[0m\n",
            "\u001b[1;32mpandas\\_libs\\index.pyx\u001b[0m in \u001b[0;36mpandas._libs.index.IndexEngine.get_loc\u001b[1;34m()\u001b[0m\n",
            "\u001b[1;32mpandas\\_libs\\hashtable_class_helper.pxi\u001b[0m in \u001b[0;36mpandas._libs.hashtable.PyObjectHashTable.get_item\u001b[1;34m()\u001b[0m\n",
            "\u001b[1;32mpandas\\_libs\\hashtable_class_helper.pxi\u001b[0m in \u001b[0;36mpandas._libs.hashtable.PyObjectHashTable.get_item\u001b[1;34m()\u001b[0m\n",
            "\u001b[1;31mKeyError\u001b[0m: 'Timestamp'",
            "\nThe above exception was the direct cause of the following exception:\n",
            "\u001b[1;31mKeyError\u001b[0m                                  Traceback (most recent call last)",
            "\u001b[1;32m<ipython-input-268-c8a4a33c1612>\u001b[0m in \u001b[0;36m<module>\u001b[1;34m\u001b[0m\n\u001b[0;32m      4\u001b[0m \u001b[0mX_test\u001b[0m \u001b[1;33m=\u001b[0m \u001b[0mdata_hourly_possession\u001b[0m\u001b[1;33m[\u001b[0m\u001b[1;33m-\u001b[0m\u001b[1;36m5000\u001b[0m\u001b[1;33m:\u001b[0m\u001b[1;33m]\u001b[0m\u001b[1;33m\u001b[0m\u001b[1;33m\u001b[0m\u001b[0m\n\u001b[0;32m      5\u001b[0m \u001b[0mX_train\u001b[0m\u001b[1;33m[\u001b[0m\u001b[1;34m\"y\"\u001b[0m\u001b[1;33m]\u001b[0m\u001b[1;33m=\u001b[0m \u001b[0mX_train\u001b[0m\u001b[1;33m[\u001b[0m\u001b[1;34m\"Kb\"\u001b[0m\u001b[1;33m]\u001b[0m\u001b[1;33m\u001b[0m\u001b[1;33m\u001b[0m\u001b[0m\n\u001b[1;32m----> 6\u001b[1;33m \u001b[0mX_train\u001b[0m\u001b[1;33m[\u001b[0m\u001b[1;34m\"ds\"\u001b[0m\u001b[1;33m]\u001b[0m\u001b[1;33m=\u001b[0m\u001b[0mX_train\u001b[0m\u001b[1;33m[\u001b[0m\u001b[1;34m\"Timestamp\"\u001b[0m\u001b[1;33m]\u001b[0m\u001b[1;33m\u001b[0m\u001b[1;33m\u001b[0m\u001b[0m\n\u001b[0m\u001b[0;32m      7\u001b[0m \u001b[1;31m#X_train = X_train.drop('FG_Avg', 1)\u001b[0m\u001b[1;33m\u001b[0m\u001b[1;33m\u001b[0m\u001b[1;33m\u001b[0m\u001b[0m\n\u001b[0;32m      8\u001b[0m \u001b[0mX_train\u001b[0m \u001b[1;33m=\u001b[0m \u001b[0mX_train\u001b[0m\u001b[1;33m.\u001b[0m\u001b[0mdrop\u001b[0m\u001b[1;33m(\u001b[0m\u001b[1;34m'Timestamp'\u001b[0m\u001b[1;33m,\u001b[0m\u001b[1;36m1\u001b[0m\u001b[1;33m)\u001b[0m\u001b[1;33m\u001b[0m\u001b[1;33m\u001b[0m\u001b[0m\n",
            "\u001b[1;32m~\\anaconda3\\lib\\site-packages\\pandas\\core\\frame.py\u001b[0m in \u001b[0;36m__getitem__\u001b[1;34m(self, key)\u001b[0m\n\u001b[0;32m   2900\u001b[0m             \u001b[1;32mif\u001b[0m \u001b[0mself\u001b[0m\u001b[1;33m.\u001b[0m\u001b[0mcolumns\u001b[0m\u001b[1;33m.\u001b[0m\u001b[0mnlevels\u001b[0m \u001b[1;33m>\u001b[0m \u001b[1;36m1\u001b[0m\u001b[1;33m:\u001b[0m\u001b[1;33m\u001b[0m\u001b[1;33m\u001b[0m\u001b[0m\n\u001b[0;32m   2901\u001b[0m                 \u001b[1;32mreturn\u001b[0m \u001b[0mself\u001b[0m\u001b[1;33m.\u001b[0m\u001b[0m_getitem_multilevel\u001b[0m\u001b[1;33m(\u001b[0m\u001b[0mkey\u001b[0m\u001b[1;33m)\u001b[0m\u001b[1;33m\u001b[0m\u001b[1;33m\u001b[0m\u001b[0m\n\u001b[1;32m-> 2902\u001b[1;33m             \u001b[0mindexer\u001b[0m \u001b[1;33m=\u001b[0m \u001b[0mself\u001b[0m\u001b[1;33m.\u001b[0m\u001b[0mcolumns\u001b[0m\u001b[1;33m.\u001b[0m\u001b[0mget_loc\u001b[0m\u001b[1;33m(\u001b[0m\u001b[0mkey\u001b[0m\u001b[1;33m)\u001b[0m\u001b[1;33m\u001b[0m\u001b[1;33m\u001b[0m\u001b[0m\n\u001b[0m\u001b[0;32m   2903\u001b[0m             \u001b[1;32mif\u001b[0m \u001b[0mis_integer\u001b[0m\u001b[1;33m(\u001b[0m\u001b[0mindexer\u001b[0m\u001b[1;33m)\u001b[0m\u001b[1;33m:\u001b[0m\u001b[1;33m\u001b[0m\u001b[1;33m\u001b[0m\u001b[0m\n\u001b[0;32m   2904\u001b[0m                 \u001b[0mindexer\u001b[0m \u001b[1;33m=\u001b[0m \u001b[1;33m[\u001b[0m\u001b[0mindexer\u001b[0m\u001b[1;33m]\u001b[0m\u001b[1;33m\u001b[0m\u001b[1;33m\u001b[0m\u001b[0m\n",
            "\u001b[1;32m~\\anaconda3\\lib\\site-packages\\pandas\\core\\indexes\\base.py\u001b[0m in \u001b[0;36mget_loc\u001b[1;34m(self, key, method, tolerance)\u001b[0m\n\u001b[0;32m   2895\u001b[0m                 \u001b[1;32mreturn\u001b[0m \u001b[0mself\u001b[0m\u001b[1;33m.\u001b[0m\u001b[0m_engine\u001b[0m\u001b[1;33m.\u001b[0m\u001b[0mget_loc\u001b[0m\u001b[1;33m(\u001b[0m\u001b[0mcasted_key\u001b[0m\u001b[1;33m)\u001b[0m\u001b[1;33m\u001b[0m\u001b[1;33m\u001b[0m\u001b[0m\n\u001b[0;32m   2896\u001b[0m             \u001b[1;32mexcept\u001b[0m \u001b[0mKeyError\u001b[0m \u001b[1;32mas\u001b[0m \u001b[0merr\u001b[0m\u001b[1;33m:\u001b[0m\u001b[1;33m\u001b[0m\u001b[1;33m\u001b[0m\u001b[0m\n\u001b[1;32m-> 2897\u001b[1;33m                 \u001b[1;32mraise\u001b[0m \u001b[0mKeyError\u001b[0m\u001b[1;33m(\u001b[0m\u001b[0mkey\u001b[0m\u001b[1;33m)\u001b[0m \u001b[1;32mfrom\u001b[0m \u001b[0merr\u001b[0m\u001b[1;33m\u001b[0m\u001b[1;33m\u001b[0m\u001b[0m\n\u001b[0m\u001b[0;32m   2898\u001b[0m \u001b[1;33m\u001b[0m\u001b[0m\n\u001b[0;32m   2899\u001b[0m         \u001b[1;32mif\u001b[0m \u001b[0mtolerance\u001b[0m \u001b[1;32mis\u001b[0m \u001b[1;32mnot\u001b[0m \u001b[1;32mNone\u001b[0m\u001b[1;33m:\u001b[0m\u001b[1;33m\u001b[0m\u001b[1;33m\u001b[0m\u001b[0m\n",
            "\u001b[1;31mKeyError\u001b[0m: 'Timestamp'"
          ]
        }
      ]
    },
    {
      "cell_type": "code",
      "metadata": {
        "id": "k316jh6m_jn1"
      },
      "source": [
        ""
      ],
      "execution_count": null,
      "outputs": []
    },
    {
      "cell_type": "code",
      "metadata": {
        "id": "Ybd1Y_Gw_jn1"
      },
      "source": [
        ""
      ],
      "execution_count": null,
      "outputs": []
    },
    {
      "cell_type": "markdown",
      "metadata": {
        "id": "bc-etWM0_jn1"
      },
      "source": [
        "###################################################################################"
      ]
    },
    {
      "cell_type": "code",
      "metadata": {
        "id": "FiA8sg7e_jn2"
      },
      "source": [
        ""
      ],
      "execution_count": null,
      "outputs": []
    },
    {
      "cell_type": "code",
      "metadata": {
        "id": "GsvpRydd_jn2"
      },
      "source": [
        ""
      ],
      "execution_count": null,
      "outputs": []
    },
    {
      "cell_type": "code",
      "metadata": {
        "id": "WgzzRSVc_jn2"
      },
      "source": [
        "features=possession.columns\n",
        "\n",
        "features=['Patm_Avg', 'RH_Avg', 'Text_Avg', 'WD_MeanUnitVector',\n",
        "       'WS_Mean', 'Kb']"
      ],
      "execution_count": null,
      "outputs": []
    },
    {
      "cell_type": "code",
      "metadata": {
        "id": "8I4Nz04a_jn2"
      },
      "source": [
        ""
      ],
      "execution_count": null,
      "outputs": []
    },
    {
      "cell_type": "code",
      "metadata": {
        "id": "F3ee8RRg_jn3"
      },
      "source": [
        "##############################################################################################\"\""
      ],
      "execution_count": null,
      "outputs": []
    },
    {
      "cell_type": "code",
      "metadata": {
        "id": "ppfGdpP8_jn3"
      },
      "source": [
        ""
      ],
      "execution_count": null,
      "outputs": []
    },
    {
      "cell_type": "code",
      "metadata": {
        "id": "8doYUgyi_jn3"
      },
      "source": [
        ""
      ],
      "execution_count": null,
      "outputs": []
    },
    {
      "cell_type": "code",
      "metadata": {
        "id": "-VMe6_r7_jn4"
      },
      "source": [
        "possession = pd.read_csv(\"possession_2014_2015.csv\")\n",
        "\n",
        "\n",
        "possession[\"Kb\"]=(possession[\"FG_Avg\"]-possession[\"FD_Avg\"])/possession[\"FG_Avg\"]\n",
        "\n",
        "\n",
        "possession['Timestamp'] = pd.to_datetime(possession['Timestamp'], format='%Y%m%d %H:%M:%S')\n",
        "\n",
        "possession=possession[possession[\"Kb\"]>=0]\n",
        "\n",
        "possession=possession[possession[\"Kb\"]<=1]\n",
        "\n",
        "df = possession.resample('H',on='Timestamp').mean()"
      ],
      "execution_count": null,
      "outputs": []
    },
    {
      "cell_type": "code",
      "metadata": {
        "id": "uNhdNU0o_jn6"
      },
      "source": [
        "df[\"Kb_H-1\"]=df[\"Kb\"]\n",
        "df[\"Kb_H-2\"]=df[\"Kb\"]\n",
        "df[\"Kb_H-3\"]=df[\"Kb\"]\n",
        "df[\"Kb_H-4\"]=df[\"Kb\"]"
      ],
      "execution_count": null,
      "outputs": []
    },
    {
      "cell_type": "code",
      "metadata": {
        "id": "4hwS3zsn_jn6"
      },
      "source": [
        "df[\"FD_H-1\"]=df[\"FD_Avg\"]\n",
        "df[\"FD_H-2\"]=df[\"FD_Avg\"]\n",
        "df[\"FD_H-3\"]=df[\"FD_Avg\"]\n",
        "df[\"FD_H-4\"]=df[\"FD_Avg\"]"
      ],
      "execution_count": null,
      "outputs": []
    },
    {
      "cell_type": "code",
      "metadata": {
        "id": "K8Awtoyz_jn7"
      },
      "source": [
        "df[\"FG_H-1\"]=df[\"FG_Avg\"]\n",
        "df[\"FG_H-2\"]=df[\"FG_Avg\"]\n",
        "df[\"FG_H-3\"]=df[\"FG_Avg\"]\n",
        "df[\"FG_H-4\"]=df[\"FG_Avg\"]"
      ],
      "execution_count": null,
      "outputs": []
    },
    {
      "cell_type": "code",
      "metadata": {
        "id": "7nGW5NV1_jn7"
      },
      "source": [
        "df[\"Patm_H-1\"]=df[\"Patm_Avg\"]\n",
        "df[\"Patm_H-2\"]=df[\"Patm_Avg\"]\n",
        "df[\"Patm_H-3\"]=df[\"Patm_Avg\"]\n",
        "df[\"Patm_H-4\"]=df[\"Patm_Avg\"]"
      ],
      "execution_count": null,
      "outputs": []
    },
    {
      "cell_type": "code",
      "metadata": {
        "id": "0LL_9m1P_jn7"
      },
      "source": [
        "df[\"RH_H-1\"]=df[\"RH_Avg\"]\n",
        "df[\"RH_H-2\"]=df[\"RH_Avg\"]\n",
        "df[\"RH_H-3\"]=df[\"RH_Avg\"]\n",
        "df[\"RH_H-4\"]=df[\"RH_Avg\"]"
      ],
      "execution_count": null,
      "outputs": []
    },
    {
      "cell_type": "code",
      "metadata": {
        "id": "9rZrl_4Z_jn8"
      },
      "source": [
        "df[\"Text_H-1\"]=df[\"Text_Avg\"]\n",
        "df[\"Text_H-2\"]=df[\"Text_Avg\"]\n",
        "df[\"Text_H-3\"]=df[\"Text_Avg\"]\n",
        "df[\"Text_H-4\"]=df[\"Text_Avg\"]"
      ],
      "execution_count": null,
      "outputs": []
    },
    {
      "cell_type": "code",
      "metadata": {
        "id": "MJbxhnLK_jn8"
      },
      "source": [
        "df[\"WD_MeanUnitVector_H-1\"]=df[\"WD_MeanUnitVector\"]\n",
        "df[\"WD_MeanUnitVector_H-2\"]=df[\"WD_MeanUnitVector\"]\n",
        "df[\"WD_MeanUnitVector_H-3\"]=df[\"WD_MeanUnitVector\"]\n",
        "df[\"WD_MeanUnitVector_H-4\"]=df[\"WD_MeanUnitVector\"]"
      ],
      "execution_count": null,
      "outputs": []
    },
    {
      "cell_type": "code",
      "metadata": {
        "id": "OhKkKQ0h_jn8"
      },
      "source": [
        "df[\"WS_Mean_H-1\"]=df[\"WS_Mean\"]\n",
        "df[\"WS_Mean_H-2\"]=df[\"WS_Mean\"]\n",
        "df[\"WS_Mean_H-3\"]=df[\"WS_Mean\"]\n",
        "df[\"WS_Mean_H-4\"]=df[\"WS_Mean\"]"
      ],
      "execution_count": null,
      "outputs": []
    },
    {
      "cell_type": "code",
      "metadata": {
        "id": "P8iAEYE9_jn9"
      },
      "source": [
        "df.reset_index(inplace=True)"
      ],
      "execution_count": null,
      "outputs": []
    },
    {
      "cell_type": "code",
      "metadata": {
        "id": "brx9hjDZ_jn9"
      },
      "source": [
        "for i in range(4,17496):\n",
        "    df.loc[i,\"Kb_H-1\"]=df.loc[i-1,\"Kb\"]\n",
        "    df.loc[i,\"Kb_H-2\"]=df.loc[i-2,\"Kb\"]\n",
        "    df.loc[i,\"Kb_H-3\"]=df.loc[i-3,\"Kb\"]\n",
        "    df.loc[i,\"Kb_H-4\"]=df.loc[i-4,\"Kb\"]"
      ],
      "execution_count": null,
      "outputs": []
    },
    {
      "cell_type": "code",
      "metadata": {
        "id": "BdaEY6sl_jn9"
      },
      "source": [
        "for i in range(4,17496):\n",
        "    df.loc[i,\"FD_H-1\"]=df.loc[i-1,\"FD_Avg\"]\n",
        "    df.loc[i,\"FD_H-2\"]=df.loc[i-2,\"FD_Avg\"]\n",
        "    df.loc[i,\"FD_H-3\"]=df.loc[i-3,\"FD_Avg\"]\n",
        "    df.loc[i,\"FD_H-4\"]=df.loc[i-4,\"FD_Avg\"]"
      ],
      "execution_count": null,
      "outputs": []
    },
    {
      "cell_type": "code",
      "metadata": {
        "id": "S27f9Q3I_jn-"
      },
      "source": [
        "for i in range(4,17496):\n",
        "    df.loc[i,\"FG_H-1\"]=df.loc[i-1,\"FG_Avg\"]\n",
        "    df.loc[i,\"FG_H-2\"]=df.loc[i-2,\"FG_Avg\"]\n",
        "    df.loc[i,\"FG_H-3\"]=df.loc[i-3,\"FG_Avg\"]\n",
        "    df.loc[i,\"FG_H-4\"]=df.loc[i-4,\"FG_Avg\"]"
      ],
      "execution_count": null,
      "outputs": []
    },
    {
      "cell_type": "code",
      "metadata": {
        "id": "wjh5go2v_jn-"
      },
      "source": [
        "for i in range(4,17496):\n",
        "    df.loc[i,\"Patm_H-1\"]=df.loc[i-1,\"Patm_Avg\"]\n",
        "    df.loc[i,\"Patm_H-2\"]=df.loc[i-2,\"Patm_Avg\"]\n",
        "    df.loc[i,\"Patm_H-3\"]=df.loc[i-3,\"Patm_Avg\"]\n",
        "    df.loc[i,\"Patm_H-4\"]=df.loc[i-4,\"Patm_Avg\"]"
      ],
      "execution_count": null,
      "outputs": []
    },
    {
      "cell_type": "code",
      "metadata": {
        "id": "bRobZM4f_jn-"
      },
      "source": [
        "for i in range(4,17496):\n",
        "    df.loc[i,\"RH_H-1\"]=df.loc[i-1,\"RH_Avg\"]\n",
        "    df.loc[i,\"RH_H-2\"]=df.loc[i-2,\"RH_Avg\"]\n",
        "    df.loc[i,\"RH_H-3\"]=df.loc[i-3,\"RH_Avg\"]\n",
        "    df.loc[i,\"RH_H-4\"]=df.loc[i-4,\"RH_Avg\"]"
      ],
      "execution_count": null,
      "outputs": []
    },
    {
      "cell_type": "code",
      "metadata": {
        "id": "PElRYJfz_jn_"
      },
      "source": [
        "for i in range(4,17496):\n",
        "    df.loc[i,\"Text_H-1\"]=df.loc[i-1,\"Text_Avg\"]\n",
        "    df.loc[i,\"Text_H-2\"]=df.loc[i-2,\"Text_Avg\"]\n",
        "    df.loc[i,\"Text_H-3\"]=df.loc[i-3,\"Text_Avg\"]\n",
        "    df.loc[i,\"Text_H-4\"]=df.loc[i-4,\"Text_Avg\"]"
      ],
      "execution_count": null,
      "outputs": []
    },
    {
      "cell_type": "code",
      "metadata": {
        "id": "kpKXL-Dp_jn_"
      },
      "source": [
        "for i in range(4,17496):\n",
        "    df.loc[i,\"WD_MeanUnitVector_H-1\"]=df.loc[i-1,\"WD_MeanUnitVector\"]\n",
        "    df.loc[i,\"WD_MeanUnitVector_H-2\"]=df.loc[i-2,\"WD_MeanUnitVector\"]\n",
        "    df.loc[i,\"WD_MeanUnitVector_H-3\"]=df.loc[i-3,\"WD_MeanUnitVector\"]\n",
        "    df.loc[i,\"WD_MeanUnitVector_H-4\"]=df.loc[i-4,\"WD_MeanUnitVector\"]"
      ],
      "execution_count": null,
      "outputs": []
    },
    {
      "cell_type": "code",
      "metadata": {
        "id": "6h2zqIg7_jn_"
      },
      "source": [
        "for i in range(4,17496):\n",
        "    df.loc[i,\"WS_Mean_H-1\"]=df.loc[i-1,\"WS_Mean\"]\n",
        "    df.loc[i,\"WS_Mean_H-2\"]=df.loc[i-2,\"WS_Mean\"]\n",
        "    df.loc[i,\"WS_Mean_H-3\"]=df.loc[i-3,\"WS_Mean\"]\n",
        "    df.loc[i,\"WS_Mean_H-4\"]=df.loc[i-4,\"WS_Mean\"]"
      ],
      "execution_count": null,
      "outputs": []
    },
    {
      "cell_type": "code",
      "metadata": {
        "id": "_r2GWmWg_joA"
      },
      "source": [
        "scalar2=df"
      ],
      "execution_count": null,
      "outputs": []
    },
    {
      "cell_type": "code",
      "metadata": {
        "id": "B31Z2XxA_joA"
      },
      "source": [
        "scalar2=scalar2.drop([\"FG_Avg\",\"FD_Avg\",\"WS_Mean\",\"WD_MeanUnitVector\",\"Text_Avg\",\"RH_Avg\",\"FG_Avg\",\"FD_Avg\",\"Patm_Avg\"],axis=1)"
      ],
      "execution_count": null,
      "outputs": []
    },
    {
      "cell_type": "code",
      "metadata": {
        "id": "mG021Urf_joA",
        "outputId": "85e6fd50-7faa-417e-eb9b-83dbf5268174"
      },
      "source": [
        "scalar2.head()"
      ],
      "execution_count": null,
      "outputs": [
        {
          "output_type": "execute_result",
          "data": {
            "text/html": [
              "<div>\n",
              "<style scoped>\n",
              "    .dataframe tbody tr th:only-of-type {\n",
              "        vertical-align: middle;\n",
              "    }\n",
              "\n",
              "    .dataframe tbody tr th {\n",
              "        vertical-align: top;\n",
              "    }\n",
              "\n",
              "    .dataframe thead th {\n",
              "        text-align: right;\n",
              "    }\n",
              "</style>\n",
              "<table border=\"1\" class=\"dataframe\">\n",
              "  <thead>\n",
              "    <tr style=\"text-align: right;\">\n",
              "      <th></th>\n",
              "      <th>Timestamp</th>\n",
              "      <th>Kb</th>\n",
              "      <th>Kb_H-1</th>\n",
              "      <th>Kb_H-2</th>\n",
              "      <th>Kb_H-3</th>\n",
              "      <th>Kb_H-4</th>\n",
              "      <th>FD_H-1</th>\n",
              "      <th>FD_H-2</th>\n",
              "      <th>FD_H-3</th>\n",
              "      <th>FD_H-4</th>\n",
              "      <th>...</th>\n",
              "      <th>Text_H-3</th>\n",
              "      <th>Text_H-4</th>\n",
              "      <th>WD_MeanUnitVector_H-1</th>\n",
              "      <th>WD_MeanUnitVector_H-2</th>\n",
              "      <th>WD_MeanUnitVector_H-3</th>\n",
              "      <th>WD_MeanUnitVector_H-4</th>\n",
              "      <th>WS_Mean_H-1</th>\n",
              "      <th>WS_Mean_H-2</th>\n",
              "      <th>WS_Mean_H-3</th>\n",
              "      <th>WS_Mean_H-4</th>\n",
              "    </tr>\n",
              "  </thead>\n",
              "  <tbody>\n",
              "    <tr>\n",
              "      <th>0</th>\n",
              "      <td>2014-01-01 00:00:00</td>\n",
              "      <td>0.514160</td>\n",
              "      <td>0.514160</td>\n",
              "      <td>0.514160</td>\n",
              "      <td>0.514160</td>\n",
              "      <td>0.514160</td>\n",
              "      <td>1.386857</td>\n",
              "      <td>1.386857</td>\n",
              "      <td>1.386857</td>\n",
              "      <td>1.386857</td>\n",
              "      <td>...</td>\n",
              "      <td>26.765080</td>\n",
              "      <td>26.765080</td>\n",
              "      <td>110.761730</td>\n",
              "      <td>110.761730</td>\n",
              "      <td>110.761730</td>\n",
              "      <td>110.761730</td>\n",
              "      <td>1.483333</td>\n",
              "      <td>1.483333</td>\n",
              "      <td>1.483333</td>\n",
              "      <td>1.483333</td>\n",
              "    </tr>\n",
              "    <tr>\n",
              "      <th>1</th>\n",
              "      <td>2014-01-01 01:00:00</td>\n",
              "      <td>0.554001</td>\n",
              "      <td>0.554001</td>\n",
              "      <td>0.554001</td>\n",
              "      <td>0.554001</td>\n",
              "      <td>0.554001</td>\n",
              "      <td>1.630000</td>\n",
              "      <td>1.630000</td>\n",
              "      <td>1.630000</td>\n",
              "      <td>1.630000</td>\n",
              "      <td>...</td>\n",
              "      <td>26.731439</td>\n",
              "      <td>26.731439</td>\n",
              "      <td>124.160171</td>\n",
              "      <td>124.160171</td>\n",
              "      <td>124.160171</td>\n",
              "      <td>124.160171</td>\n",
              "      <td>1.010985</td>\n",
              "      <td>1.010985</td>\n",
              "      <td>1.010985</td>\n",
              "      <td>1.010985</td>\n",
              "    </tr>\n",
              "    <tr>\n",
              "      <th>2</th>\n",
              "      <td>2014-01-01 02:00:00</td>\n",
              "      <td>0.523351</td>\n",
              "      <td>0.523351</td>\n",
              "      <td>0.523351</td>\n",
              "      <td>0.523351</td>\n",
              "      <td>0.523351</td>\n",
              "      <td>1.693977</td>\n",
              "      <td>1.693977</td>\n",
              "      <td>1.693977</td>\n",
              "      <td>1.693977</td>\n",
              "      <td>...</td>\n",
              "      <td>26.485659</td>\n",
              "      <td>26.485659</td>\n",
              "      <td>123.007079</td>\n",
              "      <td>123.007079</td>\n",
              "      <td>123.007079</td>\n",
              "      <td>123.007079</td>\n",
              "      <td>0.972868</td>\n",
              "      <td>0.972868</td>\n",
              "      <td>0.972868</td>\n",
              "      <td>0.972868</td>\n",
              "    </tr>\n",
              "    <tr>\n",
              "      <th>3</th>\n",
              "      <td>2014-01-01 03:00:00</td>\n",
              "      <td>0.472016</td>\n",
              "      <td>0.472016</td>\n",
              "      <td>0.472016</td>\n",
              "      <td>0.472016</td>\n",
              "      <td>0.472016</td>\n",
              "      <td>1.868633</td>\n",
              "      <td>1.868633</td>\n",
              "      <td>1.868633</td>\n",
              "      <td>1.868633</td>\n",
              "      <td>...</td>\n",
              "      <td>26.704082</td>\n",
              "      <td>26.704082</td>\n",
              "      <td>105.846443</td>\n",
              "      <td>105.846443</td>\n",
              "      <td>105.846443</td>\n",
              "      <td>105.846443</td>\n",
              "      <td>1.473469</td>\n",
              "      <td>1.473469</td>\n",
              "      <td>1.473469</td>\n",
              "      <td>1.473469</td>\n",
              "    </tr>\n",
              "    <tr>\n",
              "      <th>4</th>\n",
              "      <td>2014-01-01 04:00:00</td>\n",
              "      <td>0.458753</td>\n",
              "      <td>0.472016</td>\n",
              "      <td>0.523351</td>\n",
              "      <td>0.554001</td>\n",
              "      <td>0.514160</td>\n",
              "      <td>1.868633</td>\n",
              "      <td>1.693977</td>\n",
              "      <td>1.630000</td>\n",
              "      <td>1.386857</td>\n",
              "      <td>...</td>\n",
              "      <td>26.731439</td>\n",
              "      <td>26.765080</td>\n",
              "      <td>105.846443</td>\n",
              "      <td>123.007079</td>\n",
              "      <td>124.160171</td>\n",
              "      <td>110.761730</td>\n",
              "      <td>1.473469</td>\n",
              "      <td>0.972868</td>\n",
              "      <td>1.010985</td>\n",
              "      <td>1.483333</td>\n",
              "    </tr>\n",
              "  </tbody>\n",
              "</table>\n",
              "<p>5 rows × 34 columns</p>\n",
              "</div>"
            ],
            "text/plain": [
              "            Timestamp        Kb    Kb_H-1    Kb_H-2    Kb_H-3    Kb_H-4  \\\n",
              "0 2014-01-01 00:00:00  0.514160  0.514160  0.514160  0.514160  0.514160   \n",
              "1 2014-01-01 01:00:00  0.554001  0.554001  0.554001  0.554001  0.554001   \n",
              "2 2014-01-01 02:00:00  0.523351  0.523351  0.523351  0.523351  0.523351   \n",
              "3 2014-01-01 03:00:00  0.472016  0.472016  0.472016  0.472016  0.472016   \n",
              "4 2014-01-01 04:00:00  0.458753  0.472016  0.523351  0.554001  0.514160   \n",
              "\n",
              "     FD_H-1    FD_H-2    FD_H-3    FD_H-4  ...   Text_H-3   Text_H-4  \\\n",
              "0  1.386857  1.386857  1.386857  1.386857  ...  26.765080  26.765080   \n",
              "1  1.630000  1.630000  1.630000  1.630000  ...  26.731439  26.731439   \n",
              "2  1.693977  1.693977  1.693977  1.693977  ...  26.485659  26.485659   \n",
              "3  1.868633  1.868633  1.868633  1.868633  ...  26.704082  26.704082   \n",
              "4  1.868633  1.693977  1.630000  1.386857  ...  26.731439  26.765080   \n",
              "\n",
              "   WD_MeanUnitVector_H-1  WD_MeanUnitVector_H-2  WD_MeanUnitVector_H-3  \\\n",
              "0             110.761730             110.761730             110.761730   \n",
              "1             124.160171             124.160171             124.160171   \n",
              "2             123.007079             123.007079             123.007079   \n",
              "3             105.846443             105.846443             105.846443   \n",
              "4             105.846443             123.007079             124.160171   \n",
              "\n",
              "   WD_MeanUnitVector_H-4  WS_Mean_H-1  WS_Mean_H-2  WS_Mean_H-3  WS_Mean_H-4  \n",
              "0             110.761730     1.483333     1.483333     1.483333     1.483333  \n",
              "1             124.160171     1.010985     1.010985     1.010985     1.010985  \n",
              "2             123.007079     0.972868     0.972868     0.972868     0.972868  \n",
              "3             105.846443     1.473469     1.473469     1.473469     1.473469  \n",
              "4             110.761730     1.473469     0.972868     1.010985     1.483333  \n",
              "\n",
              "[5 rows x 34 columns]"
            ]
          },
          "metadata": {
            "tags": []
          },
          "execution_count": 308
        }
      ]
    },
    {
      "cell_type": "code",
      "metadata": {
        "id": "RhaicHb8_joB"
      },
      "source": [
        "scalar2 = scalar2.drop(index=[0,1,2,3])"
      ],
      "execution_count": null,
      "outputs": []
    },
    {
      "cell_type": "code",
      "metadata": {
        "id": "lxaoTIUg_joB"
      },
      "source": [
        "X=scalar2.iloc[:,2:]\n",
        "y=scalar2.iloc[:,1]"
      ],
      "execution_count": null,
      "outputs": []
    },
    {
      "cell_type": "code",
      "metadata": {
        "id": "_VhxFnVt_joB"
      },
      "source": [
        "X_train, X_test, y_train, y_test = train_test_split(X, y, test_size=0.2, random_state=1)"
      ],
      "execution_count": null,
      "outputs": []
    },
    {
      "cell_type": "code",
      "metadata": {
        "id": "QeRh5sUp_joC",
        "outputId": "a9688d5e-9afa-471d-9c2a-7900314cc40b"
      },
      "source": [
        "reg = LinearRegression().fit(X_train, y_train)\n",
        "\n",
        "reg.score(X_test, y_test)"
      ],
      "execution_count": null,
      "outputs": [
        {
          "output_type": "execute_result",
          "data": {
            "text/plain": [
              "0.6054592158474978"
            ]
          },
          "metadata": {
            "tags": []
          },
          "execution_count": 312
        }
      ]
    },
    {
      "cell_type": "code",
      "metadata": {
        "id": "tD-K4Rq0_joC",
        "outputId": "772bf336-06c5-4dfb-90a9-77186e384c06"
      },
      "source": [
        "reg.score(X_train, y_train)"
      ],
      "execution_count": null,
      "outputs": [
        {
          "output_type": "execute_result",
          "data": {
            "text/plain": [
              "0.5786380288364977"
            ]
          },
          "metadata": {
            "tags": []
          },
          "execution_count": 313
        }
      ]
    },
    {
      "cell_type": "code",
      "metadata": {
        "id": "jj-ewBmm_joD"
      },
      "source": [
        ""
      ],
      "execution_count": null,
      "outputs": []
    },
    {
      "cell_type": "code",
      "metadata": {
        "id": "XZBl6WJS_joD",
        "outputId": "f0d5dbe6-c167-4480-93a2-916093ffc727"
      },
      "source": [
        "from sklearn.ensemble import RandomForestRegressor\n",
        "\n",
        "reg = RandomForestRegressor().fit(X_train, y_train)\n",
        "\n",
        "reg.score(X_test, y_test)"
      ],
      "execution_count": null,
      "outputs": [
        {
          "output_type": "execute_result",
          "data": {
            "text/plain": [
              "0.6980740961167757"
            ]
          },
          "metadata": {
            "tags": []
          },
          "execution_count": 314
        }
      ]
    },
    {
      "cell_type": "code",
      "metadata": {
        "id": "zmnipLvx_joE",
        "outputId": "417a5154-0946-4ccb-974c-dd98bb158034"
      },
      "source": [
        "reg.score(X_train, y_train)"
      ],
      "execution_count": null,
      "outputs": [
        {
          "output_type": "execute_result",
          "data": {
            "text/plain": [
              "0.955182797055469"
            ]
          },
          "metadata": {
            "tags": []
          },
          "execution_count": 315
        }
      ]
    },
    {
      "cell_type": "code",
      "metadata": {
        "id": "odIebUHh_joE"
      },
      "source": [
        "from xgboost import XGBRegressor\n",
        "from sklearn.tree import DecisionTreeRegressor\n",
        "from sklearn.linear_model import BayesianRidge, Ridge, ElasticNet\n",
        "from sklearn.neighbors import KNeighborsRegressor\n",
        "from sklearn.ensemble import RandomForestRegressor, ExtraTreesRegressor, GradientBoostingRegressor\n",
        "from sklearn.neural_network import MLPRegressor\n",
        "\n",
        "from sklearn.metrics import r2_score\n",
        "from sklearn.model_selection import cross_val_score"
      ],
      "execution_count": null,
      "outputs": []
    },
    {
      "cell_type": "code",
      "metadata": {
        "id": "ZU2litJ7_joF",
        "outputId": "ecb99531-111f-4ab0-a84f-99471b682e01"
      },
      "source": [
        "model_factory = [\n",
        "    RandomForestRegressor(),\n",
        "    XGBRegressor(nthread=1),\n",
        "    MLPRegressor(),\n",
        "    Ridge(),\n",
        "    DecisionTreeRegressor(),\n",
        "    BayesianRidge(),\n",
        "    ExtraTreesRegressor(),\n",
        "    ElasticNet(),\n",
        "    KNeighborsRegressor(),\n",
        "    GradientBoostingRegressor()\n",
        "]\n",
        "\n",
        "for model in model_factory:\n",
        "    model.seed = 42\n",
        "    num_folds = 4\n",
        "\n",
        "    scores = cross_val_score(model, X_train, y_train, cv=num_folds, scoring='r2', n_jobs=8)\n",
        "    score_description = \" %0.2f (+/- %0.2f)\" % (scores.mean(), scores.std() * 2)\n",
        "\n",
        "    print('{model:25} CV-5 R2: {score}'.format(\n",
        "        model=model.__class__.__name__,\n",
        "        score=score_description\n",
        "    ))"
      ],
      "execution_count": null,
      "outputs": [
        {
          "output_type": "stream",
          "text": [
            "RandomForestRegressor     CV-5 R2:  0.68 (+/- 0.02)\n",
            "XGBRegressor              CV-5 R2:  0.64 (+/- 0.04)\n",
            "MLPRegressor              CV-5 R2:  -40.64 (+/- 67.42)\n",
            "Ridge                     CV-5 R2:  0.58 (+/- 0.03)\n",
            "DecisionTreeRegressor     CV-5 R2:  0.35 (+/- 0.02)\n",
            "BayesianRidge             CV-5 R2:  0.58 (+/- 0.03)\n",
            "ExtraTreesRegressor       CV-5 R2:  0.68 (+/- 0.03)\n",
            "ElasticNet                CV-5 R2:  0.47 (+/- 0.03)\n",
            "KNeighborsRegressor       CV-5 R2:  0.55 (+/- 0.02)\n",
            "GradientBoostingRegressor CV-5 R2:  0.66 (+/- 0.02)\n"
          ],
          "name": "stdout"
        }
      ]
    },
    {
      "cell_type": "markdown",
      "metadata": {
        "id": "tajnjvCA_joG"
      },
      "source": [
        "### CLUSTERING"
      ]
    },
    {
      "cell_type": "markdown",
      "metadata": {
        "id": "Fb3LXrNe_joG"
      },
      "source": [
        "Clustering par heure"
      ]
    },
    {
      "cell_type": "code",
      "metadata": {
        "id": "blKHDcJA_joH"
      },
      "source": [
        "import pandas as pd\n",
        "\n",
        "possession_cluster = pd.read_csv(\"possession_2014_2015.csv\")\n",
        "possession_cluster[\"Kb\"]=(possession_cluster[\"FG_Avg\"]-possession_cluster[\"FD_Avg\"])/possession_cluster[\"FG_Avg\"]\n",
        "\n",
        "possession_cluster['Timestamp'] = pd.to_datetime(possession_cluster['Timestamp'], format='%Y%m%d %H:%M:%S')\n",
        "\n",
        "data_hourly_possession_cluster = possession_cluster.resample('H',on='Timestamp').mean()\n",
        "\n",
        "data_hourly_possession_cluster=data_hourly_possession_cluster[data_hourly_possession_cluster[\"Kb\"]>=0]\n",
        "data_hourly_possession_cluster=data_hourly_possession_cluster[data_hourly_possession_cluster[\"Kb\"]<=1]"
      ],
      "execution_count": 2,
      "outputs": []
    },
    {
      "cell_type": "code",
      "metadata": {
        "colab": {
          "base_uri": "https://localhost:8080/"
        },
        "id": "RWvmuWok_joH",
        "outputId": "886cc1d7-398d-43e9-cde1-f5205b72424a"
      },
      "source": [
        "import os\n",
        "import math\n",
        "# Essential Libraries\n",
        "import pandas as pd\n",
        "import matplotlib.pyplot as plt\n",
        "import numpy as np\n",
        "# Preprocessing\n",
        "from sklearn.preprocessing import MinMaxScaler\n",
        "# Algorithms\n",
        "from sklearn.cluster import KMeans\n",
        "\n",
        "from sklearn.decomposition import PCA\n",
        "\n",
        "from sklearn.preprocessing import StandardScaler\n",
        "\n",
        "data_hourly_possession_cluster = StandardScaler().fit_transform(data_hourly_possession_cluster)\n",
        "\n",
        "print(\"Kmeans : \\n\")\n",
        "kmeans = KMeans(n_clusters=10)\n",
        "model = kmeans.fit(data_hourly_possession_cluster)##### d_stamp c'était les données de 2014\n",
        "print(\"model\\n\", model)\n",
        "\n",
        "print(\"label\\n\",kmeans.labels_)\n",
        "\n",
        "from sklearn.cluster import DBSCAN\n",
        "\n",
        "print(\"\\n\\nDBSCAN : \\n\")\n",
        "dbscan = DBSCAN(eps=3, min_samples=2).fit(data_hourly_possession_cluster)\n",
        "dbscan.labels_"
      ],
      "execution_count": 18,
      "outputs": [
        {
          "output_type": "stream",
          "text": [
            "Kmeans : \n",
            "\n",
            "model\n",
            " KMeans(algorithm='auto', copy_x=True, init='k-means++', max_iter=300,\n",
            "       n_clusters=10, n_init=10, n_jobs=None, precompute_distances='auto',\n",
            "       random_state=None, tol=0.0001, verbose=0)\n",
            "label\n",
            " [7 0 0 ... 0 0 0]\n",
            "\n",
            "\n",
            "DBSCAN : \n",
            "\n"
          ],
          "name": "stdout"
        },
        {
          "output_type": "execute_result",
          "data": {
            "text/plain": [
              "array([0, 0, 0, ..., 0, 0, 0])"
            ]
          },
          "metadata": {
            "tags": []
          },
          "execution_count": 18
        }
      ]
    },
    {
      "cell_type": "code",
      "metadata": {
        "id": "GZ3EybtX_joI"
      },
      "source": [
        "from itertools import cycle, islice\n",
        "from pandas.plotting import parallel_coordinates\n",
        "\n",
        "def pd_centers(featuresUsed, centers):\n",
        "    colNames = list(featuresUsed)\n",
        "    colNames.append('prediction')\n",
        "\n",
        "    Z = [np.append(A, index) for index, A in enumerate(centers)]\n",
        "    \n",
        "    P = pd.DataFrame(Z, columns=colNames)\n",
        "    P['prediction'] = P['prediction'].astype(int)\n",
        "    return P"
      ],
      "execution_count": 6,
      "outputs": []
    },
    {
      "cell_type": "code",
      "metadata": {
        "id": "X8VU7U6f_joI"
      },
      "source": [
        "def parallel_plot(data):\n",
        "    my_colors = list(islice(cycle(['b', 'r', 'g', 'y', 'k']), None, len(data)))\n",
        "    plt.figure(figsize=(15,8)).gca().axes.set_ylim([-3,+3])\n",
        "    parallel_coordinates(data, 'prediction', color = my_colors, marker='o')"
      ],
      "execution_count": 7,
      "outputs": []
    },
    {
      "cell_type": "code",
      "metadata": {
        "id": "_8vUHxAg_joI"
      },
      "source": [
        "features=[\"Patm_Avg\",\"RH_Avg\",\"Text_Avg\",\"WD_MeanUnitVector\", \"WS_Mean\",\"FD_Avg\",\"FG_Avg\",\"Kb\"]"
      ],
      "execution_count": 8,
      "outputs": []
    },
    {
      "cell_type": "code",
      "metadata": {
        "colab": {
          "base_uri": "https://localhost:8080/",
          "height": 212
        },
        "id": "brCrBBty_joK",
        "outputId": "0668c9b1-2a0d-46ac-e796-fb13f8a4b5d8"
      },
      "source": [
        "centers = model.cluster_centers_\n",
        "centers"
      ],
      "execution_count": 19,
      "outputs": [
        {
          "output_type": "error",
          "ename": "AttributeError",
          "evalue": "ignored",
          "traceback": [
            "\u001b[0;31m---------------------------------------------------------------------------\u001b[0m",
            "\u001b[0;31mAttributeError\u001b[0m                            Traceback (most recent call last)",
            "\u001b[0;32m<ipython-input-19-ac0b261ce1c0>\u001b[0m in \u001b[0;36m<module>\u001b[0;34m()\u001b[0m\n\u001b[1;32m      3\u001b[0m \u001b[0;34m\u001b[0m\u001b[0m\n\u001b[1;32m      4\u001b[0m \u001b[0;34m\u001b[0m\u001b[0m\n\u001b[0;32m----> 5\u001b[0;31m \u001b[0mcenters_dbscan\u001b[0m \u001b[0;34m=\u001b[0m \u001b[0mdbscan\u001b[0m\u001b[0;34m.\u001b[0m\u001b[0mcluster_centers_\u001b[0m\u001b[0;34m\u001b[0m\u001b[0;34m\u001b[0m\u001b[0m\n\u001b[0m\u001b[1;32m      6\u001b[0m \u001b[0mcenters_dbscan\u001b[0m\u001b[0;34m\u001b[0m\u001b[0;34m\u001b[0m\u001b[0m\n",
            "\u001b[0;31mAttributeError\u001b[0m: 'DBSCAN' object has no attribute 'cluster_centers_'"
          ]
        }
      ]
    },
    {
      "cell_type": "code",
      "metadata": {
        "colab": {
          "base_uri": "https://localhost:8080/",
          "height": 343
        },
        "id": "3eOcwQ4B_joK",
        "outputId": "706e5b94-c909-4dbf-8e87-efdf85aa6260"
      },
      "source": [
        "P = pd_centers(features, centers)\n",
        "P"
      ],
      "execution_count": 10,
      "outputs": [
        {
          "output_type": "execute_result",
          "data": {
            "text/html": [
              "<div>\n",
              "<style scoped>\n",
              "    .dataframe tbody tr th:only-of-type {\n",
              "        vertical-align: middle;\n",
              "    }\n",
              "\n",
              "    .dataframe tbody tr th {\n",
              "        vertical-align: top;\n",
              "    }\n",
              "\n",
              "    .dataframe thead th {\n",
              "        text-align: right;\n",
              "    }\n",
              "</style>\n",
              "<table border=\"1\" class=\"dataframe\">\n",
              "  <thead>\n",
              "    <tr style=\"text-align: right;\">\n",
              "      <th></th>\n",
              "      <th>Patm_Avg</th>\n",
              "      <th>RH_Avg</th>\n",
              "      <th>Text_Avg</th>\n",
              "      <th>WD_MeanUnitVector</th>\n",
              "      <th>WS_Mean</th>\n",
              "      <th>FD_Avg</th>\n",
              "      <th>FG_Avg</th>\n",
              "      <th>Kb</th>\n",
              "      <th>prediction</th>\n",
              "    </tr>\n",
              "  </thead>\n",
              "  <tbody>\n",
              "    <tr>\n",
              "      <th>0</th>\n",
              "      <td>-0.275557</td>\n",
              "      <td>-0.722013</td>\n",
              "      <td>-0.715922</td>\n",
              "      <td>0.162858</td>\n",
              "      <td>0.778628</td>\n",
              "      <td>-0.012672</td>\n",
              "      <td>-0.168770</td>\n",
              "      <td>-0.730015</td>\n",
              "      <td>0</td>\n",
              "    </tr>\n",
              "    <tr>\n",
              "      <th>1</th>\n",
              "      <td>-0.340935</td>\n",
              "      <td>0.533095</td>\n",
              "      <td>-0.326137</td>\n",
              "      <td>-0.269606</td>\n",
              "      <td>0.560080</td>\n",
              "      <td>-0.373529</td>\n",
              "      <td>-0.392674</td>\n",
              "      <td>1.317157</td>\n",
              "      <td>1</td>\n",
              "    </tr>\n",
              "    <tr>\n",
              "      <th>2</th>\n",
              "      <td>0.822452</td>\n",
              "      <td>0.008067</td>\n",
              "      <td>0.963398</td>\n",
              "      <td>-0.744406</td>\n",
              "      <td>-0.542972</td>\n",
              "      <td>0.970568</td>\n",
              "      <td>0.044669</td>\n",
              "      <td>-0.510161</td>\n",
              "      <td>2</td>\n",
              "    </tr>\n",
              "    <tr>\n",
              "      <th>3</th>\n",
              "      <td>0.037319</td>\n",
              "      <td>0.996029</td>\n",
              "      <td>1.071788</td>\n",
              "      <td>-1.117810</td>\n",
              "      <td>-0.370199</td>\n",
              "      <td>1.205828</td>\n",
              "      <td>0.205584</td>\n",
              "      <td>1.237211</td>\n",
              "      <td>3</td>\n",
              "    </tr>\n",
              "    <tr>\n",
              "      <th>4</th>\n",
              "      <td>-0.867298</td>\n",
              "      <td>-1.029895</td>\n",
              "      <td>-0.838981</td>\n",
              "      <td>1.386382</td>\n",
              "      <td>-0.179492</td>\n",
              "      <td>-0.500980</td>\n",
              "      <td>-0.582770</td>\n",
              "      <td>-0.905580</td>\n",
              "      <td>4</td>\n",
              "    </tr>\n",
              "    <tr>\n",
              "      <th>5</th>\n",
              "      <td>0.182924</td>\n",
              "      <td>1.368240</td>\n",
              "      <td>-0.440915</td>\n",
              "      <td>0.018733</td>\n",
              "      <td>0.651005</td>\n",
              "      <td>-1.137048</td>\n",
              "      <td>2.272176</td>\n",
              "      <td>1.178243</td>\n",
              "      <td>5</td>\n",
              "    </tr>\n",
              "    <tr>\n",
              "      <th>6</th>\n",
              "      <td>-0.797779</td>\n",
              "      <td>-0.978545</td>\n",
              "      <td>0.384501</td>\n",
              "      <td>0.380738</td>\n",
              "      <td>-0.856687</td>\n",
              "      <td>-0.352582</td>\n",
              "      <td>-0.570462</td>\n",
              "      <td>-0.824974</td>\n",
              "      <td>6</td>\n",
              "    </tr>\n",
              "    <tr>\n",
              "      <th>7</th>\n",
              "      <td>-0.650390</td>\n",
              "      <td>-0.422931</td>\n",
              "      <td>1.179549</td>\n",
              "      <td>-0.691950</td>\n",
              "      <td>-1.667790</td>\n",
              "      <td>-0.231548</td>\n",
              "      <td>-0.693411</td>\n",
              "      <td>0.699831</td>\n",
              "      <td>7</td>\n",
              "    </tr>\n",
              "    <tr>\n",
              "      <th>8</th>\n",
              "      <td>1.088163</td>\n",
              "      <td>0.952765</td>\n",
              "      <td>-0.477168</td>\n",
              "      <td>-0.360398</td>\n",
              "      <td>1.219536</td>\n",
              "      <td>1.205528</td>\n",
              "      <td>0.272383</td>\n",
              "      <td>0.282500</td>\n",
              "      <td>8</td>\n",
              "    </tr>\n",
              "    <tr>\n",
              "      <th>9</th>\n",
              "      <td>1.630783</td>\n",
              "      <td>0.584578</td>\n",
              "      <td>-0.560246</td>\n",
              "      <td>0.309074</td>\n",
              "      <td>0.779706</td>\n",
              "      <td>-1.065950</td>\n",
              "      <td>0.721009</td>\n",
              "      <td>-0.398669</td>\n",
              "      <td>9</td>\n",
              "    </tr>\n",
              "  </tbody>\n",
              "</table>\n",
              "</div>"
            ],
            "text/plain": [
              "   Patm_Avg    RH_Avg  Text_Avg  ...    FG_Avg        Kb  prediction\n",
              "0 -0.275557 -0.722013 -0.715922  ... -0.168770 -0.730015           0\n",
              "1 -0.340935  0.533095 -0.326137  ... -0.392674  1.317157           1\n",
              "2  0.822452  0.008067  0.963398  ...  0.044669 -0.510161           2\n",
              "3  0.037319  0.996029  1.071788  ...  0.205584  1.237211           3\n",
              "4 -0.867298 -1.029895 -0.838981  ... -0.582770 -0.905580           4\n",
              "5  0.182924  1.368240 -0.440915  ...  2.272176  1.178243           5\n",
              "6 -0.797779 -0.978545  0.384501  ... -0.570462 -0.824974           6\n",
              "7 -0.650390 -0.422931  1.179549  ... -0.693411  0.699831           7\n",
              "8  1.088163  0.952765 -0.477168  ...  0.272383  0.282500           8\n",
              "9  1.630783  0.584578 -0.560246  ...  0.721009 -0.398669           9\n",
              "\n",
              "[10 rows x 9 columns]"
            ]
          },
          "metadata": {
            "tags": []
          },
          "execution_count": 10
        }
      ]
    },
    {
      "cell_type": "code",
      "metadata": {
        "id": "Ff95vjRE_joL",
        "outputId": "25cf21c5-0f43-4fd5-eebc-4bfcb7b98138"
      },
      "source": [
        "P.shape"
      ],
      "execution_count": null,
      "outputs": [
        {
          "output_type": "execute_result",
          "data": {
            "text/plain": [
              "(6, 8)"
            ]
          },
          "metadata": {
            "tags": []
          },
          "execution_count": 83
        }
      ]
    },
    {
      "cell_type": "code",
      "metadata": {
        "id": "fat_MgzN_joL",
        "outputId": "f2824d50-56ab-43c9-ef6d-acf4c208fb1f"
      },
      "source": [
        "parallel_plot(P[P['Kb'] > 0.5])"
      ],
      "execution_count": null,
      "outputs": [
        {
          "output_type": "display_data",
          "data": {
            "image/png": "[encoded data removed]",
            "text/plain": [
              "<Figure size 1080x576 with 1 Axes>"
            ]
          },
          "metadata": {
            "tags": []
          }
        }
      ]
    },
    {
      "cell_type": "markdown",
      "metadata": {
        "id": "hbC8sJvu_joM"
      },
      "source": [
        "DAY ANALYSIS ON VA JUSTE AGGREGER EN JOUR"
      ]
    },
    {
      "cell_type": "code",
      "metadata": {
        "id": "mchnHFng_joM"
      },
      "source": [
        "possession_cluster = pd.read_csv(\"possession_2014_2015.csv\")\n",
        "possession_cluster[\"Kb\"]=(possession_cluster[\"FG_Avg\"]-possession_cluster[\"FD_Avg\"])/possession_cluster[\"FG_Avg\"]\n",
        "\n",
        "possession_cluster['Timestamp'] = pd.to_datetime(possession_cluster['Timestamp'], format='%Y%m%d %H:%M:%S')\n",
        "\n",
        "data_daily_possession_cluster = possession_cluster.resample('D',on='Timestamp').mean()\n",
        "\n",
        "data_daily_possession_cluster=data_daily_possession_cluster[data_daily_possession_cluster[\"Kb\"]>=0]\n",
        "data_daily_possession_cluster=data_daily_possession_cluster[data_daily_possession_cluster[\"Kb\"]<=1]"
      ],
      "execution_count": null,
      "outputs": []
    },
    {
      "cell_type": "code",
      "metadata": {
        "id": "XM_oNAm__joN",
        "outputId": "5d4122c7-9c49-4aab-ff35-58ec2daac83c"
      },
      "source": [
        "data_daily_possession_cluster"
      ],
      "execution_count": null,
      "outputs": [
        {
          "output_type": "execute_result",
          "data": {
            "text/html": [
              "<div>\n",
              "<style scoped>\n",
              "    .dataframe tbody tr th:only-of-type {\n",
              "        vertical-align: middle;\n",
              "    }\n",
              "\n",
              "    .dataframe tbody tr th {\n",
              "        vertical-align: top;\n",
              "    }\n",
              "\n",
              "    .dataframe thead th {\n",
              "        text-align: right;\n",
              "    }\n",
              "</style>\n",
              "<table border=\"1\" class=\"dataframe\">\n",
              "  <thead>\n",
              "    <tr style=\"text-align: right;\">\n",
              "      <th></th>\n",
              "      <th>FD_Avg</th>\n",
              "      <th>FG_Avg</th>\n",
              "      <th>Patm_Avg</th>\n",
              "      <th>RH_Avg</th>\n",
              "      <th>Text_Avg</th>\n",
              "      <th>WD_MeanUnitVector</th>\n",
              "      <th>WS_Mean</th>\n",
              "      <th>Kb</th>\n",
              "    </tr>\n",
              "    <tr>\n",
              "      <th>Timestamp</th>\n",
              "      <th></th>\n",
              "      <th></th>\n",
              "      <th></th>\n",
              "      <th></th>\n",
              "      <th></th>\n",
              "      <th></th>\n",
              "      <th></th>\n",
              "      <th></th>\n",
              "    </tr>\n",
              "  </thead>\n",
              "  <tbody>\n",
              "    <tr>\n",
              "      <th>2014-01-04</th>\n",
              "      <td>102.561238</td>\n",
              "      <td>269.003907</td>\n",
              "      <td>1006.159067</td>\n",
              "      <td>78.261156</td>\n",
              "      <td>26.388101</td>\n",
              "      <td>202.134713</td>\n",
              "      <td>1.744537</td>\n",
              "      <td>0.157669</td>\n",
              "    </tr>\n",
              "    <tr>\n",
              "      <th>2014-01-05</th>\n",
              "      <td>73.162226</td>\n",
              "      <td>323.037893</td>\n",
              "      <td>1008.645921</td>\n",
              "      <td>67.018401</td>\n",
              "      <td>26.935891</td>\n",
              "      <td>85.605432</td>\n",
              "      <td>2.352500</td>\n",
              "      <td>0.297316</td>\n",
              "    </tr>\n",
              "    <tr>\n",
              "      <th>2014-01-06</th>\n",
              "      <td>134.228356</td>\n",
              "      <td>190.194994</td>\n",
              "      <td>1009.182888</td>\n",
              "      <td>72.428332</td>\n",
              "      <td>26.820555</td>\n",
              "      <td>71.486256</td>\n",
              "      <td>2.903032</td>\n",
              "      <td>0.050786</td>\n",
              "    </tr>\n",
              "    <tr>\n",
              "      <th>2014-01-07</th>\n",
              "      <td>118.193183</td>\n",
              "      <td>198.548574</td>\n",
              "      <td>1007.978231</td>\n",
              "      <td>68.790866</td>\n",
              "      <td>27.043634</td>\n",
              "      <td>64.460464</td>\n",
              "      <td>2.832257</td>\n",
              "      <td>0.136916</td>\n",
              "    </tr>\n",
              "    <tr>\n",
              "      <th>2014-01-08</th>\n",
              "      <td>173.576623</td>\n",
              "      <td>294.764318</td>\n",
              "      <td>1008.868868</td>\n",
              "      <td>73.394837</td>\n",
              "      <td>27.072743</td>\n",
              "      <td>45.915869</td>\n",
              "      <td>2.911759</td>\n",
              "      <td>0.176876</td>\n",
              "    </tr>\n",
              "    <tr>\n",
              "      <th>...</th>\n",
              "      <td>...</td>\n",
              "      <td>...</td>\n",
              "      <td>...</td>\n",
              "      <td>...</td>\n",
              "      <td>...</td>\n",
              "      <td>...</td>\n",
              "      <td>...</td>\n",
              "      <td>...</td>\n",
              "    </tr>\n",
              "    <tr>\n",
              "      <th>2015-12-25</th>\n",
              "      <td>92.466656</td>\n",
              "      <td>281.203594</td>\n",
              "      <td>1013.431585</td>\n",
              "      <td>57.520541</td>\n",
              "      <td>28.193530</td>\n",
              "      <td>162.917500</td>\n",
              "      <td>1.677882</td>\n",
              "      <td>0.288402</td>\n",
              "    </tr>\n",
              "    <tr>\n",
              "      <th>2015-12-26</th>\n",
              "      <td>107.661090</td>\n",
              "      <td>206.168118</td>\n",
              "      <td>1012.019619</td>\n",
              "      <td>61.018423</td>\n",
              "      <td>27.327835</td>\n",
              "      <td>165.045783</td>\n",
              "      <td>1.707894</td>\n",
              "      <td>0.094358</td>\n",
              "    </tr>\n",
              "    <tr>\n",
              "      <th>2015-12-27</th>\n",
              "      <td>96.994571</td>\n",
              "      <td>286.098876</td>\n",
              "      <td>1011.799731</td>\n",
              "      <td>63.396977</td>\n",
              "      <td>27.346203</td>\n",
              "      <td>126.167035</td>\n",
              "      <td>2.042338</td>\n",
              "      <td>0.257560</td>\n",
              "    </tr>\n",
              "    <tr>\n",
              "      <th>2015-12-28</th>\n",
              "      <td>94.880279</td>\n",
              "      <td>248.578797</td>\n",
              "      <td>1013.371041</td>\n",
              "      <td>59.740033</td>\n",
              "      <td>27.616423</td>\n",
              "      <td>110.307500</td>\n",
              "      <td>2.180613</td>\n",
              "      <td>0.236025</td>\n",
              "    </tr>\n",
              "    <tr>\n",
              "      <th>2015-12-29</th>\n",
              "      <td>98.042908</td>\n",
              "      <td>342.594602</td>\n",
              "      <td>1013.297387</td>\n",
              "      <td>55.457868</td>\n",
              "      <td>28.757893</td>\n",
              "      <td>170.469219</td>\n",
              "      <td>1.800741</td>\n",
              "      <td>0.314192</td>\n",
              "    </tr>\n",
              "  </tbody>\n",
              "</table>\n",
              "<p>550 rows × 8 columns</p>\n",
              "</div>"
            ],
            "text/plain": [
              "                FD_Avg      FG_Avg     Patm_Avg     RH_Avg   Text_Avg  \\\n",
              "Timestamp                                                               \n",
              "2014-01-04  102.561238  269.003907  1006.159067  78.261156  26.388101   \n",
              "2014-01-05   73.162226  323.037893  1008.645921  67.018401  26.935891   \n",
              "2014-01-06  134.228356  190.194994  1009.182888  72.428332  26.820555   \n",
              "2014-01-07  118.193183  198.548574  1007.978231  68.790866  27.043634   \n",
              "2014-01-08  173.576623  294.764318  1008.868868  73.394837  27.072743   \n",
              "...                ...         ...          ...        ...        ...   \n",
              "2015-12-25   92.466656  281.203594  1013.431585  57.520541  28.193530   \n",
              "2015-12-26  107.661090  206.168118  1012.019619  61.018423  27.327835   \n",
              "2015-12-27   96.994571  286.098876  1011.799731  63.396977  27.346203   \n",
              "2015-12-28   94.880279  248.578797  1013.371041  59.740033  27.616423   \n",
              "2015-12-29   98.042908  342.594602  1013.297387  55.457868  28.757893   \n",
              "\n",
              "            WD_MeanUnitVector   WS_Mean        Kb  \n",
              "Timestamp                                          \n",
              "2014-01-04         202.134713  1.744537  0.157669  \n",
              "2014-01-05          85.605432  2.352500  0.297316  \n",
              "2014-01-06          71.486256  2.903032  0.050786  \n",
              "2014-01-07          64.460464  2.832257  0.136916  \n",
              "2014-01-08          45.915869  2.911759  0.176876  \n",
              "...                       ...       ...       ...  \n",
              "2015-12-25         162.917500  1.677882  0.288402  \n",
              "2015-12-26         165.045783  1.707894  0.094358  \n",
              "2015-12-27         126.167035  2.042338  0.257560  \n",
              "2015-12-28         110.307500  2.180613  0.236025  \n",
              "2015-12-29         170.469219  1.800741  0.314192  \n",
              "\n",
              "[550 rows x 8 columns]"
            ]
          },
          "metadata": {
            "tags": []
          },
          "execution_count": 270
        }
      ]
    },
    {
      "cell_type": "code",
      "metadata": {
        "id": "QdJ9AWGW_joN",
        "outputId": "859930eb-6225-494c-ccc1-59eddf80e174"
      },
      "source": [
        "import os\n",
        "import math\n",
        "# Essential Libraries\n",
        "import pandas as pd\n",
        "import matplotlib.pyplot as plt\n",
        "import numpy as np\n",
        "# Preprocessing\n",
        "from sklearn.preprocessing import MinMaxScaler\n",
        "# Algorithms\n",
        "from minisom import MiniSom\n",
        "from tslearn.barycenters import dtw_barycenter_averaging\n",
        "from tslearn.clustering import TimeSeriesKMeans\n",
        "from sklearn.cluster import KMeans\n",
        "\n",
        "from sklearn.decomposition import PCA\n",
        "\n",
        "from sklearn.preprocessing import StandardScaler\n",
        "\n",
        "data_daily_possession_cluster = StandardScaler().fit_transform(data_daily_possession_cluster)\n",
        "\n",
        "kmeans = KMeans(n_clusters=10)\n",
        "model = kmeans.fit(data_daily_possession_cluster)##### d_stamp c'était les données de 2014\n",
        "print(\"model\\n\", model)"
      ],
      "execution_count": null,
      "outputs": [
        {
          "output_type": "stream",
          "text": [
            "model\n",
            " KMeans(n_clusters=10)\n"
          ],
          "name": "stdout"
        }
      ]
    },
    {
      "cell_type": "code",
      "metadata": {
        "id": "D7A5KImQ_joO"
      },
      "source": [
        "from itertools import cycle, islice\n",
        "from pandas.plotting import parallel_coordinates\n",
        "\n",
        "def pd_centers(featuresUsed, centers):\n",
        "    colNames = list(featuresUsed)\n",
        "    colNames.append('prediction')\n",
        "\n",
        "    Z = [np.append(A, index) for index, A in enumerate(centers)]\n",
        "    \n",
        "    P = pd.DataFrame(Z, columns=colNames)\n",
        "    P['prediction'] = P['prediction'].astype(int)\n",
        "    return P"
      ],
      "execution_count": null,
      "outputs": []
    },
    {
      "cell_type": "code",
      "metadata": {
        "id": "5t0fJ0Ro_joO"
      },
      "source": [
        "def parallel_plot(data):\n",
        "    my_colors = list(islice(cycle(['b', 'r', 'g', 'y', 'k']), None, len(data)))\n",
        "    plt.figure(figsize=(15,8)).gca().axes.set_ylim([-3,+3])\n",
        "    parallel_coordinates(data, 'prediction', color = my_colors, marker='o')"
      ],
      "execution_count": null,
      "outputs": []
    },
    {
      "cell_type": "code",
      "metadata": {
        "id": "OZojvJln_joO"
      },
      "source": [
        "features=[\"Patm_Avg\",\"RH_Avg\",\"Text_Avg\",\"WD_MeanUnitVector\", \"WS_Mean\",\"FD_Avg\",\"FG_Avg\",\"Kb\"]"
      ],
      "execution_count": null,
      "outputs": []
    },
    {
      "cell_type": "code",
      "metadata": {
        "id": "Dwr5RgHi_joO",
        "outputId": "b2f517a4-0b52-4c63-cfa7-5cc81ac2bacf"
      },
      "source": [
        "centers = model.cluster_centers_\n",
        "centers"
      ],
      "execution_count": null,
      "outputs": [
        {
          "output_type": "execute_result",
          "data": {
            "text/plain": [
              "array([[ 0.4560252 , -0.11064349, -0.28765894,  0.22398729,  0.6883026 ,\n",
              "         0.31417055, -0.35793362,  0.36232199],\n",
              "       [-0.19375566, -1.30811766, -0.31461569,  1.06720131,  0.19908245,\n",
              "        -0.33541621, -0.66705546, -0.59221326],\n",
              "       [-0.23138267,  1.11881222, -0.7318234 , -0.38544658,  0.780333  ,\n",
              "         0.62414817, -0.02341788,  1.39801138],\n",
              "       [ 1.74392422,  0.41240584, -0.52421514,  0.40898374,  0.64641533,\n",
              "        -1.86803006,  1.75354858, -0.11196596],\n",
              "       [ 0.02769929,  1.17608886, -0.71895496,  0.50431431,  0.77747877,\n",
              "        -1.09596714,  0.20970531,  1.21524217],\n",
              "       [ 0.59938435,  0.43164373,  0.84608548, -0.68341941, -0.83784843,\n",
              "         0.45771667, -0.13933001, -0.74514075],\n",
              "       [-0.9188211 , -0.55130607,  0.40232716, -0.4025925 , -0.6631879 ,\n",
              "         0.26606392, -0.00867123, -0.3209201 ],\n",
              "       [-0.90364158, -0.3575029 ,  1.47303824, -1.13447404, -1.5928563 ,\n",
              "         0.86681306, -0.27494881, -0.98127673],\n",
              "       [ 1.51958313, -0.56531606, -1.21542856,  1.19531609,  0.84654595,\n",
              "        -0.14747015, -0.37491824, -0.64047743],\n",
              "       [-0.77816622,  1.26359938, -0.13415324, -0.20818217,  0.19001047,\n",
              "        -1.62633676,  2.85042652,  1.34848917]])"
            ]
          },
          "metadata": {
            "tags": []
          },
          "execution_count": 283
        }
      ]
    },
    {
      "cell_type": "code",
      "metadata": {
        "id": "lU8zS3Z-_joP",
        "outputId": "d090f258-d7a2-4435-bd0c-f210bd93df6a"
      },
      "source": [
        "P = pd_centers(features, centers)\n",
        "P"
      ],
      "execution_count": null,
      "outputs": [
        {
          "output_type": "execute_result",
          "data": {
            "text/html": [
              "<div>\n",
              "<style scoped>\n",
              "    .dataframe tbody tr th:only-of-type {\n",
              "        vertical-align: middle;\n",
              "    }\n",
              "\n",
              "    .dataframe tbody tr th {\n",
              "        vertical-align: top;\n",
              "    }\n",
              "\n",
              "    .dataframe thead th {\n",
              "        text-align: right;\n",
              "    }\n",
              "</style>\n",
              "<table border=\"1\" class=\"dataframe\">\n",
              "  <thead>\n",
              "    <tr style=\"text-align: right;\">\n",
              "      <th></th>\n",
              "      <th>Patm_Avg</th>\n",
              "      <th>RH_Avg</th>\n",
              "      <th>Text_Avg</th>\n",
              "      <th>WD_MeanUnitVector</th>\n",
              "      <th>WS_Mean</th>\n",
              "      <th>FD_Avg</th>\n",
              "      <th>FG_Avg</th>\n",
              "      <th>Kb</th>\n",
              "      <th>prediction</th>\n",
              "    </tr>\n",
              "  </thead>\n",
              "  <tbody>\n",
              "    <tr>\n",
              "      <th>0</th>\n",
              "      <td>0.456025</td>\n",
              "      <td>-0.110643</td>\n",
              "      <td>-0.287659</td>\n",
              "      <td>0.223987</td>\n",
              "      <td>0.688303</td>\n",
              "      <td>0.314171</td>\n",
              "      <td>-0.357934</td>\n",
              "      <td>0.362322</td>\n",
              "      <td>0</td>\n",
              "    </tr>\n",
              "    <tr>\n",
              "      <th>1</th>\n",
              "      <td>-0.193756</td>\n",
              "      <td>-1.308118</td>\n",
              "      <td>-0.314616</td>\n",
              "      <td>1.067201</td>\n",
              "      <td>0.199082</td>\n",
              "      <td>-0.335416</td>\n",
              "      <td>-0.667055</td>\n",
              "      <td>-0.592213</td>\n",
              "      <td>1</td>\n",
              "    </tr>\n",
              "    <tr>\n",
              "      <th>2</th>\n",
              "      <td>-0.231383</td>\n",
              "      <td>1.118812</td>\n",
              "      <td>-0.731823</td>\n",
              "      <td>-0.385447</td>\n",
              "      <td>0.780333</td>\n",
              "      <td>0.624148</td>\n",
              "      <td>-0.023418</td>\n",
              "      <td>1.398011</td>\n",
              "      <td>2</td>\n",
              "    </tr>\n",
              "    <tr>\n",
              "      <th>3</th>\n",
              "      <td>1.743924</td>\n",
              "      <td>0.412406</td>\n",
              "      <td>-0.524215</td>\n",
              "      <td>0.408984</td>\n",
              "      <td>0.646415</td>\n",
              "      <td>-1.868030</td>\n",
              "      <td>1.753549</td>\n",
              "      <td>-0.111966</td>\n",
              "      <td>3</td>\n",
              "    </tr>\n",
              "    <tr>\n",
              "      <th>4</th>\n",
              "      <td>0.027699</td>\n",
              "      <td>1.176089</td>\n",
              "      <td>-0.718955</td>\n",
              "      <td>0.504314</td>\n",
              "      <td>0.777479</td>\n",
              "      <td>-1.095967</td>\n",
              "      <td>0.209705</td>\n",
              "      <td>1.215242</td>\n",
              "      <td>4</td>\n",
              "    </tr>\n",
              "    <tr>\n",
              "      <th>5</th>\n",
              "      <td>0.599384</td>\n",
              "      <td>0.431644</td>\n",
              "      <td>0.846085</td>\n",
              "      <td>-0.683419</td>\n",
              "      <td>-0.837848</td>\n",
              "      <td>0.457717</td>\n",
              "      <td>-0.139330</td>\n",
              "      <td>-0.745141</td>\n",
              "      <td>5</td>\n",
              "    </tr>\n",
              "    <tr>\n",
              "      <th>6</th>\n",
              "      <td>-0.918821</td>\n",
              "      <td>-0.551306</td>\n",
              "      <td>0.402327</td>\n",
              "      <td>-0.402593</td>\n",
              "      <td>-0.663188</td>\n",
              "      <td>0.266064</td>\n",
              "      <td>-0.008671</td>\n",
              "      <td>-0.320920</td>\n",
              "      <td>6</td>\n",
              "    </tr>\n",
              "    <tr>\n",
              "      <th>7</th>\n",
              "      <td>-0.903642</td>\n",
              "      <td>-0.357503</td>\n",
              "      <td>1.473038</td>\n",
              "      <td>-1.134474</td>\n",
              "      <td>-1.592856</td>\n",
              "      <td>0.866813</td>\n",
              "      <td>-0.274949</td>\n",
              "      <td>-0.981277</td>\n",
              "      <td>7</td>\n",
              "    </tr>\n",
              "    <tr>\n",
              "      <th>8</th>\n",
              "      <td>1.519583</td>\n",
              "      <td>-0.565316</td>\n",
              "      <td>-1.215429</td>\n",
              "      <td>1.195316</td>\n",
              "      <td>0.846546</td>\n",
              "      <td>-0.147470</td>\n",
              "      <td>-0.374918</td>\n",
              "      <td>-0.640477</td>\n",
              "      <td>8</td>\n",
              "    </tr>\n",
              "    <tr>\n",
              "      <th>9</th>\n",
              "      <td>-0.778166</td>\n",
              "      <td>1.263599</td>\n",
              "      <td>-0.134153</td>\n",
              "      <td>-0.208182</td>\n",
              "      <td>0.190010</td>\n",
              "      <td>-1.626337</td>\n",
              "      <td>2.850427</td>\n",
              "      <td>1.348489</td>\n",
              "      <td>9</td>\n",
              "    </tr>\n",
              "  </tbody>\n",
              "</table>\n",
              "</div>"
            ],
            "text/plain": [
              "   Patm_Avg    RH_Avg  Text_Avg  WD_MeanUnitVector   WS_Mean    FD_Avg  \\\n",
              "0  0.456025 -0.110643 -0.287659           0.223987  0.688303  0.314171   \n",
              "1 -0.193756 -1.308118 -0.314616           1.067201  0.199082 -0.335416   \n",
              "2 -0.231383  1.118812 -0.731823          -0.385447  0.780333  0.624148   \n",
              "3  1.743924  0.412406 -0.524215           0.408984  0.646415 -1.868030   \n",
              "4  0.027699  1.176089 -0.718955           0.504314  0.777479 -1.095967   \n",
              "5  0.599384  0.431644  0.846085          -0.683419 -0.837848  0.457717   \n",
              "6 -0.918821 -0.551306  0.402327          -0.402593 -0.663188  0.266064   \n",
              "7 -0.903642 -0.357503  1.473038          -1.134474 -1.592856  0.866813   \n",
              "8  1.519583 -0.565316 -1.215429           1.195316  0.846546 -0.147470   \n",
              "9 -0.778166  1.263599 -0.134153          -0.208182  0.190010 -1.626337   \n",
              "\n",
              "     FG_Avg        Kb  prediction  \n",
              "0 -0.357934  0.362322           0  \n",
              "1 -0.667055 -0.592213           1  \n",
              "2 -0.023418  1.398011           2  \n",
              "3  1.753549 -0.111966           3  \n",
              "4  0.209705  1.215242           4  \n",
              "5 -0.139330 -0.745141           5  \n",
              "6 -0.008671 -0.320920           6  \n",
              "7 -0.274949 -0.981277           7  \n",
              "8 -0.374918 -0.640477           8  \n",
              "9  2.850427  1.348489           9  "
            ]
          },
          "metadata": {
            "tags": []
          },
          "execution_count": 284
        }
      ]
    },
    {
      "cell_type": "code",
      "metadata": {
        "id": "RjKXLfdz_joP"
      },
      "source": [
        ""
      ],
      "execution_count": null,
      "outputs": []
    },
    {
      "cell_type": "code",
      "metadata": {
        "id": "vi9XiIG8_joQ",
        "outputId": "60087896-889a-4950-9f72-02b507ee7309"
      },
      "source": [
        "parallel_plot(P[P['FG_Avg'] < 0])"
      ],
      "execution_count": null,
      "outputs": [
        {
          "output_type": "display_data",
          "data": {
            "image/png": "[encoded data removed]",
            "text/plain": [
              "<Figure size 1080x576 with 1 Axes>"
            ]
          },
          "metadata": {
            "tags": []
          }
        }
      ]
    }
  ]
}